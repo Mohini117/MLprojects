{
  "metadata": {
    "kernelspec": {
      "language": "python",
      "display_name": "Python 3",
      "name": "python3"
    },
    "language_info": {
      "name": "python",
      "version": "3.10.13",
      "mimetype": "text/x-python",
      "codemirror_mode": {
        "name": "ipython",
        "version": 3
      },
      "pygments_lexer": "ipython3",
      "nbconvert_exporter": "python",
      "file_extension": ".py"
    },
    "kaggle": {
      "accelerator": "none",
      "dataSources": [
        {
          "sourceId": 18513,
          "sourceType": "datasetVersion",
          "datasetId": 13720
        }
      ],
      "dockerImageVersionId": 30673,
      "isInternetEnabled": true,
      "language": "python",
      "sourceType": "notebook",
      "isGpuEnabled": false
    },
    "colab": {
      "provenance": []
    }
  },
  "nbformat_minor": 0,
  "nbformat": 4,
  "cells": [
    {
      "source": [
        "import numpy as np # linear algebra\n",
        "import pandas as pd\n"
      ],
      "metadata": {
        "id": "-25a4_FaN44b"
      },
      "cell_type": "code",
      "outputs": [],
      "execution_count": 1
    },
    {
      "cell_type": "code",
      "source": [
        "df = pd.read_csv(\"insurance.csv\")\n",
        "df.head(3)"
      ],
      "metadata": {
        "trusted": true,
        "colab": {
          "base_uri": "https://localhost:8080/",
          "height": 143
        },
        "id": "7XOkd18eN44k",
        "outputId": "c3cd39c1-bee4-4790-a9f4-f20e20d33a38"
      },
      "execution_count": 2,
      "outputs": [
        {
          "output_type": "execute_result",
          "data": {
            "text/plain": [
              "   age     sex    bmi  children smoker     region     charges\n",
              "0   19  female  27.90         0    yes  southwest  16884.9240\n",
              "1   18    male  33.77         1     no  southeast   1725.5523\n",
              "2   28    male  33.00         3     no  southeast   4449.4620"
            ],
            "text/html": [
              "\n",
              "  <div id=\"df-a7dbbf9e-8f71-4d2b-85d6-6db7074e84d9\" class=\"colab-df-container\">\n",
              "    <div>\n",
              "<style scoped>\n",
              "    .dataframe tbody tr th:only-of-type {\n",
              "        vertical-align: middle;\n",
              "    }\n",
              "\n",
              "    .dataframe tbody tr th {\n",
              "        vertical-align: top;\n",
              "    }\n",
              "\n",
              "    .dataframe thead th {\n",
              "        text-align: right;\n",
              "    }\n",
              "</style>\n",
              "<table border=\"1\" class=\"dataframe\">\n",
              "  <thead>\n",
              "    <tr style=\"text-align: right;\">\n",
              "      <th></th>\n",
              "      <th>age</th>\n",
              "      <th>sex</th>\n",
              "      <th>bmi</th>\n",
              "      <th>children</th>\n",
              "      <th>smoker</th>\n",
              "      <th>region</th>\n",
              "      <th>charges</th>\n",
              "    </tr>\n",
              "  </thead>\n",
              "  <tbody>\n",
              "    <tr>\n",
              "      <th>0</th>\n",
              "      <td>19</td>\n",
              "      <td>female</td>\n",
              "      <td>27.90</td>\n",
              "      <td>0</td>\n",
              "      <td>yes</td>\n",
              "      <td>southwest</td>\n",
              "      <td>16884.9240</td>\n",
              "    </tr>\n",
              "    <tr>\n",
              "      <th>1</th>\n",
              "      <td>18</td>\n",
              "      <td>male</td>\n",
              "      <td>33.77</td>\n",
              "      <td>1</td>\n",
              "      <td>no</td>\n",
              "      <td>southeast</td>\n",
              "      <td>1725.5523</td>\n",
              "    </tr>\n",
              "    <tr>\n",
              "      <th>2</th>\n",
              "      <td>28</td>\n",
              "      <td>male</td>\n",
              "      <td>33.00</td>\n",
              "      <td>3</td>\n",
              "      <td>no</td>\n",
              "      <td>southeast</td>\n",
              "      <td>4449.4620</td>\n",
              "    </tr>\n",
              "  </tbody>\n",
              "</table>\n",
              "</div>\n",
              "    <div class=\"colab-df-buttons\">\n",
              "\n",
              "  <div class=\"colab-df-container\">\n",
              "    <button class=\"colab-df-convert\" onclick=\"convertToInteractive('df-a7dbbf9e-8f71-4d2b-85d6-6db7074e84d9')\"\n",
              "            title=\"Convert this dataframe to an interactive table.\"\n",
              "            style=\"display:none;\">\n",
              "\n",
              "  <svg xmlns=\"http://www.w3.org/2000/svg\" height=\"24px\" viewBox=\"0 -960 960 960\">\n",
              "    <path d=\"M120-120v-720h720v720H120Zm60-500h600v-160H180v160Zm220 220h160v-160H400v160Zm0 220h160v-160H400v160ZM180-400h160v-160H180v160Zm440 0h160v-160H620v160ZM180-180h160v-160H180v160Zm440 0h160v-160H620v160Z\"/>\n",
              "  </svg>\n",
              "    </button>\n",
              "\n",
              "  <style>\n",
              "    .colab-df-container {\n",
              "      display:flex;\n",
              "      gap: 12px;\n",
              "    }\n",
              "\n",
              "    .colab-df-convert {\n",
              "      background-color: #E8F0FE;\n",
              "      border: none;\n",
              "      border-radius: 50%;\n",
              "      cursor: pointer;\n",
              "      display: none;\n",
              "      fill: #1967D2;\n",
              "      height: 32px;\n",
              "      padding: 0 0 0 0;\n",
              "      width: 32px;\n",
              "    }\n",
              "\n",
              "    .colab-df-convert:hover {\n",
              "      background-color: #E2EBFA;\n",
              "      box-shadow: 0px 1px 2px rgba(60, 64, 67, 0.3), 0px 1px 3px 1px rgba(60, 64, 67, 0.15);\n",
              "      fill: #174EA6;\n",
              "    }\n",
              "\n",
              "    .colab-df-buttons div {\n",
              "      margin-bottom: 4px;\n",
              "    }\n",
              "\n",
              "    [theme=dark] .colab-df-convert {\n",
              "      background-color: #3B4455;\n",
              "      fill: #D2E3FC;\n",
              "    }\n",
              "\n",
              "    [theme=dark] .colab-df-convert:hover {\n",
              "      background-color: #434B5C;\n",
              "      box-shadow: 0px 1px 3px 1px rgba(0, 0, 0, 0.15);\n",
              "      filter: drop-shadow(0px 1px 2px rgba(0, 0, 0, 0.3));\n",
              "      fill: #FFFFFF;\n",
              "    }\n",
              "  </style>\n",
              "\n",
              "    <script>\n",
              "      const buttonEl =\n",
              "        document.querySelector('#df-a7dbbf9e-8f71-4d2b-85d6-6db7074e84d9 button.colab-df-convert');\n",
              "      buttonEl.style.display =\n",
              "        google.colab.kernel.accessAllowed ? 'block' : 'none';\n",
              "\n",
              "      async function convertToInteractive(key) {\n",
              "        const element = document.querySelector('#df-a7dbbf9e-8f71-4d2b-85d6-6db7074e84d9');\n",
              "        const dataTable =\n",
              "          await google.colab.kernel.invokeFunction('convertToInteractive',\n",
              "                                                    [key], {});\n",
              "        if (!dataTable) return;\n",
              "\n",
              "        const docLinkHtml = 'Like what you see? Visit the ' +\n",
              "          '<a target=\"_blank\" href=https://colab.research.google.com/notebooks/data_table.ipynb>data table notebook</a>'\n",
              "          + ' to learn more about interactive tables.';\n",
              "        element.innerHTML = '';\n",
              "        dataTable['output_type'] = 'display_data';\n",
              "        await google.colab.output.renderOutput(dataTable, element);\n",
              "        const docLink = document.createElement('div');\n",
              "        docLink.innerHTML = docLinkHtml;\n",
              "        element.appendChild(docLink);\n",
              "      }\n",
              "    </script>\n",
              "  </div>\n",
              "\n",
              "\n",
              "<div id=\"df-6d4559f4-8287-4f9a-bef0-5de5da51dd01\">\n",
              "  <button class=\"colab-df-quickchart\" onclick=\"quickchart('df-6d4559f4-8287-4f9a-bef0-5de5da51dd01')\"\n",
              "            title=\"Suggest charts\"\n",
              "            style=\"display:none;\">\n",
              "\n",
              "<svg xmlns=\"http://www.w3.org/2000/svg\" height=\"24px\"viewBox=\"0 0 24 24\"\n",
              "     width=\"24px\">\n",
              "    <g>\n",
              "        <path d=\"M19 3H5c-1.1 0-2 .9-2 2v14c0 1.1.9 2 2 2h14c1.1 0 2-.9 2-2V5c0-1.1-.9-2-2-2zM9 17H7v-7h2v7zm4 0h-2V7h2v10zm4 0h-2v-4h2v4z\"/>\n",
              "    </g>\n",
              "</svg>\n",
              "  </button>\n",
              "\n",
              "<style>\n",
              "  .colab-df-quickchart {\n",
              "      --bg-color: #E8F0FE;\n",
              "      --fill-color: #1967D2;\n",
              "      --hover-bg-color: #E2EBFA;\n",
              "      --hover-fill-color: #174EA6;\n",
              "      --disabled-fill-color: #AAA;\n",
              "      --disabled-bg-color: #DDD;\n",
              "  }\n",
              "\n",
              "  [theme=dark] .colab-df-quickchart {\n",
              "      --bg-color: #3B4455;\n",
              "      --fill-color: #D2E3FC;\n",
              "      --hover-bg-color: #434B5C;\n",
              "      --hover-fill-color: #FFFFFF;\n",
              "      --disabled-bg-color: #3B4455;\n",
              "      --disabled-fill-color: #666;\n",
              "  }\n",
              "\n",
              "  .colab-df-quickchart {\n",
              "    background-color: var(--bg-color);\n",
              "    border: none;\n",
              "    border-radius: 50%;\n",
              "    cursor: pointer;\n",
              "    display: none;\n",
              "    fill: var(--fill-color);\n",
              "    height: 32px;\n",
              "    padding: 0;\n",
              "    width: 32px;\n",
              "  }\n",
              "\n",
              "  .colab-df-quickchart:hover {\n",
              "    background-color: var(--hover-bg-color);\n",
              "    box-shadow: 0 1px 2px rgba(60, 64, 67, 0.3), 0 1px 3px 1px rgba(60, 64, 67, 0.15);\n",
              "    fill: var(--button-hover-fill-color);\n",
              "  }\n",
              "\n",
              "  .colab-df-quickchart-complete:disabled,\n",
              "  .colab-df-quickchart-complete:disabled:hover {\n",
              "    background-color: var(--disabled-bg-color);\n",
              "    fill: var(--disabled-fill-color);\n",
              "    box-shadow: none;\n",
              "  }\n",
              "\n",
              "  .colab-df-spinner {\n",
              "    border: 2px solid var(--fill-color);\n",
              "    border-color: transparent;\n",
              "    border-bottom-color: var(--fill-color);\n",
              "    animation:\n",
              "      spin 1s steps(1) infinite;\n",
              "  }\n",
              "\n",
              "  @keyframes spin {\n",
              "    0% {\n",
              "      border-color: transparent;\n",
              "      border-bottom-color: var(--fill-color);\n",
              "      border-left-color: var(--fill-color);\n",
              "    }\n",
              "    20% {\n",
              "      border-color: transparent;\n",
              "      border-left-color: var(--fill-color);\n",
              "      border-top-color: var(--fill-color);\n",
              "    }\n",
              "    30% {\n",
              "      border-color: transparent;\n",
              "      border-left-color: var(--fill-color);\n",
              "      border-top-color: var(--fill-color);\n",
              "      border-right-color: var(--fill-color);\n",
              "    }\n",
              "    40% {\n",
              "      border-color: transparent;\n",
              "      border-right-color: var(--fill-color);\n",
              "      border-top-color: var(--fill-color);\n",
              "    }\n",
              "    60% {\n",
              "      border-color: transparent;\n",
              "      border-right-color: var(--fill-color);\n",
              "    }\n",
              "    80% {\n",
              "      border-color: transparent;\n",
              "      border-right-color: var(--fill-color);\n",
              "      border-bottom-color: var(--fill-color);\n",
              "    }\n",
              "    90% {\n",
              "      border-color: transparent;\n",
              "      border-bottom-color: var(--fill-color);\n",
              "    }\n",
              "  }\n",
              "</style>\n",
              "\n",
              "  <script>\n",
              "    async function quickchart(key) {\n",
              "      const quickchartButtonEl =\n",
              "        document.querySelector('#' + key + ' button');\n",
              "      quickchartButtonEl.disabled = true;  // To prevent multiple clicks.\n",
              "      quickchartButtonEl.classList.add('colab-df-spinner');\n",
              "      try {\n",
              "        const charts = await google.colab.kernel.invokeFunction(\n",
              "            'suggestCharts', [key], {});\n",
              "      } catch (error) {\n",
              "        console.error('Error during call to suggestCharts:', error);\n",
              "      }\n",
              "      quickchartButtonEl.classList.remove('colab-df-spinner');\n",
              "      quickchartButtonEl.classList.add('colab-df-quickchart-complete');\n",
              "    }\n",
              "    (() => {\n",
              "      let quickchartButtonEl =\n",
              "        document.querySelector('#df-6d4559f4-8287-4f9a-bef0-5de5da51dd01 button');\n",
              "      quickchartButtonEl.style.display =\n",
              "        google.colab.kernel.accessAllowed ? 'block' : 'none';\n",
              "    })();\n",
              "  </script>\n",
              "</div>\n",
              "\n",
              "    </div>\n",
              "  </div>\n"
            ],
            "application/vnd.google.colaboratory.intrinsic+json": {
              "type": "dataframe",
              "variable_name": "df",
              "summary": "{\n  \"name\": \"df\",\n  \"rows\": 1338,\n  \"fields\": [\n    {\n      \"column\": \"age\",\n      \"properties\": {\n        \"dtype\": \"number\",\n        \"std\": 14,\n        \"min\": 18,\n        \"max\": 64,\n        \"num_unique_values\": 47,\n        \"samples\": [\n          21,\n          45,\n          36\n        ],\n        \"semantic_type\": \"\",\n        \"description\": \"\"\n      }\n    },\n    {\n      \"column\": \"sex\",\n      \"properties\": {\n        \"dtype\": \"category\",\n        \"num_unique_values\": 2,\n        \"samples\": [\n          \"male\",\n          \"female\"\n        ],\n        \"semantic_type\": \"\",\n        \"description\": \"\"\n      }\n    },\n    {\n      \"column\": \"bmi\",\n      \"properties\": {\n        \"dtype\": \"number\",\n        \"std\": 6.098186911679014,\n        \"min\": 15.96,\n        \"max\": 53.13,\n        \"num_unique_values\": 548,\n        \"samples\": [\n          23.18,\n          26.885\n        ],\n        \"semantic_type\": \"\",\n        \"description\": \"\"\n      }\n    },\n    {\n      \"column\": \"children\",\n      \"properties\": {\n        \"dtype\": \"number\",\n        \"std\": 1,\n        \"min\": 0,\n        \"max\": 5,\n        \"num_unique_values\": 6,\n        \"samples\": [\n          0,\n          1\n        ],\n        \"semantic_type\": \"\",\n        \"description\": \"\"\n      }\n    },\n    {\n      \"column\": \"smoker\",\n      \"properties\": {\n        \"dtype\": \"category\",\n        \"num_unique_values\": 2,\n        \"samples\": [\n          \"no\",\n          \"yes\"\n        ],\n        \"semantic_type\": \"\",\n        \"description\": \"\"\n      }\n    },\n    {\n      \"column\": \"region\",\n      \"properties\": {\n        \"dtype\": \"category\",\n        \"num_unique_values\": 4,\n        \"samples\": [\n          \"southeast\",\n          \"northeast\"\n        ],\n        \"semantic_type\": \"\",\n        \"description\": \"\"\n      }\n    },\n    {\n      \"column\": \"charges\",\n      \"properties\": {\n        \"dtype\": \"number\",\n        \"std\": 12110.011236694001,\n        \"min\": 1121.8739,\n        \"max\": 63770.42801,\n        \"num_unique_values\": 1337,\n        \"samples\": [\n          8688.85885,\n          5708.867\n        ],\n        \"semantic_type\": \"\",\n        \"description\": \"\"\n      }\n    }\n  ]\n}"
            }
          },
          "metadata": {},
          "execution_count": 2
        }
      ]
    },
    {
      "cell_type": "code",
      "source": [
        "df['sex'].value_counts()"
      ],
      "metadata": {
        "trusted": true,
        "colab": {
          "base_uri": "https://localhost:8080/"
        },
        "id": "AH6SpCt0N44k",
        "outputId": "e5e9160f-f4e3-40c3-9e8b-9489d2dda699"
      },
      "execution_count": 3,
      "outputs": [
        {
          "output_type": "execute_result",
          "data": {
            "text/plain": [
              "sex\n",
              "male      676\n",
              "female    662\n",
              "Name: count, dtype: int64"
            ]
          },
          "metadata": {},
          "execution_count": 3
        }
      ]
    },
    {
      "cell_type": "code",
      "source": [
        "df = pd.get_dummies(df,columns=['sex','region','smoker'] ,dtype='int')\n",
        "df.head()"
      ],
      "metadata": {
        "trusted": true,
        "colab": {
          "base_uri": "https://localhost:8080/",
          "height": 226
        },
        "id": "XWgUHYZjN44l",
        "outputId": "ed321fce-0ead-4013-a881-722e01b5fee6"
      },
      "execution_count": 4,
      "outputs": [
        {
          "output_type": "execute_result",
          "data": {
            "text/plain": [
              "   age     bmi  children      charges  sex_female  sex_male  region_northeast  \\\n",
              "0   19  27.900         0  16884.92400           1         0                 0   \n",
              "1   18  33.770         1   1725.55230           0         1                 0   \n",
              "2   28  33.000         3   4449.46200           0         1                 0   \n",
              "3   33  22.705         0  21984.47061           0         1                 0   \n",
              "4   32  28.880         0   3866.85520           0         1                 0   \n",
              "\n",
              "   region_northwest  region_southeast  region_southwest  smoker_no  smoker_yes  \n",
              "0                 0                 0                 1          0           1  \n",
              "1                 0                 1                 0          1           0  \n",
              "2                 0                 1                 0          1           0  \n",
              "3                 1                 0                 0          1           0  \n",
              "4                 1                 0                 0          1           0  "
            ],
            "text/html": [
              "\n",
              "  <div id=\"df-2f7ee315-7bc9-4c56-aaaf-ee7b3e8fdf62\" class=\"colab-df-container\">\n",
              "    <div>\n",
              "<style scoped>\n",
              "    .dataframe tbody tr th:only-of-type {\n",
              "        vertical-align: middle;\n",
              "    }\n",
              "\n",
              "    .dataframe tbody tr th {\n",
              "        vertical-align: top;\n",
              "    }\n",
              "\n",
              "    .dataframe thead th {\n",
              "        text-align: right;\n",
              "    }\n",
              "</style>\n",
              "<table border=\"1\" class=\"dataframe\">\n",
              "  <thead>\n",
              "    <tr style=\"text-align: right;\">\n",
              "      <th></th>\n",
              "      <th>age</th>\n",
              "      <th>bmi</th>\n",
              "      <th>children</th>\n",
              "      <th>charges</th>\n",
              "      <th>sex_female</th>\n",
              "      <th>sex_male</th>\n",
              "      <th>region_northeast</th>\n",
              "      <th>region_northwest</th>\n",
              "      <th>region_southeast</th>\n",
              "      <th>region_southwest</th>\n",
              "      <th>smoker_no</th>\n",
              "      <th>smoker_yes</th>\n",
              "    </tr>\n",
              "  </thead>\n",
              "  <tbody>\n",
              "    <tr>\n",
              "      <th>0</th>\n",
              "      <td>19</td>\n",
              "      <td>27.900</td>\n",
              "      <td>0</td>\n",
              "      <td>16884.92400</td>\n",
              "      <td>1</td>\n",
              "      <td>0</td>\n",
              "      <td>0</td>\n",
              "      <td>0</td>\n",
              "      <td>0</td>\n",
              "      <td>1</td>\n",
              "      <td>0</td>\n",
              "      <td>1</td>\n",
              "    </tr>\n",
              "    <tr>\n",
              "      <th>1</th>\n",
              "      <td>18</td>\n",
              "      <td>33.770</td>\n",
              "      <td>1</td>\n",
              "      <td>1725.55230</td>\n",
              "      <td>0</td>\n",
              "      <td>1</td>\n",
              "      <td>0</td>\n",
              "      <td>0</td>\n",
              "      <td>1</td>\n",
              "      <td>0</td>\n",
              "      <td>1</td>\n",
              "      <td>0</td>\n",
              "    </tr>\n",
              "    <tr>\n",
              "      <th>2</th>\n",
              "      <td>28</td>\n",
              "      <td>33.000</td>\n",
              "      <td>3</td>\n",
              "      <td>4449.46200</td>\n",
              "      <td>0</td>\n",
              "      <td>1</td>\n",
              "      <td>0</td>\n",
              "      <td>0</td>\n",
              "      <td>1</td>\n",
              "      <td>0</td>\n",
              "      <td>1</td>\n",
              "      <td>0</td>\n",
              "    </tr>\n",
              "    <tr>\n",
              "      <th>3</th>\n",
              "      <td>33</td>\n",
              "      <td>22.705</td>\n",
              "      <td>0</td>\n",
              "      <td>21984.47061</td>\n",
              "      <td>0</td>\n",
              "      <td>1</td>\n",
              "      <td>0</td>\n",
              "      <td>1</td>\n",
              "      <td>0</td>\n",
              "      <td>0</td>\n",
              "      <td>1</td>\n",
              "      <td>0</td>\n",
              "    </tr>\n",
              "    <tr>\n",
              "      <th>4</th>\n",
              "      <td>32</td>\n",
              "      <td>28.880</td>\n",
              "      <td>0</td>\n",
              "      <td>3866.85520</td>\n",
              "      <td>0</td>\n",
              "      <td>1</td>\n",
              "      <td>0</td>\n",
              "      <td>1</td>\n",
              "      <td>0</td>\n",
              "      <td>0</td>\n",
              "      <td>1</td>\n",
              "      <td>0</td>\n",
              "    </tr>\n",
              "  </tbody>\n",
              "</table>\n",
              "</div>\n",
              "    <div class=\"colab-df-buttons\">\n",
              "\n",
              "  <div class=\"colab-df-container\">\n",
              "    <button class=\"colab-df-convert\" onclick=\"convertToInteractive('df-2f7ee315-7bc9-4c56-aaaf-ee7b3e8fdf62')\"\n",
              "            title=\"Convert this dataframe to an interactive table.\"\n",
              "            style=\"display:none;\">\n",
              "\n",
              "  <svg xmlns=\"http://www.w3.org/2000/svg\" height=\"24px\" viewBox=\"0 -960 960 960\">\n",
              "    <path d=\"M120-120v-720h720v720H120Zm60-500h600v-160H180v160Zm220 220h160v-160H400v160Zm0 220h160v-160H400v160ZM180-400h160v-160H180v160Zm440 0h160v-160H620v160ZM180-180h160v-160H180v160Zm440 0h160v-160H620v160Z\"/>\n",
              "  </svg>\n",
              "    </button>\n",
              "\n",
              "  <style>\n",
              "    .colab-df-container {\n",
              "      display:flex;\n",
              "      gap: 12px;\n",
              "    }\n",
              "\n",
              "    .colab-df-convert {\n",
              "      background-color: #E8F0FE;\n",
              "      border: none;\n",
              "      border-radius: 50%;\n",
              "      cursor: pointer;\n",
              "      display: none;\n",
              "      fill: #1967D2;\n",
              "      height: 32px;\n",
              "      padding: 0 0 0 0;\n",
              "      width: 32px;\n",
              "    }\n",
              "\n",
              "    .colab-df-convert:hover {\n",
              "      background-color: #E2EBFA;\n",
              "      box-shadow: 0px 1px 2px rgba(60, 64, 67, 0.3), 0px 1px 3px 1px rgba(60, 64, 67, 0.15);\n",
              "      fill: #174EA6;\n",
              "    }\n",
              "\n",
              "    .colab-df-buttons div {\n",
              "      margin-bottom: 4px;\n",
              "    }\n",
              "\n",
              "    [theme=dark] .colab-df-convert {\n",
              "      background-color: #3B4455;\n",
              "      fill: #D2E3FC;\n",
              "    }\n",
              "\n",
              "    [theme=dark] .colab-df-convert:hover {\n",
              "      background-color: #434B5C;\n",
              "      box-shadow: 0px 1px 3px 1px rgba(0, 0, 0, 0.15);\n",
              "      filter: drop-shadow(0px 1px 2px rgba(0, 0, 0, 0.3));\n",
              "      fill: #FFFFFF;\n",
              "    }\n",
              "  </style>\n",
              "\n",
              "    <script>\n",
              "      const buttonEl =\n",
              "        document.querySelector('#df-2f7ee315-7bc9-4c56-aaaf-ee7b3e8fdf62 button.colab-df-convert');\n",
              "      buttonEl.style.display =\n",
              "        google.colab.kernel.accessAllowed ? 'block' : 'none';\n",
              "\n",
              "      async function convertToInteractive(key) {\n",
              "        const element = document.querySelector('#df-2f7ee315-7bc9-4c56-aaaf-ee7b3e8fdf62');\n",
              "        const dataTable =\n",
              "          await google.colab.kernel.invokeFunction('convertToInteractive',\n",
              "                                                    [key], {});\n",
              "        if (!dataTable) return;\n",
              "\n",
              "        const docLinkHtml = 'Like what you see? Visit the ' +\n",
              "          '<a target=\"_blank\" href=https://colab.research.google.com/notebooks/data_table.ipynb>data table notebook</a>'\n",
              "          + ' to learn more about interactive tables.';\n",
              "        element.innerHTML = '';\n",
              "        dataTable['output_type'] = 'display_data';\n",
              "        await google.colab.output.renderOutput(dataTable, element);\n",
              "        const docLink = document.createElement('div');\n",
              "        docLink.innerHTML = docLinkHtml;\n",
              "        element.appendChild(docLink);\n",
              "      }\n",
              "    </script>\n",
              "  </div>\n",
              "\n",
              "\n",
              "<div id=\"df-25ef191b-1600-47d4-b685-4703d27ec9c0\">\n",
              "  <button class=\"colab-df-quickchart\" onclick=\"quickchart('df-25ef191b-1600-47d4-b685-4703d27ec9c0')\"\n",
              "            title=\"Suggest charts\"\n",
              "            style=\"display:none;\">\n",
              "\n",
              "<svg xmlns=\"http://www.w3.org/2000/svg\" height=\"24px\"viewBox=\"0 0 24 24\"\n",
              "     width=\"24px\">\n",
              "    <g>\n",
              "        <path d=\"M19 3H5c-1.1 0-2 .9-2 2v14c0 1.1.9 2 2 2h14c1.1 0 2-.9 2-2V5c0-1.1-.9-2-2-2zM9 17H7v-7h2v7zm4 0h-2V7h2v10zm4 0h-2v-4h2v4z\"/>\n",
              "    </g>\n",
              "</svg>\n",
              "  </button>\n",
              "\n",
              "<style>\n",
              "  .colab-df-quickchart {\n",
              "      --bg-color: #E8F0FE;\n",
              "      --fill-color: #1967D2;\n",
              "      --hover-bg-color: #E2EBFA;\n",
              "      --hover-fill-color: #174EA6;\n",
              "      --disabled-fill-color: #AAA;\n",
              "      --disabled-bg-color: #DDD;\n",
              "  }\n",
              "\n",
              "  [theme=dark] .colab-df-quickchart {\n",
              "      --bg-color: #3B4455;\n",
              "      --fill-color: #D2E3FC;\n",
              "      --hover-bg-color: #434B5C;\n",
              "      --hover-fill-color: #FFFFFF;\n",
              "      --disabled-bg-color: #3B4455;\n",
              "      --disabled-fill-color: #666;\n",
              "  }\n",
              "\n",
              "  .colab-df-quickchart {\n",
              "    background-color: var(--bg-color);\n",
              "    border: none;\n",
              "    border-radius: 50%;\n",
              "    cursor: pointer;\n",
              "    display: none;\n",
              "    fill: var(--fill-color);\n",
              "    height: 32px;\n",
              "    padding: 0;\n",
              "    width: 32px;\n",
              "  }\n",
              "\n",
              "  .colab-df-quickchart:hover {\n",
              "    background-color: var(--hover-bg-color);\n",
              "    box-shadow: 0 1px 2px rgba(60, 64, 67, 0.3), 0 1px 3px 1px rgba(60, 64, 67, 0.15);\n",
              "    fill: var(--button-hover-fill-color);\n",
              "  }\n",
              "\n",
              "  .colab-df-quickchart-complete:disabled,\n",
              "  .colab-df-quickchart-complete:disabled:hover {\n",
              "    background-color: var(--disabled-bg-color);\n",
              "    fill: var(--disabled-fill-color);\n",
              "    box-shadow: none;\n",
              "  }\n",
              "\n",
              "  .colab-df-spinner {\n",
              "    border: 2px solid var(--fill-color);\n",
              "    border-color: transparent;\n",
              "    border-bottom-color: var(--fill-color);\n",
              "    animation:\n",
              "      spin 1s steps(1) infinite;\n",
              "  }\n",
              "\n",
              "  @keyframes spin {\n",
              "    0% {\n",
              "      border-color: transparent;\n",
              "      border-bottom-color: var(--fill-color);\n",
              "      border-left-color: var(--fill-color);\n",
              "    }\n",
              "    20% {\n",
              "      border-color: transparent;\n",
              "      border-left-color: var(--fill-color);\n",
              "      border-top-color: var(--fill-color);\n",
              "    }\n",
              "    30% {\n",
              "      border-color: transparent;\n",
              "      border-left-color: var(--fill-color);\n",
              "      border-top-color: var(--fill-color);\n",
              "      border-right-color: var(--fill-color);\n",
              "    }\n",
              "    40% {\n",
              "      border-color: transparent;\n",
              "      border-right-color: var(--fill-color);\n",
              "      border-top-color: var(--fill-color);\n",
              "    }\n",
              "    60% {\n",
              "      border-color: transparent;\n",
              "      border-right-color: var(--fill-color);\n",
              "    }\n",
              "    80% {\n",
              "      border-color: transparent;\n",
              "      border-right-color: var(--fill-color);\n",
              "      border-bottom-color: var(--fill-color);\n",
              "    }\n",
              "    90% {\n",
              "      border-color: transparent;\n",
              "      border-bottom-color: var(--fill-color);\n",
              "    }\n",
              "  }\n",
              "</style>\n",
              "\n",
              "  <script>\n",
              "    async function quickchart(key) {\n",
              "      const quickchartButtonEl =\n",
              "        document.querySelector('#' + key + ' button');\n",
              "      quickchartButtonEl.disabled = true;  // To prevent multiple clicks.\n",
              "      quickchartButtonEl.classList.add('colab-df-spinner');\n",
              "      try {\n",
              "        const charts = await google.colab.kernel.invokeFunction(\n",
              "            'suggestCharts', [key], {});\n",
              "      } catch (error) {\n",
              "        console.error('Error during call to suggestCharts:', error);\n",
              "      }\n",
              "      quickchartButtonEl.classList.remove('colab-df-spinner');\n",
              "      quickchartButtonEl.classList.add('colab-df-quickchart-complete');\n",
              "    }\n",
              "    (() => {\n",
              "      let quickchartButtonEl =\n",
              "        document.querySelector('#df-25ef191b-1600-47d4-b685-4703d27ec9c0 button');\n",
              "      quickchartButtonEl.style.display =\n",
              "        google.colab.kernel.accessAllowed ? 'block' : 'none';\n",
              "    })();\n",
              "  </script>\n",
              "</div>\n",
              "\n",
              "    </div>\n",
              "  </div>\n"
            ],
            "application/vnd.google.colaboratory.intrinsic+json": {
              "type": "dataframe",
              "variable_name": "df",
              "summary": "{\n  \"name\": \"df\",\n  \"rows\": 1338,\n  \"fields\": [\n    {\n      \"column\": \"age\",\n      \"properties\": {\n        \"dtype\": \"number\",\n        \"std\": 14,\n        \"min\": 18,\n        \"max\": 64,\n        \"num_unique_values\": 47,\n        \"samples\": [\n          21,\n          45,\n          36\n        ],\n        \"semantic_type\": \"\",\n        \"description\": \"\"\n      }\n    },\n    {\n      \"column\": \"bmi\",\n      \"properties\": {\n        \"dtype\": \"number\",\n        \"std\": 6.098186911679014,\n        \"min\": 15.96,\n        \"max\": 53.13,\n        \"num_unique_values\": 548,\n        \"samples\": [\n          23.18,\n          26.885,\n          29.26\n        ],\n        \"semantic_type\": \"\",\n        \"description\": \"\"\n      }\n    },\n    {\n      \"column\": \"children\",\n      \"properties\": {\n        \"dtype\": \"number\",\n        \"std\": 1,\n        \"min\": 0,\n        \"max\": 5,\n        \"num_unique_values\": 6,\n        \"samples\": [\n          0,\n          1,\n          4\n        ],\n        \"semantic_type\": \"\",\n        \"description\": \"\"\n      }\n    },\n    {\n      \"column\": \"charges\",\n      \"properties\": {\n        \"dtype\": \"number\",\n        \"std\": 12110.011236694001,\n        \"min\": 1121.8739,\n        \"max\": 63770.42801,\n        \"num_unique_values\": 1337,\n        \"samples\": [\n          8688.85885,\n          5708.867,\n          11436.73815\n        ],\n        \"semantic_type\": \"\",\n        \"description\": \"\"\n      }\n    },\n    {\n      \"column\": \"sex_female\",\n      \"properties\": {\n        \"dtype\": \"number\",\n        \"std\": 0,\n        \"min\": 0,\n        \"max\": 1,\n        \"num_unique_values\": 2,\n        \"samples\": [\n          0,\n          1\n        ],\n        \"semantic_type\": \"\",\n        \"description\": \"\"\n      }\n    },\n    {\n      \"column\": \"sex_male\",\n      \"properties\": {\n        \"dtype\": \"number\",\n        \"std\": 0,\n        \"min\": 0,\n        \"max\": 1,\n        \"num_unique_values\": 2,\n        \"samples\": [\n          1,\n          0\n        ],\n        \"semantic_type\": \"\",\n        \"description\": \"\"\n      }\n    },\n    {\n      \"column\": \"region_northeast\",\n      \"properties\": {\n        \"dtype\": \"number\",\n        \"std\": 0,\n        \"min\": 0,\n        \"max\": 1,\n        \"num_unique_values\": 2,\n        \"samples\": [\n          1,\n          0\n        ],\n        \"semantic_type\": \"\",\n        \"description\": \"\"\n      }\n    },\n    {\n      \"column\": \"region_northwest\",\n      \"properties\": {\n        \"dtype\": \"number\",\n        \"std\": 0,\n        \"min\": 0,\n        \"max\": 1,\n        \"num_unique_values\": 2,\n        \"samples\": [\n          1,\n          0\n        ],\n        \"semantic_type\": \"\",\n        \"description\": \"\"\n      }\n    },\n    {\n      \"column\": \"region_southeast\",\n      \"properties\": {\n        \"dtype\": \"number\",\n        \"std\": 0,\n        \"min\": 0,\n        \"max\": 1,\n        \"num_unique_values\": 2,\n        \"samples\": [\n          1,\n          0\n        ],\n        \"semantic_type\": \"\",\n        \"description\": \"\"\n      }\n    },\n    {\n      \"column\": \"region_southwest\",\n      \"properties\": {\n        \"dtype\": \"number\",\n        \"std\": 0,\n        \"min\": 0,\n        \"max\": 1,\n        \"num_unique_values\": 2,\n        \"samples\": [\n          0,\n          1\n        ],\n        \"semantic_type\": \"\",\n        \"description\": \"\"\n      }\n    },\n    {\n      \"column\": \"smoker_no\",\n      \"properties\": {\n        \"dtype\": \"number\",\n        \"std\": 0,\n        \"min\": 0,\n        \"max\": 1,\n        \"num_unique_values\": 2,\n        \"samples\": [\n          1,\n          0\n        ],\n        \"semantic_type\": \"\",\n        \"description\": \"\"\n      }\n    },\n    {\n      \"column\": \"smoker_yes\",\n      \"properties\": {\n        \"dtype\": \"number\",\n        \"std\": 0,\n        \"min\": 0,\n        \"max\": 1,\n        \"num_unique_values\": 2,\n        \"samples\": [\n          0,\n          1\n        ],\n        \"semantic_type\": \"\",\n        \"description\": \"\"\n      }\n    }\n  ]\n}"
            }
          },
          "metadata": {},
          "execution_count": 4
        }
      ]
    },
    {
      "cell_type": "code",
      "source": [
        "from sklearn.preprocessing import StandardScaler\n",
        "scaler = StandardScaler()\n",
        "\n",
        "df.iloc[:,0:12] = scaler.fit_transform(df.iloc[:,0:12])"
      ],
      "metadata": {
        "trusted": true,
        "id": "CM4eOvjjN44m"
      },
      "execution_count": 5,
      "outputs": []
    },
    {
      "cell_type": "code",
      "source": [
        "from sklearn.decomposition import PCA\n",
        "pca = PCA(n_components=2)  # Reduce to 2 dimensions for visualization\n",
        "X_pca = pca.fit_transform(df.iloc[:,0:12])"
      ],
      "metadata": {
        "trusted": true,
        "id": "Ck-fTew5N44m"
      },
      "execution_count": 6,
      "outputs": []
    },
    {
      "cell_type": "code",
      "source": [
        " # Create a mesh grid of input values for the principal components\n",
        "x1_range = np.linspace(X_pca[:, 0].min(), X_pca[:, 0].max(), 10)\n",
        "x2_range = np.linspace(X_pca[:, 1].min(), X_pca[:, 1].max(), 10)\n",
        "x1_mesh, x2_mesh = np.meshgrid(x1_range, x2_range)\n",
        "X_mesh = np.column_stack((x1_mesh.ravel(), x2_mesh.ravel()))\n",
        "\n"
      ],
      "metadata": {
        "id": "lm2sc-GwOl1n"
      },
      "execution_count": 7,
      "outputs": []
    },
    {
      "cell_type": "code",
      "source": [
        "first_column = df.pop('charges')\n",
        "df.insert(0, 'charges', first_column)"
      ],
      "metadata": {
        "trusted": true,
        "id": "nxwQRsSYN44n"
      },
      "execution_count": 8,
      "outputs": []
    },
    {
      "cell_type": "code",
      "source": [
        "x = df.iloc[:,1:12]\n",
        "y = df.iloc[:,0]"
      ],
      "metadata": {
        "trusted": true,
        "id": "l8Xj1KSXN44o"
      },
      "execution_count": 9,
      "outputs": []
    },
    {
      "cell_type": "code",
      "source": [
        "from sklearn.model_selection import train_test_split\n",
        "X_train,X_test,y_train,y_test = train_test_split(x , y ,test_size=0.3,random_state=2)"
      ],
      "metadata": {
        "trusted": true,
        "id": "3_L4nvsBN44o"
      },
      "execution_count": 10,
      "outputs": []
    },
    {
      "cell_type": "code",
      "source": [
        "from sklearn.linear_model import LinearRegression"
      ],
      "metadata": {
        "trusted": true,
        "id": "VOGLji6EN44p"
      },
      "execution_count": 11,
      "outputs": []
    },
    {
      "cell_type": "code",
      "source": [
        "lr = LinearRegression()"
      ],
      "metadata": {
        "trusted": true,
        "id": "7opfe73nN44p"
      },
      "execution_count": 12,
      "outputs": []
    },
    {
      "cell_type": "code",
      "source": [
        "lr.fit(X_train,y_train)"
      ],
      "metadata": {
        "trusted": true,
        "colab": {
          "base_uri": "https://localhost:8080/",
          "height": 74
        },
        "id": "3yoUCMaXN44p",
        "outputId": "0d579e66-17a9-45ce-fdf5-db9e423aa85b"
      },
      "execution_count": 13,
      "outputs": [
        {
          "output_type": "execute_result",
          "data": {
            "text/plain": [
              "LinearRegression()"
            ],
            "text/html": [
              "<style>#sk-container-id-1 {color: black;background-color: white;}#sk-container-id-1 pre{padding: 0;}#sk-container-id-1 div.sk-toggleable {background-color: white;}#sk-container-id-1 label.sk-toggleable__label {cursor: pointer;display: block;width: 100%;margin-bottom: 0;padding: 0.3em;box-sizing: border-box;text-align: center;}#sk-container-id-1 label.sk-toggleable__label-arrow:before {content: \"▸\";float: left;margin-right: 0.25em;color: #696969;}#sk-container-id-1 label.sk-toggleable__label-arrow:hover:before {color: black;}#sk-container-id-1 div.sk-estimator:hover label.sk-toggleable__label-arrow:before {color: black;}#sk-container-id-1 div.sk-toggleable__content {max-height: 0;max-width: 0;overflow: hidden;text-align: left;background-color: #f0f8ff;}#sk-container-id-1 div.sk-toggleable__content pre {margin: 0.2em;color: black;border-radius: 0.25em;background-color: #f0f8ff;}#sk-container-id-1 input.sk-toggleable__control:checked~div.sk-toggleable__content {max-height: 200px;max-width: 100%;overflow: auto;}#sk-container-id-1 input.sk-toggleable__control:checked~label.sk-toggleable__label-arrow:before {content: \"▾\";}#sk-container-id-1 div.sk-estimator input.sk-toggleable__control:checked~label.sk-toggleable__label {background-color: #d4ebff;}#sk-container-id-1 div.sk-label input.sk-toggleable__control:checked~label.sk-toggleable__label {background-color: #d4ebff;}#sk-container-id-1 input.sk-hidden--visually {border: 0;clip: rect(1px 1px 1px 1px);clip: rect(1px, 1px, 1px, 1px);height: 1px;margin: -1px;overflow: hidden;padding: 0;position: absolute;width: 1px;}#sk-container-id-1 div.sk-estimator {font-family: monospace;background-color: #f0f8ff;border: 1px dotted black;border-radius: 0.25em;box-sizing: border-box;margin-bottom: 0.5em;}#sk-container-id-1 div.sk-estimator:hover {background-color: #d4ebff;}#sk-container-id-1 div.sk-parallel-item::after {content: \"\";width: 100%;border-bottom: 1px solid gray;flex-grow: 1;}#sk-container-id-1 div.sk-label:hover label.sk-toggleable__label {background-color: #d4ebff;}#sk-container-id-1 div.sk-serial::before {content: \"\";position: absolute;border-left: 1px solid gray;box-sizing: border-box;top: 0;bottom: 0;left: 50%;z-index: 0;}#sk-container-id-1 div.sk-serial {display: flex;flex-direction: column;align-items: center;background-color: white;padding-right: 0.2em;padding-left: 0.2em;position: relative;}#sk-container-id-1 div.sk-item {position: relative;z-index: 1;}#sk-container-id-1 div.sk-parallel {display: flex;align-items: stretch;justify-content: center;background-color: white;position: relative;}#sk-container-id-1 div.sk-item::before, #sk-container-id-1 div.sk-parallel-item::before {content: \"\";position: absolute;border-left: 1px solid gray;box-sizing: border-box;top: 0;bottom: 0;left: 50%;z-index: -1;}#sk-container-id-1 div.sk-parallel-item {display: flex;flex-direction: column;z-index: 1;position: relative;background-color: white;}#sk-container-id-1 div.sk-parallel-item:first-child::after {align-self: flex-end;width: 50%;}#sk-container-id-1 div.sk-parallel-item:last-child::after {align-self: flex-start;width: 50%;}#sk-container-id-1 div.sk-parallel-item:only-child::after {width: 0;}#sk-container-id-1 div.sk-dashed-wrapped {border: 1px dashed gray;margin: 0 0.4em 0.5em 0.4em;box-sizing: border-box;padding-bottom: 0.4em;background-color: white;}#sk-container-id-1 div.sk-label label {font-family: monospace;font-weight: bold;display: inline-block;line-height: 1.2em;}#sk-container-id-1 div.sk-label-container {text-align: center;}#sk-container-id-1 div.sk-container {/* jupyter's `normalize.less` sets `[hidden] { display: none; }` but bootstrap.min.css set `[hidden] { display: none !important; }` so we also need the `!important` here to be able to override the default hidden behavior on the sphinx rendered scikit-learn.org. See: https://github.com/scikit-learn/scikit-learn/issues/21755 */display: inline-block !important;position: relative;}#sk-container-id-1 div.sk-text-repr-fallback {display: none;}</style><div id=\"sk-container-id-1\" class=\"sk-top-container\"><div class=\"sk-text-repr-fallback\"><pre>LinearRegression()</pre><b>In a Jupyter environment, please rerun this cell to show the HTML representation or trust the notebook. <br />On GitHub, the HTML representation is unable to render, please try loading this page with nbviewer.org.</b></div><div class=\"sk-container\" hidden><div class=\"sk-item\"><div class=\"sk-estimator sk-toggleable\"><input class=\"sk-toggleable__control sk-hidden--visually\" id=\"sk-estimator-id-1\" type=\"checkbox\" checked><label for=\"sk-estimator-id-1\" class=\"sk-toggleable__label sk-toggleable__label-arrow\">LinearRegression</label><div class=\"sk-toggleable__content\"><pre>LinearRegression()</pre></div></div></div></div></div>"
            ]
          },
          "metadata": {},
          "execution_count": 13
        }
      ]
    },
    {
      "cell_type": "code",
      "source": [
        "y_pred = lr.predict(X_test)"
      ],
      "metadata": {
        "trusted": true,
        "id": "4ZxiBSQRN44q"
      },
      "execution_count": 14,
      "outputs": []
    },
    {
      "cell_type": "code",
      "source": [
        "accuracy_score = lr.score(X_test,y_test)\n",
        "accuracy_score*100"
      ],
      "metadata": {
        "trusted": true,
        "colab": {
          "base_uri": "https://localhost:8080/"
        },
        "id": "iJ6vGSBiN44q",
        "outputId": "d040be4f-ac50-49c5-c5e6-6a17ebdd2f10"
      },
      "execution_count": 15,
      "outputs": [
        {
          "output_type": "execute_result",
          "data": {
            "text/plain": [
              "76.39172148807954"
            ]
          },
          "metadata": {},
          "execution_count": 15
        }
      ]
    },
    {
      "cell_type": "code",
      "source": [
        "from sklearn.datasets import make_regression"
      ],
      "metadata": {
        "trusted": true,
        "id": "_7Zw1prfN44q"
      },
      "execution_count": 16,
      "outputs": []
    },
    {
      "cell_type": "code",
      "source": [
        "from sklearn.metrics import mean_absolute_error,mean_squared_error,r2_score"
      ],
      "metadata": {
        "trusted": true,
        "id": "c1-01st9N44q"
      },
      "execution_count": 17,
      "outputs": []
    },
    {
      "cell_type": "code",
      "source": [
        "print(\"MAE\",mean_absolute_error(y_test,y_pred))\n",
        "print(\"MSE\",mean_squared_error(y_test,y_pred))\n",
        "print(\"R2 score\",r2_score(y_test,y_pred))"
      ],
      "metadata": {
        "trusted": true,
        "colab": {
          "base_uri": "https://localhost:8080/"
        },
        "id": "znBEigahN44r",
        "outputId": "b39d6668-d062-4d0c-d638-e8653d957a67"
      },
      "execution_count": 18,
      "outputs": [
        {
          "output_type": "stream",
          "name": "stdout",
          "text": [
            "MAE 0.35499079718054793\n",
            "MSE 0.2604023126466698\n",
            "R2 score 0.7639172148807953\n"
          ]
        }
      ]
    },
    {
      "cell_type": "code",
      "source": [
        "from sklearn.linear_model import LinearRegression\n",
        "model = LinearRegression()\n",
        "model.fit(X_pca, y)"
      ],
      "metadata": {
        "colab": {
          "base_uri": "https://localhost:8080/",
          "height": 74
        },
        "id": "TRWLHK4yPr5h",
        "outputId": "b97be91f-54d9-4477-e16f-adc7acacaf2c"
      },
      "execution_count": 19,
      "outputs": [
        {
          "output_type": "execute_result",
          "data": {
            "text/plain": [
              "LinearRegression()"
            ],
            "text/html": [
              "<style>#sk-container-id-2 {color: black;background-color: white;}#sk-container-id-2 pre{padding: 0;}#sk-container-id-2 div.sk-toggleable {background-color: white;}#sk-container-id-2 label.sk-toggleable__label {cursor: pointer;display: block;width: 100%;margin-bottom: 0;padding: 0.3em;box-sizing: border-box;text-align: center;}#sk-container-id-2 label.sk-toggleable__label-arrow:before {content: \"▸\";float: left;margin-right: 0.25em;color: #696969;}#sk-container-id-2 label.sk-toggleable__label-arrow:hover:before {color: black;}#sk-container-id-2 div.sk-estimator:hover label.sk-toggleable__label-arrow:before {color: black;}#sk-container-id-2 div.sk-toggleable__content {max-height: 0;max-width: 0;overflow: hidden;text-align: left;background-color: #f0f8ff;}#sk-container-id-2 div.sk-toggleable__content pre {margin: 0.2em;color: black;border-radius: 0.25em;background-color: #f0f8ff;}#sk-container-id-2 input.sk-toggleable__control:checked~div.sk-toggleable__content {max-height: 200px;max-width: 100%;overflow: auto;}#sk-container-id-2 input.sk-toggleable__control:checked~label.sk-toggleable__label-arrow:before {content: \"▾\";}#sk-container-id-2 div.sk-estimator input.sk-toggleable__control:checked~label.sk-toggleable__label {background-color: #d4ebff;}#sk-container-id-2 div.sk-label input.sk-toggleable__control:checked~label.sk-toggleable__label {background-color: #d4ebff;}#sk-container-id-2 input.sk-hidden--visually {border: 0;clip: rect(1px 1px 1px 1px);clip: rect(1px, 1px, 1px, 1px);height: 1px;margin: -1px;overflow: hidden;padding: 0;position: absolute;width: 1px;}#sk-container-id-2 div.sk-estimator {font-family: monospace;background-color: #f0f8ff;border: 1px dotted black;border-radius: 0.25em;box-sizing: border-box;margin-bottom: 0.5em;}#sk-container-id-2 div.sk-estimator:hover {background-color: #d4ebff;}#sk-container-id-2 div.sk-parallel-item::after {content: \"\";width: 100%;border-bottom: 1px solid gray;flex-grow: 1;}#sk-container-id-2 div.sk-label:hover label.sk-toggleable__label {background-color: #d4ebff;}#sk-container-id-2 div.sk-serial::before {content: \"\";position: absolute;border-left: 1px solid gray;box-sizing: border-box;top: 0;bottom: 0;left: 50%;z-index: 0;}#sk-container-id-2 div.sk-serial {display: flex;flex-direction: column;align-items: center;background-color: white;padding-right: 0.2em;padding-left: 0.2em;position: relative;}#sk-container-id-2 div.sk-item {position: relative;z-index: 1;}#sk-container-id-2 div.sk-parallel {display: flex;align-items: stretch;justify-content: center;background-color: white;position: relative;}#sk-container-id-2 div.sk-item::before, #sk-container-id-2 div.sk-parallel-item::before {content: \"\";position: absolute;border-left: 1px solid gray;box-sizing: border-box;top: 0;bottom: 0;left: 50%;z-index: -1;}#sk-container-id-2 div.sk-parallel-item {display: flex;flex-direction: column;z-index: 1;position: relative;background-color: white;}#sk-container-id-2 div.sk-parallel-item:first-child::after {align-self: flex-end;width: 50%;}#sk-container-id-2 div.sk-parallel-item:last-child::after {align-self: flex-start;width: 50%;}#sk-container-id-2 div.sk-parallel-item:only-child::after {width: 0;}#sk-container-id-2 div.sk-dashed-wrapped {border: 1px dashed gray;margin: 0 0.4em 0.5em 0.4em;box-sizing: border-box;padding-bottom: 0.4em;background-color: white;}#sk-container-id-2 div.sk-label label {font-family: monospace;font-weight: bold;display: inline-block;line-height: 1.2em;}#sk-container-id-2 div.sk-label-container {text-align: center;}#sk-container-id-2 div.sk-container {/* jupyter's `normalize.less` sets `[hidden] { display: none; }` but bootstrap.min.css set `[hidden] { display: none !important; }` so we also need the `!important` here to be able to override the default hidden behavior on the sphinx rendered scikit-learn.org. See: https://github.com/scikit-learn/scikit-learn/issues/21755 */display: inline-block !important;position: relative;}#sk-container-id-2 div.sk-text-repr-fallback {display: none;}</style><div id=\"sk-container-id-2\" class=\"sk-top-container\"><div class=\"sk-text-repr-fallback\"><pre>LinearRegression()</pre><b>In a Jupyter environment, please rerun this cell to show the HTML representation or trust the notebook. <br />On GitHub, the HTML representation is unable to render, please try loading this page with nbviewer.org.</b></div><div class=\"sk-container\" hidden><div class=\"sk-item\"><div class=\"sk-estimator sk-toggleable\"><input class=\"sk-toggleable__control sk-hidden--visually\" id=\"sk-estimator-id-2\" type=\"checkbox\" checked><label for=\"sk-estimator-id-2\" class=\"sk-toggleable__label sk-toggleable__label-arrow\">LinearRegression</label><div class=\"sk-toggleable__content\"><pre>LinearRegression()</pre></div></div></div></div></div>"
            ]
          },
          "metadata": {},
          "execution_count": 19
        }
      ]
    },
    {
      "cell_type": "code",
      "source": [
        "# Generate predictions over the mesh grid\n",
        "y_pred_mesh = model.predict(X_mesh).reshape(x1_mesh.shape)"
      ],
      "metadata": {
        "id": "BvXhG-NqQJoK"
      },
      "execution_count": 20,
      "outputs": []
    },
    {
      "cell_type": "code",
      "source": [
        "import plotly.graph_objects as go"
      ],
      "metadata": {
        "trusted": true,
        "id": "RnT2f6HXN44r"
      },
      "execution_count": 21,
      "outputs": []
    },
    {
      "cell_type": "code",
      "source": [
        "\n",
        "fig = go.Figure(data=[go.Scatter3d(\n",
        "    x=X_pca[:, 0],\n",
        "    y=X_pca[:, 1],\n",
        "    z=y,\n",
        "    mode='markers',\n",
        "    marker=dict(size=5, color='blue'),\n",
        "    name='Original Data (PCA)'\n",
        ")])\n",
        "\n",
        "# Add the plane of the regression model\n",
        "fig.add_trace(go.Surface(\n",
        "    x=x1_mesh,\n",
        "    y=x2_mesh,\n",
        "    z=y_pred_mesh,\n",
        "    opacity=0.8,\n",
        "    colorscale='Viridis',\n",
        "    name='Regression Plane (PCA)'\n",
        "))\n",
        "\n",
        "# Set the layout\n",
        "fig.update_layout(scene=dict(\n",
        "    xaxis_title='Principal Component 1',\n",
        "    yaxis_title='Principal Component 2',\n",
        "    zaxis_title='Y'\n",
        "))\n",
        "\n",
        "# Show the plot\n",
        "fig.show()"
      ],
      "metadata": {
        "trusted": true,
        "colab": {
          "base_uri": "https://localhost:8080/",
          "height": 542
        },
        "id": "hLY3JfQ5N44r",
        "outputId": "b3fb919f-4dc1-49f9-f865-eb057108a140"
      },
      "execution_count": 22,
      "outputs": [
        {
          "output_type": "display_data",
          "data": {
            "text/html": [
              "<html>\n",
              "<head><meta charset=\"utf-8\" /></head>\n",
              "<body>\n",
              "    <div>            <script src=\"https://cdnjs.cloudflare.com/ajax/libs/mathjax/2.7.5/MathJax.js?config=TeX-AMS-MML_SVG\"></script><script type=\"text/javascript\">if (window.MathJax && window.MathJax.Hub && window.MathJax.Hub.Config) {window.MathJax.Hub.Config({SVG: {font: \"STIX-Web\"}});}</script>                <script type=\"text/javascript\">window.PlotlyConfig = {MathJaxConfig: 'local'};</script>\n",
              "        <script charset=\"utf-8\" src=\"https://cdn.plot.ly/plotly-2.24.1.min.js\"></script>                <div id=\"67f01027-3be6-472e-9118-6e74e8cebe8a\" class=\"plotly-graph-div\" style=\"height:525px; width:100%;\"></div>            <script type=\"text/javascript\">                                    window.PLOTLYENV=window.PLOTLYENV || {};                                    if (document.getElementById(\"67f01027-3be6-472e-9118-6e74e8cebe8a\")) {                    Plotly.newPlot(                        \"67f01027-3be6-472e-9118-6e74e8cebe8a\",                        [{\"marker\":{\"color\":\"blue\",\"size\":5},\"mode\":\"markers\",\"name\":\"Original Data (PCA)\",\"x\":[1.7942470391727867,-0.6223801517653934,-0.41475710795422405,-0.19538305014045446,-0.9046190833901463,-1.2211390103588418,-0.8023602898670771,-1.2870024066427344,-0.5935808912657482,-0.3088309035320765,-0.9214511109904091,2.812320862502913,-0.9369436793121044,-0.5486051200512885,4.00060464275703,-1.0851402693006655,-0.9398318090390463,-0.9829305370165793,-0.28381765390387986,3.457185180248629,-0.7329074305742697,-1.4161206531785853,-0.6663176533189319,2.967519265860121,-0.741978344607873,-0.5208720172379397,-0.861320140846845,-0.9170869490276767,-1.15403700146971,3.606565030151947,3.3640044976094465,-1.5915390557841342,-1.4170661956216,-0.31173312260017744,4.119386818844915,-1.2024196872233457,-0.7064447030060625,-1.1087470131011476,3.748318839595766,4.187253512529867,-1.5178395268618492,-0.9552831468412244,-0.4834945598165676,-0.9526858922660731,-0.5149026229100304,0.1068771910114622,-1.3031851787427606,-1.460390934010309,-0.6941298869550707,3.9254315250329177,-1.4480756955744343,-1.4680360120931042,2.879092211584687,3.8479447188388405,-1.2221428593424748,4.12687408498723,-0.74491121982961,3.6043864632079985,2.5339243608243387,-1.2357218604431373,-0.47951052388098103,-0.3951103394767698,0.3840570315642079,-1.5475120660317907,1.5988559665237871,-1.657556661099642,-0.6805675770001305,-0.7671309977899448,-0.9174530664840014,2.828958904434507,2.107221455300058,-0.5594428627155901,-0.9788544286734001,0.01417456653178884,-0.6263555914887784,-0.36258846351778534,-1.1412290824539708,-0.6109623052307794,-1.3386444005617957,-1.2860016798533458,-0.7804200399518353,-1.011141819833583,3.819963455289526,-0.832916447335407,3.053895629404472,2.678143113651117,3.202579649143585,-1.0753383871976008,-1.275403481753832,-1.10443090918671,-1.1395952914592506,-1.1317501650654962,3.3945124954486188,-0.6700383631117763,3.4725647894195912,-1.0312650972897863,-0.9160607896512001,-0.004461640279641632,2.8150951031078515,2.327717587041974,-1.3031141055283482,-0.865769486496074,-0.6891644829668752,3.0700171782521815,-1.4323762527463735,2.444730370000229,-1.6162387912577676,-0.8593716482111208,-0.6260225931372383,4.412388507423212,-0.3847636449365302,-0.9605497878024207,-0.7933403712922459,-1.5338752896255543,-0.2301727979561583,0.5153653282806581,0.22788554862015484,2.3014206514666813,-0.889775066179228,-1.4033650202248045,-0.47688248794054094,-1.0414096799216632,-1.6492160763988843,3.704987363143705,-1.0140690192717234,-1.458694913762621,1.8090336039521386,-1.0035043896544278,2.4319124623449673,-0.6187539623240819,-0.9022653703156965,-0.9248392096594379,-0.9076822308964979,-1.1233684479241233,-1.531560771673124,-1.3041815444677018,-0.9877717544070616,-1.0950149566398957,0.10392280965911183,-1.5139393745019276,0.20112190910031308,-0.7629246875405893,2.9158300151423586,-0.23135761427574947,2.694731575959148,-0.9007990561378576,3.688178146333299,-0.6377271295204666,-0.937049890495189,-1.0265837957456858,-0.8830191580595634,-0.28083898368271343,-1.0992626135351025,2.073916944687758,-1.2493780714483862,-0.5415582740425683,3.029993924366305,2.3890199790568154,3.797951591547315,-0.31370312547782536,2.0727353268774262,3.1078024794812102,-0.28884666705211864,-1.378130234465033,-0.8151371813346963,-0.3426429366947567,-1.276519029030649,-1.2813300391713411,-1.5673825930766432,-0.8610366640462889,0.22724300364014174,-0.5841521645263734,-1.1614504507093715,-1.3043320636587061,-1.5344849147052697,3.5869517105457644,-0.7284625306905209,-0.44910648941311515,-1.155561333723692,-1.0154227207905522,-0.4236576932304602,-1.191560527920536,-0.9078789723929485,-1.3332331033193299,-0.2433938765182443,4.05536430685789,-1.127556997543024,-1.3411897126468086,-1.2448456775521382,-1.389560038294635,0.027271941846143056,-1.4700266512221576,-0.7132450340193688,-1.0394831531959994,-0.6612324858786309,-1.0457811204637755,-1.3189923896308375,-0.8467357572626392,-1.3261965056963319,-0.5868384390437167,-1.6120135265538644,-0.7824850264919767,-1.0379434506759653,3.187302854957418,-0.7656550250053167,-1.3815476706231729,-0.09862569846859598,2.805979497608296,-0.8436869440216235,-0.41671371068314067,-0.9445931027097144,-0.5497952225424353,-0.921444084988098,-1.1119775068898436,-1.1435578177141374,-1.1203159768689777,-1.152958509120725,-0.7278587219858533,-1.1765796665368695,-0.3571567622800406,-1.336836743261933,-0.9299015519960013,-0.724042971655165,3.3002222294110384,2.92612196753118,0.07480413416454797,-0.4838525475178153,0.07322992897529368,-1.1368906482002334,-0.48314171800980643,-1.1695763492410536,-0.5191769614245059,-1.8286032022733971,-0.3649166078909798,-0.7629593020806233,2.3100907802737476,-1.3695413883310656,-0.33850725831420575,2.4232310606545737,-0.17884780601203668,3.0406064102274724,-1.4136449113468774,-0.001908334532674447,-0.526708743031459,2.674175747651279,0.1385646730407922,-0.4856380219027358,-0.5698889668983321,-1.1421557830252507,-0.7766536740557467,2.1955851588317468,3.481681782817517,4.2738711485891825,-0.8021057437665022,3.7890863717939336,-0.861666275062532,3.861464442440331,-0.8902078485168039,-0.44236874100428136,3.189837286989907,-1.0617065989745464,2.147455988889792,3.0383624251466506,3.37596317114986,-0.10925714134669959,4.462600772541458,2.7612643898769726,-0.6644348293239434,-0.6137122100086598,-0.4871948515744777,-0.6901823843027323,3.8582654857653256,-0.5353531372819715,-0.4423066482136686,-1.0215394736496761,-1.0552297714553938,-1.1014465255579076,-1.6942316746580488,0.08247737437734057,-0.8869003340952087,2.2635672576182504,4.342212681357875,-0.7830768452081159,-0.8513821369735091,-1.099043899138868,-0.3177987547878783,-0.7434978818434923,-0.9335941785674973,3.6244261810932015,0.561442310947958,-1.4775804076768315,-0.050652854874895216,4.198637793932678,-1.2923161537736663,-0.8821069893862209,-1.053120974632659,2.3765087522952086,3.0962046498398825,3.5810601763145615,-1.170292993370625,-0.5958392386245887,2.4063860834290396,-0.4861559541457053,-1.0534347724601538,-0.788792147799571,-0.11932595384074407,-0.7723524023808102,-1.069525590205354,-0.20645638346123413,-1.1864924300267816,-0.6211659761510155,-1.7222769739761976,4.171197538642194,-0.16621066140589147,2.6820359104885636,-0.3611377747100733,-0.5387168536672988,-0.32637839207673536,-1.3142022494139616,-0.6047251323329615,-0.8810063374619604,-0.41496981203878136,3.35008775860257,-0.13513977087643783,-0.9696898324327206,-0.526507098598727,-1.2667959926906573,3.841583772252014,3.5159581502966275,-0.42463611295510545,3.656608961636186,2.8830891820845985,-0.9048868015309969,-0.9342527214922215,-0.5209004982328633,-0.18827325573330692,-0.08582927749521989,-0.29827802029751666,3.8556680864632455,-0.8905031921656236,-0.892121204481467,-0.30923898148062473,-0.8631955842340987,-0.06086184053683804,-0.4733271344574793,-0.9749458851931811,-0.3495628817758487,-0.4297718903508014,-1.0314161399870838,-1.0882345637911353,-1.119129408661558,-1.2262305699670397,-1.5375684342009575,-0.3134502254583509,-0.6404636046142586,0.0852095252864621,0.04637034590888895,-0.4873622328312451,-0.4889534594989355,-1.4610744022564803,-0.9479863697737888,-0.7809383408535756,1.5650552850930135,-1.624548400814571,-1.3127588836209396,-1.0007264314650857,-0.7330199764723306,-1.2932952772343975,-0.5591619713259635,-0.7918678442189154,-1.0600614564516926,-1.0131853986467936,-1.0958383996815269,3.4120037834452006,-0.6562664677126935,1.8516867876655188,2.2251744366668533,3.8887544278285158,-0.7023530088365176,0.6906800111222847,1.7384773399417597,3.8514007533035777,0.3798091998868751,-0.7914472885986322,-0.5908256741654007,-0.9831488749158788,-0.516019525914386,0.34797851128183505,-1.6744323116929716,-1.435725998406594,-0.20904912191341074,-1.5300344635768945,-0.4205292498054225,-0.40228796491975766,-0.9865072470966575,-0.8072531688683328,-1.0773433997269422,-0.016549544668755755,-0.22737334265070064,-1.1932555837339698,-1.2829803540114026,0.02337403573824137,-0.8055036606518169,-0.41018663694683327,-1.0460354063403758,-0.7736961929352427,-1.2135490198727155,-1.2671426877546965,-0.446729501747204,-0.5016895637863253,-1.2478009542284547,2.0431987465431583,1.6972007883953484,-0.8287494864799633,-1.565168347709881,-0.8240166992671795,-0.13243693199478998,1.9255063191323458,0.2648222779074725,2.525498146167022,4.391811926321296,4.393436606038472,3.68655285303244,-0.8541111664021832,-0.5073529830936176,-0.17611993149293426,-1.2553405378261846,-1.3218445627742879,-1.655587948164223,-0.7914380999846159,-0.04115219061531052,-1.5725490181539448,-0.768254562948079,-0.9343987216311019,-0.8746527552556047,0.17480746898636654,-0.8734219113540467,-0.7075483601521934,-0.2820471639927818,-0.8587925353784176,-1.4013595416960827,2.8449844592575544,-0.529018132430809,0.1978882338579245,2.9928730922898237,-1.2077020394331541,-0.24133452826677879,-1.1031449405785887,-1.3512664558575433,-0.6561205945916458,-0.5825574327159919,-0.9578247116499823,-1.094156698316014,-1.0478497861758074,-0.19840852277743776,0.1811436887285467,-0.6215054279981211,-1.0064081970682226,-0.29460437271663903,-0.8195416780920418,-0.5969322592424032,2.791997799023784,-0.5558330042971756,-0.3885150811463743,-1.1292240952796213,2.3317574673158306,-0.9131133295843533,-0.8792031844476935,-0.6161017868252993,-1.3612000588596278,-0.5803888662171289,-1.5329825822291545,-1.643688022626094,-0.5057191465260266,2.9926137159004433,3.1659250999792836,3.3373309227162884,-0.8971069673453452,-0.5906216354695759,-0.6330332036407927,0.03589080630716188,-0.042739486216697486,-1.2983490441668535,-0.9427162770730546,-0.3951509610536105,-1.3546855835472844,-1.0637540178368559,-1.0709835852483478,3.8262474406612146,-0.4440130763488234,-1.595918267883874,-0.15651125020139217,-1.610569909689503,-0.12269664676878786,2.521176191424963,-0.9550809827109128,-1.4883343492921537,-0.5878039384707282,-0.9364472766497762,-0.7535121885526409,3.4098438149032377,-0.6470732966067582,3.0942923412024728,3.4642891915966,-1.014080872493188,-0.6490383204477935,-0.9508380181192089,-1.030627847823969,-1.5383342926060917,-1.0301467500139203,-0.24433814262568757,-0.5651333638962265,-0.5486184371925146,-1.044787268131647,2.726178106541495,-0.3102508212710745,0.5580199855584487,-0.5640653855250298,-1.3628885372136854,-0.7679584117129518,-0.37098322978178205,-0.9217050283593144,-0.961140100200783,-0.9274990764123435,3.7968131262823386,-0.824835162152944,-0.622521498540807,-1.15382777383706,-0.3360815326628342,-1.0150592668219227,4.582964665283382,-0.7519604354894555,0.050271313922102163,0.2638567613137856,0.2361402786748307,-0.653974247603107,-1.1739191101872328,-1.135528855928567,-0.8854180247253225,0.633223335160595,-1.172530132567293,-1.1716069066251558,-0.4420796151033198,4.679196358231007,-0.48648714012985605,2.864050951484752,-0.7399054272225961,-0.7200708456123676,-1.4745083105306285,3.8126409303802227,-0.26944154681348387,-1.157317786426588,-0.43814804285072684,-0.996753150059967,-0.6326278927924682,-0.9378122178949035,-0.42830797851192687,-0.4560813850581214,3.0413072070203415,-0.9696577048423017,-1.2973989145538503,-0.9174972994276913,-0.9460918310872477,0.040113230576019406,-1.1884383154851286,-1.636900027814731,-1.1709760087872658,-0.6348991423254362,-0.9040384577829245,4.04992812298223,-1.501626896608163,-1.1577933612475935,-0.869642953815918,0.12466803668366921,-0.729223257122044,-1.035271366325659,-0.7331721629033899,3.966307611844591,-0.47577583293688364,-1.5535595498298511,-0.2796907360373892,-1.0457811204637755,-0.10440469300171488,-0.6134140142326062,-1.1942603716798839,-1.1035043415952603,-0.91518678846497,3.104676147256407,-0.7111080811837629,-0.9869599794782498,-1.0031501254195674,-0.7435100494173791,-0.5921222459936764,1.7587939553238232,-0.24774785215356476,-1.0135712385073847,-0.887843320297736,-1.2271096101050747,-0.5644483501558015,0.07456017258660819,-1.178000081413067,-0.5272021172251992,-1.1046166239750914,-0.2284824354303532,1.8054815920617442,-0.7426866403576208,-1.5011414851741884,2.308938770770418,-0.7721482428947359,3.647646548107199,-0.8459651689903865,-1.2068679980057686,-1.4861374033851709,-1.3486510479485587,-1.2510066306650762,3.5825647486708445,-0.9371805451699702,2.8591006886270254,2.9803581342568077,-0.9445640983409395,-0.8418752559704463,3.7157194745403954,-1.263470875780088,3.3593111352275704,-0.398059619074137,-1.581295733970291,-0.5753444728803457,0.014119558767099026,-0.27480874517200804,3.226671301041747,-0.36396798471747244,-1.003240068322756,-1.0987187375224001,-0.6531538502698208,-0.3499793619001846,-0.014750385598128907,-1.6801038046699788,-0.27266342885711203,2.7239503713588964,0.14221742588388916,-0.432285182623665,3.2836251262729084,-0.1521952342880457,-1.374822968802322,0.31040262931879864,-0.33273129468985413,-0.7856315579747274,-1.183538793915936,-0.9682140879779391,-0.8253896157508052,-0.5527268584973991,-0.5674252496151925,-0.8484582536201575,-0.7280818503222853,-0.5526762289059878,2.651514528507042,-1.3165320162542373,-0.8110556856124701,-0.194915393082093,-0.7160848057890752,-0.07161524643913976,-0.2739381122730601,-1.2836787500163862,-0.673097876572666,2.7383407524091297,4.199434670620404,-0.5597848528188362,3.0253373981106937,4.0592578345449075,-0.9667436346693068,-0.40894614972052196,-1.3816613662675603,-0.49417392509571506,-0.9797875359940701,3.843516526614739,-0.8026462600446703,-0.4080623451012157,4.0143370213431115,-0.20146995979890178,-1.1893998379847102,-1.7632347855500488,-1.2004242110014605,3.6952176114563344,-0.5984373977416313,-1.5863202535753382,-0.34760287089519337,-0.5654902112523127,-0.24304528030023922,-0.4793274862246024,3.6429967803189998,-0.9524614075309178,-0.4833267536129466,-0.9578375856934769,-1.0941489267583864,-1.4204628848985343,-1.403608621501192,-0.07746291086643524,4.029463766457032,-0.389057438762176,-1.021244456545734,-1.2107876356234624,-0.8145523580444379,0.0020230257314158622,-1.4530943909075473,-1.1794543018476396,-1.315399369004729,3.6658178464121085,-0.4658152868240633,-1.216401047598997,-1.329634417440455,-0.6003444261907503,-0.8276648679349052,-1.1875344024298105,-0.7618446199794807,-1.6961393724712492,-0.36939908340532807,-1.2472059780118012,-0.39487405065341524,-0.9412244472892435,-0.9386531849599431,-0.8572023596406948,-0.258217847577812,-0.19159446998765503,-0.9677392766119366,-1.0378172910812484,3.485486373074968,-0.7175917836133945,1.8571807094091897,-1.3763440154695843,-0.8527922995822784,2.9478763630905447,-0.5904890797854195,-1.4334993782101497,-1.0745963662279814,-0.7856421132172385,-1.0598252626358675,3.4208238468619308,-0.9660138400320264,3.496669999708538,3.842603361127586,-0.5430282621649851,2.8595286633848893,3.9351539295884255,-1.2075785638513739,-0.6280154758386421,-1.1115552406407745,-0.5089232360096847,-1.1819249214791028,-1.0760636687858158,-0.9307563238920813,2.316344615318658,-1.0481580346735617,-0.13972524951826246,-0.7668877863025608,-0.08569959329502613,-0.7196860762469951,-1.2093589132950913,2.546985702248969,-0.5342485878163545,3.7462531387651166,-1.3211142137122036,-0.875593331675106,2.585825135011497,-0.8983112831122365,-1.1151163156105728,-0.9859134313239795,-0.5434241869983204,-1.2765267330280379,-0.6977983400648903,-1.4469417680235566,0.5118742283335003,-1.0494505352927632,-0.8298400222422249,1.826552446872305,-0.5792704924482059,-0.017829028558040985,-0.6258818829470073,-0.3980642348995101,-0.2917642007942629,-0.5281696294756558,2.540067344710594,-0.5578340812591801,-0.07519302702332371,2.3143575501177467,-1.1178745553351215,-1.315694873629005,-0.12861331667344322,-0.9266533520469793,-0.7781543411115222,-0.5642491242626576,-0.8480418683447952,-1.0879341433826843,-1.5948289723648317,3.001363191684837,-1.238429174160495,2.499314683058017,-0.26303740016950083,-1.445927432663922,-0.9399707723734053,2.5682563388703317,-0.9877176636945894,-0.42301200518802873,-1.0980727583486516,3.3070514398828283,-0.7262612733796416,-1.1697866560478298,-0.1728191967881322,-1.5432096701267646,-0.7273396626025418,-0.8782840893520628,-1.0772604279523572,-1.115586009049185,-0.19402429397799054,-0.8409520993218368,-0.32324118713037986,-1.2747374120531465,-1.6750204512372204,-0.748269756909927,2.317377954713941,3.6513082541464534,-0.5597786159448631,-1.1609007318023639,-1.3017391557937206,-0.8466093185377946,-0.4438967196472599,-0.6044421363271119,4.227677395003494,2.783342882864026,3.728183352904478,-0.8529715025629535,-0.23399947071441732,-1.4794957826214545,-1.5306954574931855,-0.33435907105911655,-0.7178495236500722,-0.19818003179307137,-0.7987007846991842,-0.9415722806865932,-1.3133157390464119,-0.9481889949366071,-1.0114909622678074,-0.34042469974222994,3.1124097519053135,2.8276088532912236,-0.3826999998112799,3.654462884553126,-1.0243871480839466,-0.30941149287070224,-1.6343682557445578,-0.4254772915032846,2.9239067677780373,-0.1996195259647324,3.258164156403147,-0.9782473978957607,2.3702537615330628,-1.635663401449044,3.422829000967935,2.3117038112877957,-0.49290424452604825,-0.4497375134842045,3.5270657023433825,-1.2626305974787293,-0.9053756543166811,-1.451139100067038,-0.6193592866403997,-0.6589432428665903,-0.6171610347293568,-0.16032511094886492,-0.31029771288649005,-1.5102859806581572,-0.4732338324331726,-1.1833598897906044,-0.467426006937556,-0.6519950149095018,-0.5461947406881793,-1.627292628182819,-0.4268748436296019,-0.23809104687642038,-0.7075833162734596,-1.3049825066117624,-0.7957078899730424,-1.000326258387889,-1.622631554181096,3.5599470931688737,-0.838624004224168,2.9707766947094627,3.170794210669498,-1.4150836617109774,-0.8703507849260491,-0.3194214418794386,2.54613911438752,-0.8979085795130188,-0.4610582812531882,4.306634824777466,-0.15644979262187617,-0.7031058832985043,2.0669751274192945,-1.0743457789302784,-1.16104952327873,-1.7598686222801883,-0.5874544349289295,4.557223389267752,-0.7453945006909966,-0.1509551590849889,-0.8635145694329694,-1.3518661047416844,-0.6502333592483628,-0.856645703822666,0.016312844903528183,1.8397703299166062,-0.9976831969631925,3.292586761660794,-0.8728526680599226,-1.26349229616431,-0.8574886674337242,-1.188359911238785,2.1011969187548254,3.359676685407506,-0.9465775365007875,-0.9811595901074676,-0.9723284844686165,-0.845969778376293,-0.7247921450425115,-0.7675347923407373,-0.8073439122005459,0.34499848283350404,-1.6442641137836325,-1.1136466264339766,-0.4218644359342339,-0.2919532528985688,-0.33097124319631144,-1.2745926001281755,-0.4666080859722968,-1.1738009231644815,-0.3424882669192952,-1.0035942723969058,0.5752781130662072,-1.2099380261277946,-0.6903163338984625,-0.18273805793284847,-0.8341281788488595,-0.5292010951748584,-1.377807927308459,-1.1687497149292323,0.17965595027188286,-0.8937931727898556,-0.5330638000553064,3.6890095611473286,-0.7050674383442899,2.6685964088315304,-0.483550788528566,4.532435613741906,-1.4816036744127112,3.5948372060033114,2.624331387877145,-0.37057936917371426,4.098793014851456,-0.5708139321249402,3.8202134404297348,0.40774101416312897,-1.447341822288936,-1.5793773057399267,-0.410007504243811,-0.46347861786181543,0.3653081266799884,-0.8333309750869782,2.8657209605740137,-0.7106584690410228,-0.8793025708040948,-0.7181923186890573,-0.7074498547768483,-1.425451286664118,-1.7607933677734497,-1.4788053207739142,-0.5511945493469513,2.4399547455485484,-0.11980868140651957,-0.5987900617188228,-0.8377233997523077,-1.0804388089809287,0.24927506842131747,-0.8694662634461493,2.6098850626003998,-0.8114051043797986,-0.676297665447576,-1.2896886132810113,-0.5576402089571308,-0.36363833301813453,-0.6645186060037211,1.6965941293308158,-1.6647889379233265,-1.1975343977990929,-1.0357276421556976,-0.4345962118617083,1.7441766815041506,-1.2020393541007184,-1.1518919048541785,-0.43360433603615156,-1.0974767093668891,-1.463392752393835,2.4350003588596945,3.281090522262726,-1.057173662386553,-0.022043911173903828,-0.6287825683693673,-0.8057606901380518,-0.7370143587617483,2.961754960782259,0.010308176656923282,-0.41761670522169864,-1.3090843440425592,2.8753749521039187,0.594306014104876,-0.5279371716590621,-1.4158624437818408,-0.4492965334347437,-1.6786398928311046,-1.393868053352717,-0.8427033301668091,-0.49342271086961764,-0.44060794631467265,3.08437547890601,4.151888217611332,-0.7834104540415809,-0.6001820760425124,-1.5472123637160913,2.3598758373254265,-0.3270220769984045,-0.4611461224774991,-1.3764722495092612,2.086375602824269,3.64425179189524,-1.417362774197419,2.255571231923263,-0.20397450626445487,-1.0362556564219472,3.848654597711779,2.981662132235197,-0.9173392665202809,-0.1313784707310288,2.0082314631102958,-1.0516570627937851,3.27587343747504,-1.5946933547867905,-0.21780978629519354,2.118470646635365,-1.2513674105075843,4.372980978036879,-1.6397591276282604,3.6182292862481322,-1.1217162202104163,-0.19627545361856516,-0.4257105543417493,3.0242683997302735,-1.6788171752938028,-0.504528530802507,-1.215085794388513,-0.42895515696215564,-1.1036071205671036,-0.7794729987748275,-0.6292159203685086,-0.07091624366842586,4.591411913036258,-0.7003193368004792,-1.3879095092557294,-1.3335422467526223,-0.0658347945681044,-0.46081435043977614,-0.3651842823275467,-0.6648914329539882,4.010705847596031,-0.14284090351380915,-1.0130241505405737,-0.8780084349949814,-1.0051950326049246,-1.098124782552141,-1.1377020620015839,-0.9729561732751606,3.6277842217378145,0.25396204786788945,-0.3355273271909851,-0.87169944462392,-0.8989898823109478,-0.8113015908300951,-0.7935290798106439,1.9629496675212676,-0.3634506366547543,-0.40065017132852193,0.1267726578648233,-0.5642723430356238,4.1069318539318065,-0.9399304256169657,-0.8160719894472717,2.578202483956055,-0.90532214772973,-1.317861052348407,3.4336646232029735,-0.6263836466570719,-0.4214868292187191,-1.126748174530084,1.8659381332403304,-0.3814946340093478,-0.4074943428000324,0.0278689626349878,-0.11332294484422485,-0.7240844368284345,-1.1835074354123105,-1.1225529570407835,-0.9179560397110368,-0.335187278764234,-0.8743302777893444,4.173990486950647,2.6402689049219026,-1.4436110806886042,-0.9726831541444583,-0.04188681777091155,-0.3818871253291374,3.747277904043298,3.899100687197837,-1.5138464900848518,2.6310866288783337,-0.0907952253835038,3.47382627757208,-0.6908140217700997,3.2163395258796106,-0.951161120633991,-0.4658582106172403,-0.9067110839121184,-0.3274390750503797,-1.8162755236302432,-0.8792226209652506,-0.6107386792188526,0.257696348821554,-1.3012100573289596,-0.1532927080703717,-1.0442520512694484,-1.3020162919241647,-1.680287959048469,-0.5323610104352187,2.726168217741668,-0.07854067636433372,-1.1406365002428718,-0.09297693013864775,-0.30611633480031525,-0.4352859278308571,-0.34197245532642145,4.273017730741944,-1.6038348093937755,-0.5462761673765081,-0.6573054551596968,-1.5300547585514062,-0.8918080061159591,3.455487078386231,-1.2926129973900837,-1.0378641047778354,-1.2689372089525157,4.005107798400996,-1.1396365559606705,-1.503746446734509,-1.3020471116181782,-1.1765366860298008,-0.2359920285032117,0.279072566325366,-1.562260819006644,-1.3087106909643498,-1.3703715455456158,0.07160239425572815,-1.5013644455473616,-0.7052634081116651,-1.286965651425832,2.5188142581578106,2.1963251465419473,-0.5163990595960496,-0.7065038531074037,-0.7999050427825537,-1.6510847994070115,2.2230553449731834,-1.3361449031323718,-1.402771759219221,2.9396198628874872,-0.9699419815383215,-1.587185740904751,-1.5648963978160397,-1.073132454389107,2.24354922337051,-0.5503478213593577,3.4849723910779256,-0.8579044455042203,2.2111019608555904,-1.1482489117538666,-1.350872960863364,-1.0078396033292012,-0.7851504177902076,-1.1007388034156365,-1.6187320721604932,-0.8704492550494347,2.529946108775955,-0.35114625677301525,-0.720285818945961,-1.454433233023481,-0.7990709063239781,-0.39300287368375436,-0.9881493924020586,-0.3473489369557233,2.2398499718344835,-0.9796373394252796,0.24240142971191866,3.575650515969161,2.118527982059212,-0.2169844641731367,-0.7632307906551811,0.4802317515279217,-1.0765435640546515,-0.9686384047128997,-1.4790115868958857,-0.3121504495091628,-0.4989987081287152,-0.3838975110076919,3.156146609891392,-1.2324970612368962,-1.4605665510526666,-0.40264842595445943,-0.3089343173955757,2.4857879993206056,-0.6658125116369856,-0.9255234811847307,-0.7776931755964517,-0.1795344178453015,-0.04200785939745426,-0.2767241517272096,4.632214292894558,1.850647050091993,-1.0154449271539983,-0.5013298402399554,-0.8586011479566741,-0.9544891625210609,-0.8832788184299631,-1.0191683360980395,-0.6543516101874899,-1.0013140443359962,4.512367273449467,4.603713813109912,-1.5976223305642965,-1.1497850546344102,-0.6781830440129668,-0.7830394117613986,-1.1746650599007906,-0.6816326295687554,-1.1678297465324643,3.5901680989923137,2.630406420082058,-1.2081290101534317,2.372828728353706,-0.8264265157767893,-1.1457446735627865,-1.1884039771167991,-0.8965935138120219,-1.066645086297704,0.5774660348502466,-1.10596742514285,-1.5025151923196718,-0.7818872294463199,-0.9765313739629332,-1.2447319300823716,-0.9121781428216301,3.3564598851214424,-1.0462674471469562,3.3373118911208017,-1.5786478877244583,-0.5572727874416136,-0.861549138360982,-1.5043289049239204,0.038529992474099946,-0.49320794340140317,2.76908678394717,-0.5175397460215493,-1.4835716726103707,-1.4810988723523564,2.9029099783511993,-1.5248604258850644,-0.8145571373514852,2.3020064414657715,1.6694280455462762,-0.6800120494221304,4.126460359739026,-1.1884089935760713,-1.6091675839597042,-1.4256268617194954,3.579419603198987,-0.2364797036687797,-1.3190390804256746,3.303918870605874,-0.8008085563353443,-0.5694226278765803,-0.35577539102643196,-1.114098684053076,-1.0048118839498015,-1.153443065452737,-0.8135713122674896,-1.661072950764611,4.928886398872935,4.043601003501811,-1.6622649127096438,3.455035815347442,2.807270796943745,-1.2849780926045016,1.8116698495504386,2.751716095452389,2.6116085645946185,-0.6061680130462122,-0.7321681849719183,-1.5129829404782564,-0.6054134433535859,2.8049159306918114,1.9189506962871121,-0.526630247417946,-1.7854563270223598,-0.3730729975949161,0.1705923143744882,-1.3247999726540896,-0.7385457094571783,3.2013445706971435,0.16270539213754648,3.677245922236899,-0.9156422867440901,-0.15805088164354367,-1.1492528041919954,-0.16672604094873875,-0.6605004498324771,-0.2973125381899262,-0.6454496864553348,-1.1681150683637165,-0.7439463150541172,-0.410679700591133,-1.5051682572905398,-1.213596253495172,-1.6828168287907812,2.5553419085541047],\"y\":[1.834667996882525,-1.7483942044626817,-1.6909234632752341,-1.3367149976614368,-1.576004714492835,1.139483006867935,1.1923980244282957,1.2119037731107145,-1.535234495406438,1.5824094387393839,-1.5835935260817577,2.1451240283807653,-1.7229438674710977,1.2338775820000605,-0.7257650691849015,-1.6865990524642294,1.3293661919043,-1.5803814341458746,-1.5273814366719962,-0.7016721224647919,1.3652929685822017,1.085791783239033,-1.7474695956892075,2.15675048660015,-1.5431254341991147,1.3267641171346094,1.4733194541863173,1.3185615398405035,-1.5617323165370587,-0.7023708553882115,-0.7506334541291733,1.1317709856080003,1.032158962329237,-1.3354530477677153,-0.5712852731454104,-1.6008838612852054,1.373432486360443,-1.6186674686264284,-0.597852980118556,-0.48273663470779643,1.1642617954254237,1.0642888453278512,-1.5265591948029582,1.1412807665687923,-1.5711467429613912,-1.4041062551171333,1.04730551513025,1.1173483112457872,1.3645970383283168,-0.6630803255392252,1.0726505156013686,1.0767489794394518,-0.7325630422837534,-0.6592395810489015,1.226837437187826,-0.4464134486615866,1.368838761872737,-0.7731013765252989,2.070409252729408,1.1336814871647554,-1.4799827402936807,-1.7164844231785383,-1.1404751461496272,1.1704322521400536,1.9022984874198372,1.045354791858012,1.2726506537410411,-1.508280028661143,1.13405984834048,-0.8713969643445983,1.886893347200198,-1.5758194373886734,1.2728148549589613,-1.4591200326539682,-1.545400297852025,-1.422958576465577,1.0992726118337262,-1.7397271786486517,1.0686829641407074,1.2158849802896736,-1.5534831312455353,1.2307184404953346,-0.7538349446026472,1.203294129590455,2.095437412800997,-0.6966709438699034,2.3136722048554375,1.3120459109082916,1.2858259468008808,1.3614013732727683,0.9913655590161549,1.356025540646815,-0.5761476378297433,-1.5995717543679655,2.311415054713781,1.0420184919364572,1.263748373440892,-1.5208071310697167,-0.5816677931380354,-0.7934303227893662,1.1683701399827995,-1.5478211953773766,1.3144978338421895,2.123534526623725,1.1429731177213776,-0.8629343470536024,1.0455097190567595,-1.6325033285691486,-1.6434689360278942,-0.44965766886409464,-1.448239064649589,1.2819055613715824,-1.6108897933310697,1.0695173943967125,-1.4419627924363023,-1.154442899591189,-1.5643709618516153,1.89292483606362,1.2581629374575836,1.242674376409529,-1.6069973503831019,-1.6081802972403985,1.1066691450070885,-0.5286303396400559,1.245123136825197,1.1624016172189504,1.834241728888494,1.2148120198313936,2.158207553057836,-1.6347798741757014,1.417104768412457,1.4625615707353403,1.2263033830718777,-1.633460446799064,1.1272287559440424,1.069765093135142,-1.7439058840732544,-1.614006086472651,1.4231700174909256,1.017309569407883,-1.274025329570617,-1.6203856709704316,-0.8311216442435158,-1.4583481566202459,-0.8096082040872056,1.0345562994355275,-0.5381901150933235,1.2037338966195528,1.2757906170663862,-1.7107298565485691,-1.528985324329991,-1.5218583294906651,1.138042897156318,2.062399199891759,1.2727420485958991,-1.560141626111785,-0.7237564236372186,-0.8486667312524703,-0.6999458850631761,1.3504711859727292,2.039604015107263,1.9836690424608916,-1.5423327070508384,1.1121694300933598,-1.547340668731312,-1.4585873405227083,0.9844249247563747,1.1440271707121374,1.0799431234652808,-1.5340418563576594,-1.4732333700829963,-1.5199241419574985,-1.5587121488675024,1.1033146143487202,1.1020765474429834,2.3018291665820345,-1.5350027923914291,-1.4762905063989618,1.2162364649974773,1.2249709750127233,-1.380202343789993,0.982226095423347,-1.5705336959294172,1.2793492235845132,-1.564321152521601,-0.6026907349158908,1.075589161471018,1.0892767434370987,1.1615398344202907,1.134461437641277,-1.427760129805861,1.16771734079864,-1.6541100328901999,1.3690187384095862,-1.7495651655175848,-1.6654337622108144,1.1465542490415088,1.212615274271758,1.3859377771761028,1.378966224156745,1.0811534917607788,1.2152950321619502,1.421951930715134,2.0369218098300688,-1.4920513568366667,1.1710839497074275,-1.4120326433517412,-0.7534592293144052,1.3424414102071944,-1.5836403639594383,-1.7343330900370921,-1.5462975293678216,-1.6294366101584588,1.1498341221524373,1.1960384460909514,1.1274036189728718,1.347583587308577,-1.6251850665959688,1.0786093400728411,1.3567119168545057,1.1036018057942973,1.3247077508937202,-1.6534405357149335,-0.7668221980591012,-0.7687583849715909,-1.5019267358301625,-1.7139949981715508,1.3709202008034964,1.2406636538501055,-1.435052150357915,1.1995604668700155,1.3260655938584842,1.1158421406306878,-1.4240093962130005,-1.5068995504515672,1.9696787442488337,1.0555710394165367,-1.7031271026954866,-0.8666355334629012,-1.6081020334201945,2.079787247428179,1.2459525982835917,1.5613200050577278,-1.6275599162434833,2.225876685947795,-1.2683486550262997,1.2786786753648656,-1.7243453479834696,-1.6631032695400039,-1.5794969752599097,-0.8463042806238817,2.3016499942962434,-0.5307429490428592,-1.681938467427842,-0.48047659919232016,1.381949499935879,-0.45349672570580396,1.09486274690523,-1.4228016096777885,-0.7075701893596825,1.3414133210587806,1.8403565098397752,-0.6278470395234882,-0.7129358377344827,1.3056378061376528,-0.605035170410518,-0.7809617313908148,1.3706414862762601,-1.5527358027917537,-1.41908642694306,-1.720453273417629,-0.5645838724856659,-1.5723355669099672,-1.421553675924277,-1.6113923782440145,1.3139481840221117,-1.6081307586930702,1.0916070451412445,-1.4523006410855432,1.3064168182100184,2.0399760783157648,-0.4669708520227789,-1.5647165863276953,1.3433478695834986,1.254183331758474,-1.5205331080572437,1.170038858478755,1.4340584700839996,2.340844377193462,-1.315529076970883,1.0698652219969191,-1.4082566048723233,-0.747599768704835,1.0648754302022625,-1.6718731344910605,-1.6033541364235309,-0.9213584447257951,-0.7354745847536903,-0.6471727251761286,1.2907797786700281,-1.5306196063985307,2.1382212347987184,1.2425062135950513,1.0683362909319092,1.2457204185051154,-1.4674455135427211,1.272426553272964,1.0818574279481512,-1.4006650997964156,1.2092413529839174,-1.4886400162786462,1.072025680582808,-0.6205109227307397,-1.5532599769616688,2.0399378038619904,-1.4395382277540254,-1.4680500731606152,-1.4204363843960508,1.271506712257103,-1.6133628614495794,-1.542922606870972,1.3494548430622288,-0.6708113098952518,-1.447644223186759,-1.6407411209412295,-1.5383951063013015,1.1273358071314104,-0.5490455670563541,2.3117710583529436,-1.5369824076531344,2.3583524393115702,-0.641379211205352,1.3852945702001882,1.3775167753956505,1.341030641674386,-1.4221377792902368,-1.3993262933143935,-1.3423803362210545,-0.48400297103704987,1.228721234786828,1.2605886210154675,-1.3550451802740517,1.4189840076698572,-1.3697910161226337,1.155274197153959,1.1277277295979011,-1.6733298952500975,-1.4896736726979338,1.1430457165387486,-1.6479389292496676,1.402053790780119,1.2739497709278234,1.1186579563662236,-1.5028683678383608,1.1173246621106054,-1.337143617446302,-1.6362416196126128,-1.485175824389466,-1.7686626150974945,1.09329129632732,1.2853949471250359,-1.625619051371698,1.8412751507899219,1.0694983087750995,1.0970889259926067,1.3057831033526268,1.3461352458121676,1.2677261603169943,-1.5185236452488629,-1.6594697401934633,1.4492412010236873,1.4274395625339409,1.2382181808702246,-0.7300571811394874,-1.7314371397654644,1.9132810314135758,2.030316360035215,-0.7417866239714013,1.4090698175230614,-1.2761678120351292,1.961658825922055,-0.43922972019725876,-1.3731303595889301,1.0480349701713245,-1.4364304838968425,-1.7458109475535974,1.2554342318811442,-1.2114828277747058,1.1822611031232653,1.1129239250070933,-1.4979994392577354,1.0473703660427032,-1.4623950189594916,-1.4540760928653524,1.2701816954287646,-1.4203422103294432,1.156015395764438,-1.5483336020956497,-1.3716612532437205,0.9829246186994722,1.3135618584507578,-1.6456822480542737,1.4000322502652776,-1.4855022218228218,-1.584817780285476,1.2780844051337978,1.1615964582759424,1.2604830475521904,-1.5495928377358366,-1.6405391740802278,-1.5821824881198432,2.0773516542886123,1.9563521878957983,-1.6594978780513958,1.0618488484933073,1.1561528320808494,-1.5185005159919858,1.9394926682172613,-1.4527786024552012,2.207333524403708,-0.4395622507511866,-0.46787208932676466,-0.559121687509386,-1.6113439507787488,-1.5330451339930635,-1.5254424293701412,1.247229653161111,1.1690209827127291,1.205901036847215,1.2775985833660906,-1.5017191881551046,1.209870200404838,-1.5508165924433064,1.3247149335713182,-1.5836950638162266,-1.4551878886202805,-1.6362786527853987,-1.6214990700135175,1.1423079898497785,-1.598060849101137,1.1466038973984383,2.0759256021973203,-1.8040499810553825,1.4439155523053242,-0.6112289865218574,1.188108337772086,-1.350527510181858,1.378071618032495,1.1739364012938254,-1.677055765340948,-1.6014453638474593,-1.5617486632824191,-1.6471930529314205,-1.654396591415108,-1.7483378441008928,-1.375372871148363,1.2810828097652607,1.3556019929177656,-1.5229362885511961,1.1452564875426519,1.1890293999053099,-0.7764417175897178,1.3632291501811458,-1.3606246971464222,-1.6310473663906302,1.8987905487728876,1.3331251358515506,1.3201500320475168,1.404911803521314,1.0693154194417283,-1.6859565916188977,1.1076401815236612,1.0396396014169842,1.4104215657211316,-0.688128719139577,-0.5707374254577514,-0.6325579438496198,-1.6626703369232363,-1.748109457962158,-1.7092881366268167,-1.4271615875620487,-1.5697781833071995,1.026233061819261,1.1905226805873512,-1.562101180159569,1.1792327384688428,1.3791787268219793,-1.709614741427088,2.2225482313358635,-1.440633131799782,1.019953945453444,1.493706214027809,1.1396134969354104,-1.5048544745455503,-0.9200196526469031,-1.6235813887423092,1.1450607609925507,-1.5462306639918646,1.2345283429273892,1.2867165736903607,-0.7070476269809298,-1.462476423058692,-0.7021221132932302,-0.7600020581288764,1.1630919424682198,-1.564243715864193,-1.656238821711526,-1.6167505055465936,1.1727075768549422,1.3108177435993833,-1.402857432385297,-1.692243301104028,-1.3786991523934788,-1.7204101011490298,-0.7990527428907066,-1.4815034763585382,-1.4688519495602543,-1.501446414673482,1.1274454184330602,-1.5758002969322682,1.5127213201772294,1.02861107750672,1.3045447408567221,1.1102302589799942,-0.5848335207107913,1.1166892247141202,1.3090409386559594,1.2775205795229962,-1.5282829592328773,-1.6190391590783517,-0.5114894867321258,1.4096886042260603,-1.4390286988391565,-1.4857936846241235,-1.4581407031668858,-1.5138360832610853,1.0579149937116303,1.207981189915992,1.226625664958451,-1.3000663876283123,1.0702555387057406,1.0285414045019743,1.315836799500236,2.3657996595318043,-1.4235011623718596,-0.6693828385833738,-1.6237610843415635,1.1658001875845583,1.1575642969708584,2.1338873847328474,-1.407447953796992,1.1257058128881805,-1.35648923541464,1.3009602415486547,1.2350201050328398,-1.631452679441093,-1.4902769428000429,-1.6508848576276096,2.135726611062079,-1.6968038075204557,1.32925373797013,1.3364064613113853,-1.6741479739425988,-1.605072198175039,1.0153030416827344,1.0914090834966226,1.1434187681331853,-1.5313131999665892,1.211054202076884,-0.530687981544829,1.116174954389917,0.9854926263066541,1.0166686777711476,1.5575961283591422,1.3447839023625165,1.3850862833469628,-1.6787907264328046,2.3304040742725762,-1.4987262108475357,1.190140882484716,-1.3355190146715015,-1.6654337622108144,-1.693957514791709,1.2974779409203634,-1.658813048617952,1.1334294417335962,-1.5780966196376653,2.2178995787658122,1.3744841358275008,1.1519155700502097,1.3172825169744407,-1.4139822961581026,-1.7235070314466001,1.9249192380815645,-1.6408909265902372,1.2641528224989604,1.1849704215256085,1.1819953508899814,-1.5857736203570105,1.504896601230863,0.9766379092143425,-1.4565694230307396,1.3241113129504614,1.2981191392226057,1.8904139513310767,1.2298053433335214,1.1914424283139793,2.176379915006092,-1.5761104024575545,-0.7103766546311004,1.225813668111782,1.1208246802695128,1.0883355382561894,1.2664455090026072,1.02689800566824,2.170910677179866,1.3787233155998695,-0.7253099569293902,1.9931897013191664,1.240954352726779,-1.664097580765153,-0.6660965510184328,1.2904471594562823,-0.6954732287669574,-1.3729663603762126,1.1791110813798675,-1.5390653878280494,-1.6370946940291957,-1.4961089630411653,2.2031772519478685,-1.5281860562518559,-1.684659301378158,1.0645725335247664,-1.4690228726501058,-1.5669869373382057,-1.3700341102232803,1.1263949213276343,1.3547509351185785,-0.7184824981419411,-1.4953254045495272,-1.7265906797013415,-0.6267750827109099,-1.3690867676335496,1.0768619329745521,-1.4782362391817208,-1.4642124854483791,-1.514738233687696,1.279973633638639,-1.6383438023458226,1.367639877851082,1.1536307983202243,1.2077991202476557,1.22530044352503,1.163718644942965,1.2883250701635383,2.056803749721311,0.9973873577924095,-1.6408652638048462,1.448482903266404,1.373733211081162,-1.7178678161243226,1.4494822516640098,1.1796761903843667,-1.7446755025847056,2.1661799674308426,-0.619717994397701,-1.512783981997496,2.1747446387613807,-0.381549395951415,1.1715540197539418,-1.669246132442815,1.1658875665987463,-1.6087766339125054,1.174024604209642,2.1376609473737482,-1.4374921276674202,1.2103058733792518,-0.4265028129985321,-1.5097710837526703,1.331671462186745,1.1266502131853773,-1.6562729639774956,-0.6474301078273296,-1.3941775058461476,1.1934996675785736,-1.394136734563444,-1.476399585780899,-1.6571058910711294,1.4485479809570871,-0.7170628779510134,-1.6142813414903316,-1.575769194227527,-1.6743083328759685,-1.5926294777472798,1.0517655131759944,1.070656134233195,1.5132244240823052,-0.628722502200685,-1.429445916252055,0.9983011619312019,1.0207035366134312,1.227910919699131,-1.5572951724499846,1.206077727509055,1.2789139187258343,1.0990364419203054,2.203414945196365,-1.4625779579426987,1.1737918232760227,1.233473964808051,-1.7574750070522875,1.2829621911207094,1.2388094896069362,-1.7032130422206289,1.1141266919548218,-1.4213643034721821,1.33831126140122,-1.3391176337983433,1.2616564799591918,1.3452704566078026,1.2617125636070192,-1.5374015192560733,-1.4580926210329117,-1.7521611591547395,1.337098980089485,2.0434819963892528,-1.5144178090162719,1.9730806132982348,1.0430902805980529,1.1388723549060402,-0.8265059919428039,-1.4348379457150686,1.057439569140786,1.3203884411386104,1.296978848823427,1.2610926883313331,2.099623356256443,-1.643123439473387,-0.674208097052754,-0.642175098014988,-1.4410709769973673,-0.874035176339415,-0.45910517791880473,1.133894820658929,-1.4312505969319966,1.2984412660892766,-1.5414115309842076,-1.609329642714725,1.181740423698031,-1.6141571901730927,1.950298235816714,-1.643890003958913,-1.3875773706496926,1.358815676747736,-1.5167966766606378,-1.5613294706642271,1.2765317791226272,2.021206248089605,-1.6328937640485168,-0.7739772175247217,1.095822462553028,-1.7310442153538352,-0.8386163676660715,-1.5702265782103257,1.3079293573826585,1.3471562114882467,-1.5510033689830727,1.1890673601978001,1.3010806959891537,1.2743245521994457,-1.3204732938664303,1.2847253298023829,1.2905592819740388,1.8898065194395888,-1.5542374638467125,-1.530605105144398,-1.5493062236958006,-1.5351734567437292,-1.6539458753935263,-1.423134470747354,-0.8612193589937104,-1.7921750853612477,-1.5413293065677658,2.0396068000622587,1.1141100834300914,1.142360759513181,-1.3969793080442112,-1.6939614224339183,-1.5445149655201798,1.347617878847139,1.0913736861294112,-1.7026295086658312,1.174255232009693,-0.6807001177036686,1.2022849571892993,-0.819130953204871,-1.746556130595436,1.2216864943830574,1.2912466494097585,-0.7576038698735043,1.2089462984112,1.3267383267595936,-1.6607053992655465,1.9779250812413933,-1.670869356439908,1.227050392417418,1.3852225519843677,1.0527997969616796,-1.7223227577486857,-1.5842006242751476,1.2011508843534835,1.0884430179854492,-1.4253311104892523,-1.547756707658456,-1.6448534919895526,1.0366773315339985,1.1599904772453982,-1.7491499745996517,2.0935676451893053,2.3101765530199314,-1.574961543395751,-1.5426084271724223,1.0276301083715125,1.1975066092927316,-1.3360974551965197,1.4205842050196698,-0.5117877877811847,-0.7439720385800499,-0.5559018712015704,-1.4869878089907052,-1.422053440479618,1.2261862961174839,1.1806840157846163,-1.4170018200186105,-1.583748146666781,-1.6124820273711313,-1.6221783562927405,1.3805331259061946,1.2478100341210105,1.3669849224721868,-1.7135670827537726,-1.32767267525281,2.01036809529309,2.098796818130369,-1.4140369917504614,2.2834135237844437,1.224178802073404,-1.8254690859609894,1.122732955910037,-1.431637678561178,2.181297713219774,-1.3842246038340897,2.2410974186754116,1.3789944039009219,2.105315640773073,1.0465173836139423,2.185324983358551,-0.8266343830373534,1.2199286061253827,-1.44161170504526,2.0817968369921696,1.1609859405554546,1.3137353790236357,1.2835453832830561,-1.4731587328400517,-1.590248594995492,-1.7677267706968505,-1.5436951846248983,-1.3039335966058325,1.1002419701171224,-1.5496020476496088,1.0814034331773437,-1.5358908192787966,-1.566877912752333,-1.4376408521923403,1.1293579161318341,1.436793147709945,-1.6677214422569295,-1.5731090217411547,1.1475647001520966,-1.740370288081545,-1.6250756772584494,1.1751380897309633,2.268995344452799,-1.6180436617323317,-0.8451478700310451,-0.5829883146604401,1.1996424116247104,-1.7611557468014418,-1.4235656746589667,2.216240720483268,1.1395733669422834,-1.3649355350020707,-0.5908107746927852,-1.348964051787701,1.247574974099092,2.067181730804903,-1.636480625400887,0.969652676453086,1.142083772073736,-1.394951794767439,-0.4818522765943827,-1.5932461725581117,-1.5595466864467997,1.2955039602060652,1.1527416394026526,-1.6209127510612813,1.184460752543666,-1.4736603940127393,1.916754893713256,-1.6369341784440545,-0.6935496944439152,1.3874846216700316,1.2132244351950126,-1.5483452493111174,1.0437691233159945,2.046579834577971,-0.5097281010358031,1.3479083173971351,1.1090325806915742,1.376889578426577,1.3248178432972122,-1.6082639126496523,-1.6068654096031905,-1.5200412741026295,-1.2907326052219732,1.0742405984606458,1.36240938476738,1.2889419236525865,-1.6054923250051523,-1.783107250227455,1.145439133920028,-1.5293779904497822,1.1741378722495739,-1.6889633656302154,1.3352503579941513,-1.2275374011660094,1.2420892996546167,-1.7032162770118098,-1.4811561353522922,-1.6783157913527713,1.1427850981167818,1.0436935507001608,-1.6147590736337005,-1.4721873148856206,1.2544139125366471,-1.6133738328971179,-0.581606632336299,-1.5222888848238474,-0.8978135798020666,-1.3040659388849396,-0.5640228303403231,1.1673437577280275,-0.6059609476342246,-0.776591401409579,-1.7070921568549193,-0.5240888357919652,-1.5111250751558238,-0.5398296304651876,-1.3020593067270905,1.0304749750923845,1.1237537297455833,1.3198018536596694,-1.4414197207118178,-1.3169213687238848,-1.6040283319278152,-0.6526198411771292,-1.4732745594994447,-1.6100661069581343,1.1237723758968354,1.2506040349216099,1.2465490799068704,1.1736035344423188,0.9716923372847648,-1.7095362207369433,-0.7813536474882435,-1.5882180407225988,-1.6727405725996072,1.2107990428519118,1.1460658951405718,-1.220270921097888,-1.4958152833499625,-0.8564105697060153,1.290647899141123,-1.6525574940999215,1.2240197949169545,-1.516830643987564,1.4923797465549633,-1.5802730976451504,1.9468341582570823,1.140902139978218,1.2405898539466358,1.229808144117325,-1.5889564934803544,1.9370583263187087,1.273515428612085,1.129238438154554,1.3123441831196083,1.1500249958657807,1.2195503249942898,-0.8005137065705138,-0.73581872408085,-1.6624335607741614,-1.377921776673638,-1.3922161450169317,-1.6193650575556173,-1.5905888849081582,-0.6902926086211917,-1.3727453841479438,-1.4155024567133783,1.2762263646643621,-0.762713035126145,1.5340595503768175,-1.4871775206112061,1.1725865610013817,-1.351851906802415,1.1257916512255257,1.0464389143199502,1.2880849414035975,1.3252918058658993,-1.5468211874132984,2.003397695700462,-0.584742779933677,-1.682034493230721,1.1245277930735669,1.0204467522475584,-0.8664160753101273,-1.3574260103727263,-1.4885108356398786,1.30063673367721,2.06927649685284,2.238633747048513,1.1927333575731305,-0.8448196626063869,-1.4167935331653854,1.3132800239297997,-0.7562690047126851,2.2165922220114096,-1.618180549722144,-1.437673418728601,1.9891639168160893,-1.6039574065256388,-0.6812932763186599,1.118126830165598,-1.4309898090850846,2.042867966291691,1.299795853567721,-0.7697773675792149,1.1738003341712404,-0.562815147085933,1.2093660636486476,-1.2952286175618277,-1.4444237712316161,-0.7481645746899517,1.195616891563473,-1.3990610930473202,1.2374900738973962,1.312800031838489,1.0088429595097137,-1.6103949384043035,-1.6998970333190717,-1.4416445082927212,-0.4936221129735137,-1.5566086482544617,1.113578078818632,1.2125631431220254,-1.57609679274698,-1.596730712017904,-1.2962443192219448,1.264774839381463,-0.6582297135704245,-1.3360078904045583,-1.6583684864095176,1.3544969081920775,1.4775012075743803,1.1184944946296032,1.207141270102598,-1.605835560060812,-0.7084395838634726,-1.432698753283548,-1.571679284544322,-1.5723889219714682,-1.4819111953146005,-1.6518453266320865,1.3921376876170868,1.9557628181579745,-1.3881538037441006,-1.4072735538107557,-1.6081375808333855,-1.4118075855312129,-0.5818398250302106,1.3626563409422505,-1.7212090435546272,2.067330484540924,1.2104323425512793,1.0877169557889566,2.274242773323407,-1.7227976928287179,1.4705114810482967,1.0467201184038841,1.9986696674430453,-1.4865998264469378,-1.7163414422422791,-1.4819452152687929,-1.4340592355216428,1.2719861576400409,1.2948796421406894,1.3201551616739007,-1.6801095939587587,-1.4942552342259723,1.3357993631179965,-0.658760653550888,2.0218987080839974,1.1619788145279717,-1.5846043248606339,-1.4882026225891338,-1.5149879640182378,-0.734587938187194,-0.683760567978047,1.2149944396120356,2.015907735577946,-1.5968982306522568,2.2657848703394627,1.301929510548524,2.076328152520809,1.4412977113093017,-1.4695636993503267,1.0955345529478662,-1.5406250041859348,1.1107619713497745,1.1901320871287688,-1.777981589803834,-1.3446074920212199,1.3920616831495982,-1.4533923536038802,1.3050695810299076,1.229099964197868,1.184674183531699,-1.6323633742401693,2.0737813426827936,-1.5561755688462462,1.152959392576187,1.4855441812564636,-1.6108332449327607,-1.5308765796088026,-1.4649354837816913,-0.3898046340045759,1.0879677718417253,-1.4192421005025577,-1.5965381159715282,1.1064336413194436,1.325965813340331,2.1393625875236593,1.1530520287159935,1.2877519438856424,1.2600063650269813,-0.7755928100103723,1.2688599275477828,1.1157666240039812,1.0464523962041026,1.2170955940223118,-1.7072188907123005,-1.5440340214859645,1.1197055835658305,1.2424250366911653,1.2369588284656197,-1.5175574598930917,1.1259686476234205,-1.678361288158134,1.177525033473094,-0.8540153987716599,1.9845537471791288,1.220605639753674,-1.5440518439230566,-1.6217781379640517,1.0738264526580463,2.1152822998499117,1.184886688214514,1.1058788096148693,-0.8495454620439674,1.186336952088895,1.123794271118889,1.071201236315741,1.3197851710365012,1.855857494570188,-1.4380546264868246,-0.7149712925830871,1.384302832472239,2.064633783734765,1.1908640886346344,1.1429804486945059,1.372362467096929,1.3682393198619098,1.244935079001064,1.219000137742738,1.2601648306901754,2.0506941592172687,-1.5982810067465754,-1.5275846719286144,1.1310902954700384,-1.519597900216884,-1.5566889095885228,-1.6580448039265698,-1.4444594216145845,1.8227044648518365,-1.4891694975908305,1.536691204060864,-0.6661536396661125,2.0217431567292596,-1.4849714275839638,-1.5650467735014182,-1.4358889890749855,-1.5937018147897957,1.2348075301924295,1.130459892444475,-1.5852729270116175,-1.5516288763761605,-1.708883771702218,2.1635323632845282,1.2031348520593634,1.2277191954041418,-1.5569707103036823,-1.4784133996989817,1.9628439532139212,-1.466711043484435,1.0600844977404067,-1.4456703898141077,-1.6201657834085128,-1.4881343530751128,-1.371708134895208,-0.32986425587994095,1.9131587473161356,1.3592708134523994,-1.402760852504379,1.2175049372046371,-1.6276695115697186,1.4823685057179445,1.3784503122237692,-1.4930094163501255,0.9950293959705884,-0.5549168770769315,-0.44888487150883244,1.157907027513655,1.0736781248594305,-1.7425799327563287,-1.6436883210471358,1.226039367815066,-1.6410177502846728,0.9724467695575881,-0.6144894070232063,-0.8193268049091973,-1.6530978581769247,-0.9153244368550397,1.2454852109266428,1.1465675912691304,1.1355706555494598,1.260446111663694,1.3460065273885746,-1.2809161045592647,1.380647978674802,1.252675700830774,-1.7128903151344588,1.1898645540632098,1.1906317051732238,1.286474631993874,-0.5908801740629852,1.2828657492943156,-0.658540403780099,1.0230216006897168,-1.5416305886723172,-1.6487877932347967,1.1008084799073947,-1.4908467977475528,-1.6052955983462172,-0.8779244732855356,-1.4136707740002352,1.1284067042494483,1.1748054301935134,-0.7252485067412674,1.1436330009745355,1.211329978002518,2.069574577477448,1.9113186743503594,-1.7246444130743839,-0.47333250422019696,1.3344670236763612,1.2477030807664862,1.1666022256771593,-0.7721568973173156,-1.584352242031923,1.2906612724216409,-0.766928765057607,-1.6614925717225817,-1.4668054924656388,-1.3391315493813494,-1.6644807624245301,-1.6232620497931114,1.1095491642233202,-1.5664433523743726,1.1185524100002238,-0.32706692220144384,-0.4087481387066493,1.1285080679247663,-0.5887351917172625,-0.7011968353487709,1.0835849500551546,1.9759995532514771,-0.7991336755043608,2.0290562001768535,-1.597719919786861,-1.4939390181160301,1.2006627412514708,-1.7110597165415369,1.9834835873410863,1.9519970198929226,-1.5432053545704854,1.09806154814749,-1.8683141224589392,-1.4838097165701019,1.2378778932137005,-1.6054204436746935,-0.5379825351915242,-1.4652020821243648,2.126780348125676,-1.566803500957188,-1.3666736872251155,1.243048169778374,-1.503609049656982,1.3655268644952279,-1.5550881668989522,1.3255453542332964,1.1313039093222688,1.1593949393375866,-1.469268097638675,1.0961780495835993,0.9913068980129799,1.0763286143376085,2.187712419560752],\"z\":[0.29858380247926036,-0.9536891738288786,-0.7286746696186803,0.719842977167007,-0.7768021755530695,-0.7859082626055534,-0.41550030216017075,-0.49472752865594394,-0.5670166522859867,1.2930266475451608,-0.8714315441667673,1.2009682275603555,-0.945321834543878,-0.1800592433546953,2.1759834891403584,-0.9444632154946633,-0.2042946705674237,-0.8983738146052029,-0.22039903981769038,1.9468071524962087,-0.00343441962260818,-0.7534341898365884,-1.0023069120845651,2.0182136101263706,-0.5837453459656554,0.06036202071489854,0.09759318914060564,-0.08275505005901505,-0.8669813837552882,2.1015744339213036,1.8433919648744574,-0.9146459177384242,-0.708986486908021,0.04127679608602898,3.132806075214621,-0.9619596851055534,0.19344711009813143,-0.9060456716342676,2.189408692701231,2.8832334107489554,-0.8446055887708799,-0.6873465690915233,-0.5780805212900277,-0.5746703481260993,-0.5940076568314153,0.6079773969995198,-0.8159165812093396,-0.802404859016449,-0.052912011904879604,2.101423758421422,-0.9135769064574945,-0.8005126258637713,0.8506763467674284,2.0215756315639393,-0.43044480875079627,2.827319372495515,0.027834199582996145,1.7374557877953147,0.823954426856492,-0.601454516678996,-0.38529681995866255,-0.724114720132027,1.395747129418487,-0.7547636987354464,0.11906351028219554,-0.9522301905633873,0.0796869961679491,-0.5684236880251072,-0.6071890700769097,0.36287038013980516,0.2732114608820375,-0.5345481224589309,-0.12628129052469744,-0.1093550872033396,-0.4579385523448698,-0.1580904333039718,-0.7701475144500547,-0.9696391832989488,-0.8686476697438892,-0.5534183825485646,-0.7293560838715296,-0.4407201467691502,1.9738772616790754,-0.1847724869888978,2.1945503867453486,0.6466599067003154,2.5037011896710597,-0.1815083220190705,-0.4331718783450047,-0.18073171538009825,-0.9287895683518155,-0.19233349344050046,1.3972603715593,-0.6229752034194224,2.8103485984691345,-0.78506053118292,-0.09624581480984441,-0.25146766703578755,0.755213546034293,0.21067117426581486,-0.5852136679730663,-0.7951216233445207,0.6670054484524395,1.4598150813894917,-0.6828779914088279,0.35438129852040223,-0.9036319723847962,-0.7759390089784881,-0.8593875161667047,2.7908927154148437,-0.2019884845652636,-0.11474668449429992,-0.7123765204409893,-0.8975839040795771,-0.14721469802646867,1.4034607724644705,-0.15605296846470337,0.4822076394826909,-0.38570061212476475,-0.5438849396313264,-0.45682475971060366,-0.9553353532293924,-0.9097485179134949,2.1714183519226786,-0.2606598101200705,-0.8165739030775723,0.3147876968623437,-0.3003501530489137,1.607846697108949,-0.5937818500995481,-0.03758439385615358,0.028576825757672213,-0.1740412936280162,-0.9613706380732044,-0.89324889807974,-0.9181574127413765,-0.9920280178270282,-0.927243892979224,1.1608218607703333,-0.9172445620772101,1.1652141606333575,-0.8078877620256215,0.4710321599151136,0.40373877996011465,0.617535509725576,-0.6717752805078328,2.267577783151579,-0.28027085011386355,-0.19088269241638164,-0.94402688435959,-0.6728525607676759,-0.45275239085470714,-0.5729699164588381,0.5529992435968615,-0.5116055141651962,-0.5222195953242238,0.6569958618687862,0.18568095284050876,1.9561243917664817,0.5352087196785904,0.667324254349749,1.8899747743313615,-0.23294153607509094,-0.6706289158617227,-0.6808711655733455,-0.2365321522369175,-0.6971874552881931,-0.5899495005411738,-0.8716001495554915,-0.697412563989373,0.011149329013353387,-0.42573612503303754,-0.9562298320562929,-0.6628710275830135,-0.8603525373966334,2.937018038239255,-0.5629315660544287,-0.23413570549739693,-0.36736597287255224,-0.39090823909115774,-0.12676429058721495,-0.9614320358611906,-0.7653555213892967,-0.48333002576543305,-0.45756078144108264,2.5181076880767055,-0.7672923045952015,-0.6562951654708632,-0.5364891434132698,-0.689563977155239,-0.05888380073828371,-0.6927897793497676,-0.9196466467568989,-0.10128303555094653,-1.0022690201702036,-0.9607924993192323,-0.6295251516585941,-0.39268094378190926,-0.29954766557983575,0.1347401147621574,-0.9202230548904091,-0.3634113440330927,-0.021330299088597782,1.9712944985710201,-0.505829983474675,-0.7379041057152559,-0.12615134942748607,0.6372046514807955,0.05043389307336856,-0.5501896519294357,-0.9326641838748357,-0.4219332001528748,-0.8039925112285495,-0.6829664058756716,-0.39241684862120696,-0.4872708757269429,-0.24078186632138882,-0.8910577549695259,-0.8159479347652496,0.975701973006726,-0.6821660827147608,-0.22349685044450174,-0.6622533736835543,1.7768137979008034,0.5158917092100238,-0.10600600205046491,-0.8740605507752798,0.9051198689667052,-0.48839403188528335,-0.3341597526499419,-0.48133381082247256,0.060374651353019164,-0.9535047367737332,-0.07736941287623261,-0.5419221434238248,0.5100038162306108,-0.9627582528638478,-0.7275393908563884,0.337223832262809,-0.5053701588570543,2.0851048996232158,-0.6539471678435578,1.8082474472562973,-0.5017192848863525,1.3425933258906653,0.9257007271894829,-0.05135844341605262,-0.9320972177422227,-0.9448880642314452,-0.7624530560960077,-0.036427054845921146,2.8115257508119584,2.5600236337017144,-0.7442641317824006,2.2986885317717536,-0.01842882921185122,2.53197302683338,-0.650072407757969,-0.14458920222318916,1.691784309030429,-0.11839775672223847,0.31513362269748796,0.9581949470240543,1.8957508295774879,0.5941583843504838,2.7161821522423804,0.32291971306811595,0.10905880991335458,-0.48154776755408873,-0.3294326227484531,-0.9541943993537004,2.4440504279330733,-0.49603297821305814,-0.30174419467831304,-0.8878002646600003,-0.2936339413346261,-0.8646266082087034,-0.9185880026773041,-0.02822118781948319,-0.28212755391758354,0.7485156152893716,2.9142786229613282,-0.7462151027718055,-0.11493287695206188,-0.3010620617429808,-0.4566783136984382,-0.3170048100417573,0.08143172593653243,2.860386771348854,1.050961510467573,-0.8342007185608653,0.5788603479336148,2.3825409219939724,-0.9180689982745328,-0.7735580428248655,-0.9554226194564072,0.2500869433129251,0.7193643751108566,2.104495019099954,-0.3321574536880306,-0.5389028013591501,0.9584880455663402,-0.08301322641513047,-0.7369353878139348,-0.051564663985078946,0.509845846516563,0.5705883637708858,-0.7533274035324784,-0.10952290782383527,-0.4560962139300914,-0.3986579864320855,-0.9527124512916263,2.383555313406195,-0.4250977036880355,1.7817089342889472,-0.2930615974744679,-0.36637584732002815,-0.2342208528501945,-0.4831882181465342,-0.7106542722169744,-0.6918904101776957,0.941824395955669,1.8356321766305632,-0.14077269259195432,-0.8594724859140611,-0.5510077728076982,-0.8019945821865635,2.4360923989739294,2.862967308193356,-0.34082544181174734,2.911666980382462,0.9188562174348329,0.013102584091339603,-0.1331663389278188,0.48524732934842385,0.04563061587155592,-0.09316798686034729,0.05511916591576185,2.366586286521713,-0.41615709534243894,0.46960513489010447,0.006747150983511437,-0.004405256398146346,0.058769069252075846,-0.1894361084889015,-0.5853646408588028,-0.6922831081992618,-0.40774613533500853,-0.6437070039632793,-0.9611088393921604,-0.11893906506413705,-0.35837789844020573,-0.8026294927263325,-0.0715000817306042,0.07125823431280774,0.9361563066442108,-0.3573840431734165,-0.30152377806506814,-0.9444595064321937,-0.9634403073223572,-0.2665876891059078,-0.7037596826843376,0.04742343954147193,-0.881636984118112,-0.8334992101110061,-0.28847048029806405,0.013204157882268348,-0.43396535750089066,-0.42577008897589735,-0.8086048832328697,0.01194630658339519,-0.10252671145739667,-0.46516143934002246,1.884666065086772,-0.9812819221305221,0.39350308099802067,0.6930336002064658,2.053269595149417,0.26312746587924013,1.1342430718453507,0.1434190524678419,2.398356608055829,0.6204680498155987,-0.6132348005988795,-0.41038311353657936,-0.9919935706321539,-0.11680744455887905,1.4054968230687843,-0.8338043775625753,-0.7147456200729245,-0.2092895509974161,-0.9196121913013064,-0.3557364057561412,-0.3287999426025969,-0.31881558425231177,-0.47447217742507564,-0.3922535342224867,0.2739316476418079,0.14191994276371733,-0.9614446664993113,-0.3308934151112291,-0.42844235283523935,0.11748782372040084,-0.247901035869241,-0.8269163346491081,-0.15476637812722888,-0.7505130429291007,-0.3907940305317492,-0.5466855296174725,-0.7596530484904943,-0.9622978417352352,0.5224398194393971,0.09790783163594469,-0.67657977203522,-0.9198739899823505,-0.48942241282376964,-0.3411239841673239,0.4409438982109928,0.09482132580198344,1.2952844901722986,2.7771575449251307,2.7531888397814903,2.1358012534858606,-0.8709297633614329,-0.35538371852315387,-0.28760156013325977,-0.5547362975294354,-0.4912390918782971,-0.8345775849160101,0.45717541643572107,0.8105857043041358,-0.6909275119523431,-0.6030901925763246,-0.05222651272688278,-0.7456811712512553,0.053645156403873434,-0.9099697853807139,-0.6066321407169039,-0.055998397958426885,-0.8568924571037283,-0.7048172033062576,1.9667902428464394,-1.001283830396801,1.2405513224109415,1.0605859088485718,-0.48947549619889236,-0.0445601862486498,-0.150047748504763,-0.6079457601243131,-0.7028296084227339,-0.4756649796985203,-0.7631401454622571,-0.9335279245693315,-0.9500561636612739,-0.7091028226023647,0.7043565914188554,-0.11469616194181773,-0.11809912762912089,-0.2204794166057302,-0.461588468072261,-0.23864748673625358,0.7330238939433377,0.16190196335094098,-0.17388849925391767,-0.9614142711867116,0.51642259252556,-0.0037775657260799393,-0.05179837622425909,0.8276005591749498,-0.9144057580086927,-0.8899588894530386,-0.9142095866033508,-0.9521268489787647,0.6285053577133342,1.000527840008891,1.2885267848705162,1.807206093685957,-0.8868730609979695,-0.9694876156415022,-0.9455331106724398,0.18873812073379945,-0.3275969837761311,-0.9622277660627849,-0.2800676116641058,-0.30625731002315815,-0.7371368378182033,-0.06567857188260814,-0.992648067334764,2.942031105466426,-0.2319975507640464,-0.9517708946317313,0.9287252032905159,-0.914787725357323,-0.057525433020410535,0.3859146283102143,-0.9337419845599252,-0.688842725588893,-0.43306437335841164,-0.41793633839164196,0.016557596433631947,1.8939577209127942,-0.5314164263660826,0.7391436735432099,1.5924944992932328,-0.6027051026762165,-0.5347624674443022,-0.8778792247146817,-0.8420419987897557,-0.8447583046681556,-0.14994378736627573,-0.1245238309893754,-0.8898452137099537,-0.3229193603587865,-0.9924528665638102,0.6453056404290264,-0.15758701687643492,1.1939931786324969,-0.40121971362125675,-0.6633073587180868,-0.7775535663497508,1.0231851941383383,-0.7662844143681986,-0.28120454670039585,-0.650350281796621,2.0631284954942553,-0.1476840802950412,0.8912701925317283,-0.2816407002300281,-0.40704800551889103,-0.9551390042186094,2.924715160634544,0.06385984835959686,-0.02846116994377352,0.49104048923764565,0.04631726328938187,-0.5950439432772144,-0.6028708705082406,-0.3672167016947641,-0.41611920342807734,1.1627472863147914,-0.5843610792481341,-0.8437525787493197,0.05095060099648166,4.17166316317004,-0.2510368127568776,0.870416869388573,-0.8262019766520963,-0.14307574365155934,-0.8307639252325526,2.6923979337181954,0.009924157115660644,-0.7680400730669542,-0.025881182437031684,-0.17205139400411595,0.3806934149406055,-0.7783866804315377,-0.4077352270566317,-0.7711580646283166,2.2066859558940917,-0.9602252688436369,-0.33675509683180876,-0.19383684915377758,-0.890208057495962,-0.34791600449248944,-0.8648280912558448,-0.9204084956228153,-0.5697305749471874,-0.49677474114268283,-0.14187934383534062,2.6790830892220523,-0.7855224540229623,-0.9128900814342273,-0.7035476465697018,1.5158069942594303,-0.0038300997634426485,-0.08653300278807358,-0.9586912617354965,3.74215922008173,-0.2929161675306404,-0.8313529722649016,-0.029443666723044395,-0.9607924993192323,-0.5711585763890874,0.359821787698073,-0.9935666591980762,-0.7014027097867132,-0.7772685385291416,2.53384758204912,0.030169434400689896,-0.6025030124662877,-0.1179614255871652,-0.4000131324698625,-0.8842232745528368,0.1725401534160214,-0.6246142042558246,-0.36730759024670734,-0.46508777438551635,-0.6340577664287391,-0.48151075953657396,1.6687930855840436,-0.9613309907562262,-0.3383826937467424,-0.18172648758660714,0.23251486747875302,0.34683134490974477,-0.3293432913418897,-0.8022645961518526,1.025019337094595,-0.7298615530875381,2.145392752730575,-0.3901314961503352,-0.5533754557264629,-0.9138605216952922,-0.5383827478451679,-0.94092490207009,2.453386253819285,-0.1331881554845725,0.8290559820708987,1.7487472561070712,-0.21120824736083232,-0.7939439257942963,2.2231099199402555,-0.33771899873442196,1.763450074735099,-0.09423894354041204,-0.7875733673114526,-0.5387500854618745,-0.1605641904529382,-0.15732292171573264,2.454510190615495,-0.2630688709762753,-0.9328504630701386,-0.8181210901615934,-0.50366113604287,-0.3204395588423168,0.09421430344684159,-0.8724400869905077,0.9619295731122504,0.5682465963772433,-0.026538950384047067,-0.5455526382027389,1.6122473708620078,-0.010454551420017368,-0.7272571799406838,0.45729049402268357,-0.2585015033646827,-0.59038142458309,-0.4145342359493903,-0.9547899393105508,-0.06934616141657811,-0.2866084318096718,-0.2222720750612824,-0.41219328058434634,-0.3917967991134712,-0.08474598640304877,0.9414737829890208,-0.8145149314584824,-0.7609533887934049,1.0839580612713104,0.09284848043079741,-0.5646034486796072,0.7370225036725405,-0.6709247652231675,-1.0023574346370472,1.1372937030323336,2.419565031387756,-0.3772642132356519,2.2083303592401937,2.6797592703099244,-0.559266016917853,-0.6966131453771045,-0.7704628838885949,-0.7327828073843623,-0.5852802658831564,2.7203009958988433,-0.499578168685529,-0.06481535987407686,2.7144806095085223,-0.07491441003578489,-0.2572089487886713,-0.8826703999643383,-0.9936125887912418,2.2166371515911822,-0.28143857697722663,-0.702524540099783,-0.16736589812233132,-0.45770793374465385,-0.6469524501456763,1.0710977487506403,1.7790320237756205,-0.9224173081610235,-0.42974216032182616,-0.9010951016966745,-0.9018600937658642,-0.8006637722245898,-0.8317863460628611,1.3147808722236134,2.230660175067127,-0.189515456817526,-0.8070564694321967,-0.9293200551528783,-0.30801960620898367,-0.3111078963580751,-0.6513645988623799,-0.35847285126550116,-0.652215444575773,2.5715602636080694,-0.2483155504475606,-0.5912353969783198,-0.6444529633377472,-0.9535249755333114,-0.2613031755049124,-0.4096971848012364,-0.9323020918141832,-0.8932248717808688,-0.09280514307433903,-0.3059300286289804,-0.01303685605821304,-0.20009838267788022,-0.08581305641520258,-0.2804300589356408,-0.16570019864472205,-0.024043998710407133,-0.9918787466492399,-0.2613929158170266,2.2850804648225513,-0.5456812617153981,0.2798149096626008,-0.9130424008170296,-0.5360436263595634,0.5032079711929209,-0.26475678352511156,-0.7463968013988693,-0.31582145802992806,0.06086494976006203,-0.3045337689967458,2.242669078493423,-0.8084014217437206,1.8932475221873935,2.586846678846581,-0.3854400401603727,0.41105938712115814,2.4768933872034062,-0.7858072175005891,-0.36704125230101503,-0.27756528729947655,-0.12660157178627657,-0.9618069692082777,-0.38937021314361525,-0.843247010404693,0.5178496150723537,-0.9387533038191261,0.07766014222120235,-0.1186767790007195,0.31869882310764336,-0.6806131874744668,-0.43654651389925725,0.8091372179332551,-0.6477802897588955,1.903052713820742,-0.7719363647145188,-0.8965743451874987,0.4766809216242106,-0.842561333621255,-0.3449142288450569,-0.1179464117318452,-0.4301899738551909,-0.5137985200673632,0.08662261255750277,-0.5234965825767963,1.211918840465796,-0.17509767427082523,-0.039090763079428215,0.3699218944056383,-0.4963602265643632,-0.22385972727338282,-0.5190808363173186,-0.4809405262899147,-0.6060097947295098,-0.28091497961513856,0.4121101917791854,-1.0014985512448502,-0.3208678522985861,0.929317723128794,-0.7368484520156479,-0.5663750175216068,-0.0437202488136335,-0.9378479167138489,-0.6658835586855361,0.015492029872189712,-0.6284917358123677,-0.9927743737159694,-0.870556618459835,0.6546946075153885,-0.500676385735638,0.416366609436472,-0.7438162521632903,-0.7063656047158534,-0.11749064725721761,0.3828103371499788,-0.5141223236991808,0.08619431910123328,-0.9225026744228533,2.1083222511434063,-0.9462277957690699,-0.45752519839745653,1.2561506420896842,-0.9197103658066978,-1.0027616150569045,-0.8228195471102264,-0.31849217713496747,-0.5707684309294437,-0.18642048374741468,-0.7303742421712494,-0.6349284296050827,-0.9411017310037776,-0.8613997321208094,-0.7990449192798658,0.8368837353737444,3.4583480058316702,-0.4811458836138896,-0.8747665200129643,-0.962253027339026,-0.41726691457125314,-0.06169248622826118,0.2311896211104838,2.5231078223234698,0.6198186607150488,2.1747980347757485,-0.5908832053884243,0.010188252276362934,-0.6611925652957925,-0.7063480506896885,-0.12609888560622806,-0.6520155517168842,-0.504737478711198,-0.732576124215117,-0.13322088031970303,-0.567356940180963,-0.0535495080494437,-0.9701478535432579,-0.07818656312010715,1.8793620396693997,1.1782667661521766,-0.2642081024922236,2.6218307898388256,-0.2806761787735502,-0.8948313171268637,-0.8505480190118181,-0.2204612223739051,1.9825499749335997,0.07014983179716411,2.3824937615537958,-0.1272764179420888,0.8951719246882965,-0.9413153036119977,2.288528108604214,0.2104470361990229,0.4087187861409248,-0.19040759373081798,2.7130750070040084,-0.5055006286402302,-0.08266778383200044,-0.6453583504430244,-0.37073717196803563,-0.5509949645641364,-1.0019406235790693,-0.13996070942731095,-0.011632645484715324,-0.7334501908073568,-0.3975556761961109,-0.8159984573177318,-0.6033244335014692,-0.5304534496639072,-0.36176020820166177,-0.8740094664939604,1.0631493129635368,-0.5465814610896487,-0.5772744569299713,-0.5748196193038876,-0.8118103723213562,-0.8658360145257206,-0.8826223514969556,2.724772307879262,-0.6932759184851992,0.5327562214878996,1.1522062117310297,-0.6607126010472119,-0.9572375901118046,-0.10947843624743105,1.3267176752754297,-0.4978411585580992,-0.2352244144608632,2.5552244620768443,0.023508569498310473,-0.017061626655868422,0.5392293078746238,-0.9127150079031563,-0.9612046843750209,-0.9213247910064692,-0.37847004266169043,2.9245533414258174,-0.7111764569962511,-0.42498402794495066,-0.0516983224054782,-0.7191971930672151,-0.695841771903109,-0.46563204006452885,0.1569244634720314,0.3490883465957705,-0.8782282896227404,1.6903300013314362,0.09188287682023581,-0.4661877881418327,-0.6619242708010145,-0.8919170266154781,0.7024832050947402,1.800750015291925,-0.018875845585910146,-0.6629387737329328,0.014927095876252546,0.015868652536147724,-0.6428623290063782,-0.7393352214479153,-0.5799013653160622,0.9964830487346176,-0.8555504621293183,-0.10227564344928843,0.016553003474315413,-0.5766532591824064,-0.8544356203838414,-0.5809039686834202,-0.26214994868423525,-0.4892228834364815,-0.7101764268426108,-0.08563013107148695,1.5561739651810007,-0.35559306577401717,-0.9059050576891481,-0.31248463591321424,-1.003557345258499,-0.3073695248602491,-0.9130533090954065,-0.9617087947028862,-0.023753494033634612,-0.13186520559596168,-0.5047569987882934,2.129353990104215,-0.5709515834429097,0.5504146053057757,-0.1433688628456407,2.8245437340086776,-0.7222543609605058,2.12532779866303,0.556707261085679,-0.7760687146452311,2.373229803915882,-0.054564955181451706,2.293489206827147,1.2555049860076868,-0.8707056707285912,-0.8192268451170556,0.09947992478532432,-0.3114166200488271,1.0901401415556675,-0.7041500842262453,0.8836457858940491,-0.47518929863232384,-0.8252914885533336,-0.3860724683543242,-0.2121170585338014,-0.6838260409932243,-0.8874162114800255,-0.9508982323615845,-0.9043669450040643,0.2369454665095457,-0.4515524802332555,-0.8564312612068872,-0.29455690724822275,-0.6923626341333274,1.0116646618935299,-0.7244718433706853,0.4898210808430377,0.29127207063384614,-0.6902129433070173,-0.4663829889127866,-0.401501916276243,1.2448709502577866,-0.7229446843979286,0.10751064806458639,-0.8171099534723397,-0.5060152176891263,-0.26037769420262524,-0.6431757984797334,0.2602185943989907,-0.436491972507373,-0.48340898997066145,0.05101375418708447,-0.5550105740253133,-0.6610725742336473,0.33797438459659346,1.751472062264494,-0.9332523470103378,0.6576985565577783,-0.38353532919286104,-0.7300025222435401,-0.729599754406494,0.9619439955001476,0.8236805287015074,-0.27365286659963567,-0.4131497643620203,0.45411773637790226,1.9255618376228936,-0.3721596676412584,-0.6515134487435402,-0.09462073328360124,-0.8724291787121308,-0.7668008579483295,-0.06403142184770637,1.0531199931762583,-0.3694052137662327,1.844219176673094,2.390710987067752,-0.9548890844503303,-0.38830005362285636,-0.9293510576282651,0.26272986512142543,0.6877014875211576,-0.2825157581084513,-0.5280616330569351,0.6944671115474018,2.5734929908013404,-0.7544430961319293,0.03944080603318354,-0.026463298726814872,-0.09714144187657393,2.000252537072384,2.1853809110717934,-0.9102970337320189,0.7619056480164562,0.575312141472931,-0.9554117111780303,1.6691107316765186,-0.835073380831012,-0.1550005405755507,0.7112806923672448,-0.49113059717505714,2.5799029116063847,-0.7993278612691305,2.185554051594807,-0.4334635766955564,0.09286167692811423,-0.32897447505662614,0.9945133763052904,-0.8192114553990577,-0.22105026940625408,-0.4124493380662447,0.38485703912433333,-0.8912854947094508,-0.727579314907426,-0.9325392900764417,-0.14177033539803616,2.9490619671106995,-0.5553042466875137,-0.6246387716317372,-0.5142233688041451,-0.3545696164842933,-0.6206284862034372,0.08916884676969873,-0.1934307687687352,2.1974569452245034,0.05815820566297318,-0.9384915051380821,-0.09696191994875457,-0.005463359400699137,-0.7193086590681828,-0.38982950907527136,-0.9225700240582992,1.7679361857921638,0.15621944421693928,-0.11452442326268202,-0.7282665364451665,-0.612492583329754,-0.7594842572356107,0.14450786469028573,0.47522571350693443,-0.20437611711846984,-0.1583740485417695,-0.29090215487032833,-0.22248883630672586,2.346511427853052,-0.16388303063828458,-0.7995501448046876,1.704774800556995,-0.16282530349840948,-0.7194452583042594,2.591451329557604,-0.9578955315339022,0.807497090334891,-0.8296488067530161,0.2896110145059342,-0.16661879050803424,-0.8094688221846023,-0.15754338376292754,0.5906564172598979,-0.24216218276750662,-0.35374572136401233,-0.2293568965428787,-0.8563336608214104,-0.38536752344569564,-0.14522485209723668,2.3690766534967547,0.9012865867732465,-0.6574088052818426,-0.898297456656565,-0.20345619940988713,-0.3343954970257981,1.88791704595036,2.0661978669465357,-0.6259139373959477,1.7261473437076666,-0.40669646652573294,2.7583380758613205,0.4653319678006049,2.2827484640760316,0.08130082659601041,-0.2524298920126071,-0.6140936839910764,0.08987183140989935,-0.9534128775874018,-0.3872723789757758,-0.7911285078189897,0.6144816246416961,-0.2709007215953457,0.528926637617977,-0.18048310080529392,-0.4664748480991178,-0.8338480106760825,-0.7902259004453852,1.951868170714288,-0.34880014916092744,-0.4391319534800079,1.143908859728795,-0.572661622325432,-0.3006922293893792,-0.16367068474671645,3.248148025811295,-0.9094103612838129,-0.20473878329903702,-0.6022634598993435,-0.9141877700465971,-0.08546399150714394,2.285812025765205,-0.6311159305525316,-0.18629964596165458,-0.4991296612518359,2.1851519363544982,0.09546512074417157,-0.8930416407905799,-0.7666426651948903,-0.45790557555783434,-0.6729373983435412,0.47026200654919564,-0.9144277521708875,-0.5052972580189812,-0.6643627687265079,-0.18899870346046277,-0.7220648559547477,-0.7104037783287808,-0.5913079343447923,0.32285035607814866,0.7606616135948362,-0.17981926123040498,-0.5627679418787762,-0.7299588891300328,-0.9182664955251448,0.8770603124362786,-0.5595427427166758,-0.8567135423386965,0.502247257927531,-0.4642233273996148,-0.8607452354181995,-0.8787281374200171,-0.3158105497515512,0.4178119129526319,-0.38549458155225697,1.9986742814272307,0.04744749475285663,0.7022370480835989,-0.011874354099108574,-0.6561506648578327,0.03759036302778381,-0.020755980916790907,-0.37992951330955527,-0.7547272854896416,0.459980034348059,1.655210722685578,-0.6253846731811777,-0.5680746231170486,-0.6885901128264823,-0.5841707688223519,-0.3748047289555833,-0.9264475886577153,-0.27312926923754777,0.40915576243808904,-0.6735725071405468,1.9528491268696158,2.0771618638675964,0.5804345054364718,-0.07626710264025778,-0.652353708346566,0.8502421782883783,-0.9555971519104365,-0.20350967103876505,-0.769432272556196,-0.031420848971282916,-0.6488596765018784,-0.7610026515863623,2.3453153502048427,-0.47360831695016603,-0.7064746874996217,-0.5515610467999026,-0.39880725760987384,1.0619361827147573,-0.5296725144086006,-0.7000764927840558,-0.5476754899556326,-0.504598541691872,-0.2210730565973957,-0.11004650518592315,3.8619664391173902,0.5697346102846881,-0.06531859869617265,-0.15901083426456888,-0.39276935824875303,-0.8732284527618309,0.09742956496495309,-0.08641301172592841,-0.5191791429942012,-0.8287141395320959,2.8085972436045585,2.999238792014967,-0.7413293299077361,-0.8342340175159104,-1.002395326551409,-0.6323623779299362,-0.34435830316231175,-0.5957009801506695,-0.961255206927503,2.010419696855612,0.44426137785605235,-0.9936700007826988,0.2447175590931917,0.21134217010087616,-0.7315083603026348,-0.5614322167894764,-0.1514754773429626,-0.16228079412821028,1.3872354819951898,-0.25382296300761853,-0.7208457556849283,-0.825515151628829,-0.536965662942363,-0.49008150248569626,-0.2395203266118415,1.1280912877449747,-0.21196608564806504,1.7333986310519747,-0.9408904548752157,-0.38454653196786037,-0.8242455742404778,-0.8466090483636975,0.0997818664264382,-0.7040915239949592,0.31167021746550944,-0.19091281925563974,-0.8697275893031957,-0.7363090890728842,0.7592939484386345,-0.750181358572125,-0.4119406678219354,0.9305927278089998,0.08368414292395958,-0.9541186155249771,2.81966875377293,-0.3912070003557664,-0.7878905458472775,-0.6441685963745937,2.0713043538097056,-0.5057996005531529,-0.5069206047944034,1.7808647714965744,-0.9710538147684497,-0.32782897365556746,-0.11063555221827229,-0.9339272476868901,-0.9550626462699716,-0.7376805954630468,-0.6615970224497095,-0.8722982793716088,4.074388669634486,2.763023625437773,-0.8311633350876523,2.02877472356033,0.659945115869933,-0.8926369729883491,0.23500770440853488,0.6775487765601249,1.7042052240374317,-0.5282284252180154,-0.522863183748457,-0.7186006370420267,-0.7215046140467454,1.9104689966199229,0.453963901153311,-0.16505665648051074,-0.9531832296215739,-1.000121811689711,0.5143368413102248,-0.5013199741598712,-0.6480862956733613,1.2251397457267663,-0.02387980041484009,2.529923757427811,-0.7459866030458067,-0.010498184533524756,-0.5138497943452011,-0.32154990675709555,0.7538171327527,-0.24329601590411443,-0.05297240601560503,-0.20441022727604158,-0.15354504746349695,-0.22055076442878258,-0.9140023293141911,-0.9615962341567577,-0.9303615086779086,1.31105346600312],\"type\":\"scatter3d\"},{\"colorscale\":[[0.0,\"#440154\"],[0.1111111111111111,\"#482878\"],[0.2222222222222222,\"#3e4989\"],[0.3333333333333333,\"#31688e\"],[0.4444444444444444,\"#26828e\"],[0.5555555555555556,\"#1f9e89\"],[0.6666666666666666,\"#35b779\"],[0.7777777777777778,\"#6ece58\"],[0.8888888888888888,\"#b5de2b\"],[1.0,\"#fde725\"]],\"name\":\"Regression Plane (PCA)\",\"opacity\":0.8,\"x\":[[-1.8286032022733971,-1.077771024368249,-0.3269388464631011,0.423893331442047,1.1747255093471949,1.9255576872523428,2.676389865157491,3.4272220430626383,4.178054220967787,4.928886398872935],[-1.8286032022733971,-1.077771024368249,-0.3269388464631011,0.423893331442047,1.1747255093471949,1.9255576872523428,2.676389865157491,3.4272220430626383,4.178054220967787,4.928886398872935],[-1.8286032022733971,-1.077771024368249,-0.3269388464631011,0.423893331442047,1.1747255093471949,1.9255576872523428,2.676389865157491,3.4272220430626383,4.178054220967787,4.928886398872935],[-1.8286032022733971,-1.077771024368249,-0.3269388464631011,0.423893331442047,1.1747255093471949,1.9255576872523428,2.676389865157491,3.4272220430626383,4.178054220967787,4.928886398872935],[-1.8286032022733971,-1.077771024368249,-0.3269388464631011,0.423893331442047,1.1747255093471949,1.9255576872523428,2.676389865157491,3.4272220430626383,4.178054220967787,4.928886398872935],[-1.8286032022733971,-1.077771024368249,-0.3269388464631011,0.423893331442047,1.1747255093471949,1.9255576872523428,2.676389865157491,3.4272220430626383,4.178054220967787,4.928886398872935],[-1.8286032022733971,-1.077771024368249,-0.3269388464631011,0.423893331442047,1.1747255093471949,1.9255576872523428,2.676389865157491,3.4272220430626383,4.178054220967787,4.928886398872935],[-1.8286032022733971,-1.077771024368249,-0.3269388464631011,0.423893331442047,1.1747255093471949,1.9255576872523428,2.676389865157491,3.4272220430626383,4.178054220967787,4.928886398872935],[-1.8286032022733971,-1.077771024368249,-0.3269388464631011,0.423893331442047,1.1747255093471949,1.9255576872523428,2.676389865157491,3.4272220430626383,4.178054220967787,4.928886398872935],[-1.8286032022733971,-1.077771024368249,-0.3269388464631011,0.423893331442047,1.1747255093471949,1.9255576872523428,2.676389865157491,3.4272220430626383,4.178054220967787,4.928886398872935]],\"y\":[[-1.8683141224589392,-1.8683141224589392,-1.8683141224589392,-1.8683141224589392,-1.8683141224589392,-1.8683141224589392,-1.8683141224589392,-1.8683141224589392,-1.8683141224589392,-1.8683141224589392],[-1.3978570355710789,-1.3978570355710789,-1.3978570355710789,-1.3978570355710789,-1.3978570355710789,-1.3978570355710789,-1.3978570355710789,-1.3978570355710789,-1.3978570355710789,-1.3978570355710789],[-0.9273999486832185,-0.9273999486832185,-0.9273999486832185,-0.9273999486832185,-0.9273999486832185,-0.9273999486832185,-0.9273999486832185,-0.9273999486832185,-0.9273999486832185,-0.9273999486832185],[-0.45694286179535815,-0.45694286179535815,-0.45694286179535815,-0.45694286179535815,-0.45694286179535815,-0.45694286179535815,-0.45694286179535815,-0.45694286179535815,-0.45694286179535815,-0.45694286179535815],[0.013514225092502219,0.013514225092502219,0.013514225092502219,0.013514225092502219,0.013514225092502219,0.013514225092502219,0.013514225092502219,0.013514225092502219,0.013514225092502219,0.013514225092502219],[0.48397131198036236,0.48397131198036236,0.48397131198036236,0.48397131198036236,0.48397131198036236,0.48397131198036236,0.48397131198036236,0.48397131198036236,0.48397131198036236,0.48397131198036236],[0.954428398868223,0.954428398868223,0.954428398868223,0.954428398868223,0.954428398868223,0.954428398868223,0.954428398868223,0.954428398868223,0.954428398868223,0.954428398868223],[1.4248854857560835,1.4248854857560835,1.4248854857560835,1.4248854857560835,1.4248854857560835,1.4248854857560835,1.4248854857560835,1.4248854857560835,1.4248854857560835,1.4248854857560835],[1.8953425726439437,1.8953425726439437,1.8953425726439437,1.8953425726439437,1.8953425726439437,1.8953425726439437,1.8953425726439437,1.8953425726439437,1.8953425726439437,1.8953425726439437],[2.3657996595318043,2.3657996595318043,2.3657996595318043,2.3657996595318043,2.3657996595318043,2.3657996595318043,2.3657996595318043,2.3657996595318043,2.3657996595318043,2.3657996595318043]],\"z\":[[-1.220253734524216,-0.8195708626955109,-0.41888799086680606,-0.018205119038100993,0.3824777527906039,0.7831606246193089,1.183843496448014,1.5845263682767186,1.9852092401054238,2.385892111934129],[-1.1587076156518998,-0.7580247438231947,-0.3573418719944899,0.04334099983421515,0.44402387166292007,0.844706743491625,1.24538961532033,1.6460724871490349,2.04675535897774,2.447438230806445],[-1.0971614967795837,-0.6964786249508786,-0.29579575312217377,0.10488711870653128,0.5055699905352362,0.9062528623639412,1.3069357341926462,1.707618606021351,2.108301477850056,2.5089843496787614],[-1.0356153779072677,-0.6349325060785626,-0.23424963424985762,0.16643323757884743,0.5671161094075524,0.9677989812362573,1.3684818530649623,1.769164724893667,2.1698475967223723,2.5705304685510773],[-0.9740692590349515,-0.5733863872062464,-0.17270351537754147,0.22797935645116357,0.6286622282798685,1.0293451001085734,1.4300279719372786,1.8307108437659831,2.2313937155946886,2.6320765874233936],[-0.9125231401626352,-0.5118402683339303,-0.11115739650522537,0.28952547532347966,0.6902083471521847,1.0908912189808895,1.4915740908095947,1.8922569626382992,2.2929398344670044,2.69362270629571],[-0.8509770212903192,-0.4502941494616141,-0.04961127763290919,0.35107159419579587,0.7517544660245008,1.1524373378532058,1.5531202096819108,1.9538030815106155,2.3544859533393208,2.7551688251680257],[-0.789430902418003,-0.38874803058929797,0.011934841239406985,0.412617713068112,0.813300584896817,1.2139834567255219,1.614666328554227,2.0153492003829316,2.4160320722116366,2.816714944040342],[-0.7278847835456869,-0.3272019117169818,0.0734809601117231,0.47416383194042816,0.8748467037691331,1.275529575597838,1.6762124474265432,2.076895319255248,2.477578191083953,2.878261062912658],[-0.6663386646733707,-0.2656557928446657,0.13502707898403926,0.5357099508127443,0.9363928226414493,1.3370756944701543,1.7377585662988593,2.138441438127564,2.5391243099562693,2.9398071817849742]],\"type\":\"surface\"}],                        {\"template\":{\"data\":{\"histogram2dcontour\":[{\"type\":\"histogram2dcontour\",\"colorbar\":{\"outlinewidth\":0,\"ticks\":\"\"},\"colorscale\":[[0.0,\"#0d0887\"],[0.1111111111111111,\"#46039f\"],[0.2222222222222222,\"#7201a8\"],[0.3333333333333333,\"#9c179e\"],[0.4444444444444444,\"#bd3786\"],[0.5555555555555556,\"#d8576b\"],[0.6666666666666666,\"#ed7953\"],[0.7777777777777778,\"#fb9f3a\"],[0.8888888888888888,\"#fdca26\"],[1.0,\"#f0f921\"]]}],\"choropleth\":[{\"type\":\"choropleth\",\"colorbar\":{\"outlinewidth\":0,\"ticks\":\"\"}}],\"histogram2d\":[{\"type\":\"histogram2d\",\"colorbar\":{\"outlinewidth\":0,\"ticks\":\"\"},\"colorscale\":[[0.0,\"#0d0887\"],[0.1111111111111111,\"#46039f\"],[0.2222222222222222,\"#7201a8\"],[0.3333333333333333,\"#9c179e\"],[0.4444444444444444,\"#bd3786\"],[0.5555555555555556,\"#d8576b\"],[0.6666666666666666,\"#ed7953\"],[0.7777777777777778,\"#fb9f3a\"],[0.8888888888888888,\"#fdca26\"],[1.0,\"#f0f921\"]]}],\"heatmap\":[{\"type\":\"heatmap\",\"colorbar\":{\"outlinewidth\":0,\"ticks\":\"\"},\"colorscale\":[[0.0,\"#0d0887\"],[0.1111111111111111,\"#46039f\"],[0.2222222222222222,\"#7201a8\"],[0.3333333333333333,\"#9c179e\"],[0.4444444444444444,\"#bd3786\"],[0.5555555555555556,\"#d8576b\"],[0.6666666666666666,\"#ed7953\"],[0.7777777777777778,\"#fb9f3a\"],[0.8888888888888888,\"#fdca26\"],[1.0,\"#f0f921\"]]}],\"heatmapgl\":[{\"type\":\"heatmapgl\",\"colorbar\":{\"outlinewidth\":0,\"ticks\":\"\"},\"colorscale\":[[0.0,\"#0d0887\"],[0.1111111111111111,\"#46039f\"],[0.2222222222222222,\"#7201a8\"],[0.3333333333333333,\"#9c179e\"],[0.4444444444444444,\"#bd3786\"],[0.5555555555555556,\"#d8576b\"],[0.6666666666666666,\"#ed7953\"],[0.7777777777777778,\"#fb9f3a\"],[0.8888888888888888,\"#fdca26\"],[1.0,\"#f0f921\"]]}],\"contourcarpet\":[{\"type\":\"contourcarpet\",\"colorbar\":{\"outlinewidth\":0,\"ticks\":\"\"}}],\"contour\":[{\"type\":\"contour\",\"colorbar\":{\"outlinewidth\":0,\"ticks\":\"\"},\"colorscale\":[[0.0,\"#0d0887\"],[0.1111111111111111,\"#46039f\"],[0.2222222222222222,\"#7201a8\"],[0.3333333333333333,\"#9c179e\"],[0.4444444444444444,\"#bd3786\"],[0.5555555555555556,\"#d8576b\"],[0.6666666666666666,\"#ed7953\"],[0.7777777777777778,\"#fb9f3a\"],[0.8888888888888888,\"#fdca26\"],[1.0,\"#f0f921\"]]}],\"surface\":[{\"type\":\"surface\",\"colorbar\":{\"outlinewidth\":0,\"ticks\":\"\"},\"colorscale\":[[0.0,\"#0d0887\"],[0.1111111111111111,\"#46039f\"],[0.2222222222222222,\"#7201a8\"],[0.3333333333333333,\"#9c179e\"],[0.4444444444444444,\"#bd3786\"],[0.5555555555555556,\"#d8576b\"],[0.6666666666666666,\"#ed7953\"],[0.7777777777777778,\"#fb9f3a\"],[0.8888888888888888,\"#fdca26\"],[1.0,\"#f0f921\"]]}],\"mesh3d\":[{\"type\":\"mesh3d\",\"colorbar\":{\"outlinewidth\":0,\"ticks\":\"\"}}],\"scatter\":[{\"fillpattern\":{\"fillmode\":\"overlay\",\"size\":10,\"solidity\":0.2},\"type\":\"scatter\"}],\"parcoords\":[{\"type\":\"parcoords\",\"line\":{\"colorbar\":{\"outlinewidth\":0,\"ticks\":\"\"}}}],\"scatterpolargl\":[{\"type\":\"scatterpolargl\",\"marker\":{\"colorbar\":{\"outlinewidth\":0,\"ticks\":\"\"}}}],\"bar\":[{\"error_x\":{\"color\":\"#2a3f5f\"},\"error_y\":{\"color\":\"#2a3f5f\"},\"marker\":{\"line\":{\"color\":\"#E5ECF6\",\"width\":0.5},\"pattern\":{\"fillmode\":\"overlay\",\"size\":10,\"solidity\":0.2}},\"type\":\"bar\"}],\"scattergeo\":[{\"type\":\"scattergeo\",\"marker\":{\"colorbar\":{\"outlinewidth\":0,\"ticks\":\"\"}}}],\"scatterpolar\":[{\"type\":\"scatterpolar\",\"marker\":{\"colorbar\":{\"outlinewidth\":0,\"ticks\":\"\"}}}],\"histogram\":[{\"marker\":{\"pattern\":{\"fillmode\":\"overlay\",\"size\":10,\"solidity\":0.2}},\"type\":\"histogram\"}],\"scattergl\":[{\"type\":\"scattergl\",\"marker\":{\"colorbar\":{\"outlinewidth\":0,\"ticks\":\"\"}}}],\"scatter3d\":[{\"type\":\"scatter3d\",\"line\":{\"colorbar\":{\"outlinewidth\":0,\"ticks\":\"\"}},\"marker\":{\"colorbar\":{\"outlinewidth\":0,\"ticks\":\"\"}}}],\"scattermapbox\":[{\"type\":\"scattermapbox\",\"marker\":{\"colorbar\":{\"outlinewidth\":0,\"ticks\":\"\"}}}],\"scatterternary\":[{\"type\":\"scatterternary\",\"marker\":{\"colorbar\":{\"outlinewidth\":0,\"ticks\":\"\"}}}],\"scattercarpet\":[{\"type\":\"scattercarpet\",\"marker\":{\"colorbar\":{\"outlinewidth\":0,\"ticks\":\"\"}}}],\"carpet\":[{\"aaxis\":{\"endlinecolor\":\"#2a3f5f\",\"gridcolor\":\"white\",\"linecolor\":\"white\",\"minorgridcolor\":\"white\",\"startlinecolor\":\"#2a3f5f\"},\"baxis\":{\"endlinecolor\":\"#2a3f5f\",\"gridcolor\":\"white\",\"linecolor\":\"white\",\"minorgridcolor\":\"white\",\"startlinecolor\":\"#2a3f5f\"},\"type\":\"carpet\"}],\"table\":[{\"cells\":{\"fill\":{\"color\":\"#EBF0F8\"},\"line\":{\"color\":\"white\"}},\"header\":{\"fill\":{\"color\":\"#C8D4E3\"},\"line\":{\"color\":\"white\"}},\"type\":\"table\"}],\"barpolar\":[{\"marker\":{\"line\":{\"color\":\"#E5ECF6\",\"width\":0.5},\"pattern\":{\"fillmode\":\"overlay\",\"size\":10,\"solidity\":0.2}},\"type\":\"barpolar\"}],\"pie\":[{\"automargin\":true,\"type\":\"pie\"}]},\"layout\":{\"autotypenumbers\":\"strict\",\"colorway\":[\"#636efa\",\"#EF553B\",\"#00cc96\",\"#ab63fa\",\"#FFA15A\",\"#19d3f3\",\"#FF6692\",\"#B6E880\",\"#FF97FF\",\"#FECB52\"],\"font\":{\"color\":\"#2a3f5f\"},\"hovermode\":\"closest\",\"hoverlabel\":{\"align\":\"left\"},\"paper_bgcolor\":\"white\",\"plot_bgcolor\":\"#E5ECF6\",\"polar\":{\"bgcolor\":\"#E5ECF6\",\"angularaxis\":{\"gridcolor\":\"white\",\"linecolor\":\"white\",\"ticks\":\"\"},\"radialaxis\":{\"gridcolor\":\"white\",\"linecolor\":\"white\",\"ticks\":\"\"}},\"ternary\":{\"bgcolor\":\"#E5ECF6\",\"aaxis\":{\"gridcolor\":\"white\",\"linecolor\":\"white\",\"ticks\":\"\"},\"baxis\":{\"gridcolor\":\"white\",\"linecolor\":\"white\",\"ticks\":\"\"},\"caxis\":{\"gridcolor\":\"white\",\"linecolor\":\"white\",\"ticks\":\"\"}},\"coloraxis\":{\"colorbar\":{\"outlinewidth\":0,\"ticks\":\"\"}},\"colorscale\":{\"sequential\":[[0.0,\"#0d0887\"],[0.1111111111111111,\"#46039f\"],[0.2222222222222222,\"#7201a8\"],[0.3333333333333333,\"#9c179e\"],[0.4444444444444444,\"#bd3786\"],[0.5555555555555556,\"#d8576b\"],[0.6666666666666666,\"#ed7953\"],[0.7777777777777778,\"#fb9f3a\"],[0.8888888888888888,\"#fdca26\"],[1.0,\"#f0f921\"]],\"sequentialminus\":[[0.0,\"#0d0887\"],[0.1111111111111111,\"#46039f\"],[0.2222222222222222,\"#7201a8\"],[0.3333333333333333,\"#9c179e\"],[0.4444444444444444,\"#bd3786\"],[0.5555555555555556,\"#d8576b\"],[0.6666666666666666,\"#ed7953\"],[0.7777777777777778,\"#fb9f3a\"],[0.8888888888888888,\"#fdca26\"],[1.0,\"#f0f921\"]],\"diverging\":[[0,\"#8e0152\"],[0.1,\"#c51b7d\"],[0.2,\"#de77ae\"],[0.3,\"#f1b6da\"],[0.4,\"#fde0ef\"],[0.5,\"#f7f7f7\"],[0.6,\"#e6f5d0\"],[0.7,\"#b8e186\"],[0.8,\"#7fbc41\"],[0.9,\"#4d9221\"],[1,\"#276419\"]]},\"xaxis\":{\"gridcolor\":\"white\",\"linecolor\":\"white\",\"ticks\":\"\",\"title\":{\"standoff\":15},\"zerolinecolor\":\"white\",\"automargin\":true,\"zerolinewidth\":2},\"yaxis\":{\"gridcolor\":\"white\",\"linecolor\":\"white\",\"ticks\":\"\",\"title\":{\"standoff\":15},\"zerolinecolor\":\"white\",\"automargin\":true,\"zerolinewidth\":2},\"scene\":{\"xaxis\":{\"backgroundcolor\":\"#E5ECF6\",\"gridcolor\":\"white\",\"linecolor\":\"white\",\"showbackground\":true,\"ticks\":\"\",\"zerolinecolor\":\"white\",\"gridwidth\":2},\"yaxis\":{\"backgroundcolor\":\"#E5ECF6\",\"gridcolor\":\"white\",\"linecolor\":\"white\",\"showbackground\":true,\"ticks\":\"\",\"zerolinecolor\":\"white\",\"gridwidth\":2},\"zaxis\":{\"backgroundcolor\":\"#E5ECF6\",\"gridcolor\":\"white\",\"linecolor\":\"white\",\"showbackground\":true,\"ticks\":\"\",\"zerolinecolor\":\"white\",\"gridwidth\":2}},\"shapedefaults\":{\"line\":{\"color\":\"#2a3f5f\"}},\"annotationdefaults\":{\"arrowcolor\":\"#2a3f5f\",\"arrowhead\":0,\"arrowwidth\":1},\"geo\":{\"bgcolor\":\"white\",\"landcolor\":\"#E5ECF6\",\"subunitcolor\":\"white\",\"showland\":true,\"showlakes\":true,\"lakecolor\":\"white\"},\"title\":{\"x\":0.05},\"mapbox\":{\"style\":\"light\"}}},\"scene\":{\"xaxis\":{\"title\":{\"text\":\"Principal Component 1\"}},\"yaxis\":{\"title\":{\"text\":\"Principal Component 2\"}},\"zaxis\":{\"title\":{\"text\":\"Y\"}}}},                        {\"responsive\": true}                    ).then(function(){\n",
              "                            \n",
              "var gd = document.getElementById('67f01027-3be6-472e-9118-6e74e8cebe8a');\n",
              "var x = new MutationObserver(function (mutations, observer) {{\n",
              "        var display = window.getComputedStyle(gd).display;\n",
              "        if (!display || display === 'none') {{\n",
              "            console.log([gd, 'removed!']);\n",
              "            Plotly.purge(gd);\n",
              "            observer.disconnect();\n",
              "        }}\n",
              "}});\n",
              "\n",
              "// Listen for the removal of the full notebook cells\n",
              "var notebookContainer = gd.closest('#notebook-container');\n",
              "if (notebookContainer) {{\n",
              "    x.observe(notebookContainer, {childList: true});\n",
              "}}\n",
              "\n",
              "// Listen for the clearing of the current output cell\n",
              "var outputEl = gd.closest('.output');\n",
              "if (outputEl) {{\n",
              "    x.observe(outputEl, {childList: true});\n",
              "}}\n",
              "\n",
              "                        })                };                            </script>        </div>\n",
              "</body>\n",
              "</html>"
            ]
          },
          "metadata": {}
        }
      ]
    }
  ]
}