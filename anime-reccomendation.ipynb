{
 "cells": [
  {
   "cell_type": "code",
   "execution_count": 1,
   "id": "f224e98e",
   "metadata": {
    "_cell_guid": "b1076dfc-b9ad-4769-8c92-a6c4dae69d19",
    "_uuid": "8f2839f25d086af736a60e9eeb907d3b93b6e0e5",
    "execution": {
     "iopub.execute_input": "2024-03-30T10:38:03.256642Z",
     "iopub.status.busy": "2024-03-30T10:38:03.256211Z",
     "iopub.status.idle": "2024-03-30T10:38:04.221014Z",
     "shell.execute_reply": "2024-03-30T10:38:04.219764Z"
    },
    "papermill": {
     "duration": 0.977069,
     "end_time": "2024-03-30T10:38:04.223845",
     "exception": false,
     "start_time": "2024-03-30T10:38:03.246776",
     "status": "completed"
    },
    "tags": []
   },
   "outputs": [
    {
     "name": "stdout",
     "output_type": "stream",
     "text": [
      "/kaggle/input/anime-recommendations-database/rating.csv\n",
      "/kaggle/input/anime-recommendations-database/anime.csv\n"
     ]
    }
   ],
   "source": [
    "# This Python 3 environment comes with many helpful analytics libraries installed\n",
    "# It is defined by the kaggle/python Docker image: https://github.com/kaggle/docker-python\n",
    "# For example, here's several helpful packages to load\n",
    "\n",
    "import numpy as np # linear algebra\n",
    "import pandas as pd # data processing, CSV file I/O (e.g. pd.read_csv)\n",
    "\n",
    "# Input data files are available in the read-only \"../input/\" directory\n",
    "# For example, running this (by clicking run or pressing Shift+Enter) will list all files under the input directory\n",
    "\n",
    "import os\n",
    "for dirname, _, filenames in os.walk('/kaggle/input'):\n",
    "    for filename in filenames:\n",
    "        print(os.path.join(dirname, filename))\n",
    "\n",
    "# You can write up to 20GB to the current directory (/kaggle/working/) that gets preserved as output when you create a version using \"Save & Run All\" \n",
    "# You can also write temporary files to /kaggle/temp/, but they won't be saved outside of the current session"
   ]
  },
  {
   "cell_type": "code",
   "execution_count": 2,
   "id": "f5986b92",
   "metadata": {
    "execution": {
     "iopub.execute_input": "2024-03-30T10:38:04.240204Z",
     "iopub.status.busy": "2024-03-30T10:38:04.239592Z",
     "iopub.status.idle": "2024-03-30T10:38:08.140139Z",
     "shell.execute_reply": "2024-03-30T10:38:08.138826Z"
    },
    "papermill": {
     "duration": 3.912517,
     "end_time": "2024-03-30T10:38:08.143644",
     "exception": false,
     "start_time": "2024-03-30T10:38:04.231127",
     "status": "completed"
    },
    "tags": []
   },
   "outputs": [],
   "source": [
    "anime = pd.read_csv(\"/kaggle/input/anime-recommendations-database/anime.csv\")\n",
    "ratings = pd.read_csv(\"/kaggle/input/anime-recommendations-database/rating.csv\")"
   ]
  },
  {
   "cell_type": "code",
   "execution_count": null,
   "id": "d1c217b9",
   "metadata": {
    "papermill": {
     "duration": 0.006375,
     "end_time": "2024-03-30T10:38:08.156803",
     "exception": false,
     "start_time": "2024-03-30T10:38:08.150428",
     "status": "completed"
    },
    "tags": []
   },
   "outputs": [],
   "source": [
    " "
   ]
  },
  {
   "cell_type": "code",
   "execution_count": 3,
   "id": "d43d703c",
   "metadata": {
    "execution": {
     "iopub.execute_input": "2024-03-30T10:38:08.172157Z",
     "iopub.status.busy": "2024-03-30T10:38:08.171642Z",
     "iopub.status.idle": "2024-03-30T10:38:08.195066Z",
     "shell.execute_reply": "2024-03-30T10:38:08.193891Z"
    },
    "papermill": {
     "duration": 0.034204,
     "end_time": "2024-03-30T10:38:08.197640",
     "exception": false,
     "start_time": "2024-03-30T10:38:08.163436",
     "status": "completed"
    },
    "tags": []
   },
   "outputs": [
    {
     "data": {
      "text/html": [
       "<div>\n",
       "<style scoped>\n",
       "    .dataframe tbody tr th:only-of-type {\n",
       "        vertical-align: middle;\n",
       "    }\n",
       "\n",
       "    .dataframe tbody tr th {\n",
       "        vertical-align: top;\n",
       "    }\n",
       "\n",
       "    .dataframe thead th {\n",
       "        text-align: right;\n",
       "    }\n",
       "</style>\n",
       "<table border=\"1\" class=\"dataframe\">\n",
       "  <thead>\n",
       "    <tr style=\"text-align: right;\">\n",
       "      <th></th>\n",
       "      <th>anime_id</th>\n",
       "      <th>name</th>\n",
       "      <th>genre</th>\n",
       "      <th>type</th>\n",
       "      <th>episodes</th>\n",
       "      <th>rating</th>\n",
       "      <th>members</th>\n",
       "    </tr>\n",
       "  </thead>\n",
       "  <tbody>\n",
       "    <tr>\n",
       "      <th>0</th>\n",
       "      <td>32281</td>\n",
       "      <td>Kimi no Na wa.</td>\n",
       "      <td>Drama, Romance, School, Supernatural</td>\n",
       "      <td>Movie</td>\n",
       "      <td>1</td>\n",
       "      <td>9.37</td>\n",
       "      <td>200630</td>\n",
       "    </tr>\n",
       "    <tr>\n",
       "      <th>1</th>\n",
       "      <td>5114</td>\n",
       "      <td>Fullmetal Alchemist: Brotherhood</td>\n",
       "      <td>Action, Adventure, Drama, Fantasy, Magic, Mili...</td>\n",
       "      <td>TV</td>\n",
       "      <td>64</td>\n",
       "      <td>9.26</td>\n",
       "      <td>793665</td>\n",
       "    </tr>\n",
       "    <tr>\n",
       "      <th>2</th>\n",
       "      <td>28977</td>\n",
       "      <td>Gintama°</td>\n",
       "      <td>Action, Comedy, Historical, Parody, Samurai, S...</td>\n",
       "      <td>TV</td>\n",
       "      <td>51</td>\n",
       "      <td>9.25</td>\n",
       "      <td>114262</td>\n",
       "    </tr>\n",
       "    <tr>\n",
       "      <th>3</th>\n",
       "      <td>9253</td>\n",
       "      <td>Steins;Gate</td>\n",
       "      <td>Sci-Fi, Thriller</td>\n",
       "      <td>TV</td>\n",
       "      <td>24</td>\n",
       "      <td>9.17</td>\n",
       "      <td>673572</td>\n",
       "    </tr>\n",
       "    <tr>\n",
       "      <th>4</th>\n",
       "      <td>9969</td>\n",
       "      <td>Gintama&amp;#039;</td>\n",
       "      <td>Action, Comedy, Historical, Parody, Samurai, S...</td>\n",
       "      <td>TV</td>\n",
       "      <td>51</td>\n",
       "      <td>9.16</td>\n",
       "      <td>151266</td>\n",
       "    </tr>\n",
       "  </tbody>\n",
       "</table>\n",
       "</div>"
      ],
      "text/plain": [
       "   anime_id                              name  \\\n",
       "0     32281                    Kimi no Na wa.   \n",
       "1      5114  Fullmetal Alchemist: Brotherhood   \n",
       "2     28977                          Gintama°   \n",
       "3      9253                       Steins;Gate   \n",
       "4      9969                     Gintama&#039;   \n",
       "\n",
       "                                               genre   type episodes  rating  \\\n",
       "0               Drama, Romance, School, Supernatural  Movie        1    9.37   \n",
       "1  Action, Adventure, Drama, Fantasy, Magic, Mili...     TV       64    9.26   \n",
       "2  Action, Comedy, Historical, Parody, Samurai, S...     TV       51    9.25   \n",
       "3                                   Sci-Fi, Thriller     TV       24    9.17   \n",
       "4  Action, Comedy, Historical, Parody, Samurai, S...     TV       51    9.16   \n",
       "\n",
       "   members  \n",
       "0   200630  \n",
       "1   793665  \n",
       "2   114262  \n",
       "3   673572  \n",
       "4   151266  "
      ]
     },
     "execution_count": 3,
     "metadata": {},
     "output_type": "execute_result"
    }
   ],
   "source": [
    "anime.head()"
   ]
  },
  {
   "cell_type": "code",
   "execution_count": 4,
   "id": "ca727b68",
   "metadata": {
    "execution": {
     "iopub.execute_input": "2024-03-30T10:38:08.214571Z",
     "iopub.status.busy": "2024-03-30T10:38:08.214111Z",
     "iopub.status.idle": "2024-03-30T10:38:08.240116Z",
     "shell.execute_reply": "2024-03-30T10:38:08.238890Z"
    },
    "papermill": {
     "duration": 0.037535,
     "end_time": "2024-03-30T10:38:08.242540",
     "exception": false,
     "start_time": "2024-03-30T10:38:08.205005",
     "status": "completed"
    },
    "tags": []
   },
   "outputs": [
    {
     "data": {
      "text/html": [
       "<div>\n",
       "<style scoped>\n",
       "    .dataframe tbody tr th:only-of-type {\n",
       "        vertical-align: middle;\n",
       "    }\n",
       "\n",
       "    .dataframe tbody tr th {\n",
       "        vertical-align: top;\n",
       "    }\n",
       "\n",
       "    .dataframe thead th {\n",
       "        text-align: right;\n",
       "    }\n",
       "</style>\n",
       "<table border=\"1\" class=\"dataframe\">\n",
       "  <thead>\n",
       "    <tr style=\"text-align: right;\">\n",
       "      <th></th>\n",
       "      <th>anime_id</th>\n",
       "      <th>name</th>\n",
       "      <th>genre</th>\n",
       "      <th>type</th>\n",
       "      <th>episodes</th>\n",
       "      <th>rating</th>\n",
       "    </tr>\n",
       "  </thead>\n",
       "  <tbody>\n",
       "    <tr>\n",
       "      <th>0</th>\n",
       "      <td>32281</td>\n",
       "      <td>Kimi no Na wa.</td>\n",
       "      <td>Drama, Romance, School, Supernatural</td>\n",
       "      <td>Movie</td>\n",
       "      <td>1</td>\n",
       "      <td>9.37</td>\n",
       "    </tr>\n",
       "    <tr>\n",
       "      <th>1</th>\n",
       "      <td>5114</td>\n",
       "      <td>Fullmetal Alchemist: Brotherhood</td>\n",
       "      <td>Action, Adventure, Drama, Fantasy, Magic, Mili...</td>\n",
       "      <td>TV</td>\n",
       "      <td>64</td>\n",
       "      <td>9.26</td>\n",
       "    </tr>\n",
       "    <tr>\n",
       "      <th>2</th>\n",
       "      <td>28977</td>\n",
       "      <td>Gintama°</td>\n",
       "      <td>Action, Comedy, Historical, Parody, Samurai, S...</td>\n",
       "      <td>TV</td>\n",
       "      <td>51</td>\n",
       "      <td>9.25</td>\n",
       "    </tr>\n",
       "    <tr>\n",
       "      <th>3</th>\n",
       "      <td>9253</td>\n",
       "      <td>Steins;Gate</td>\n",
       "      <td>Sci-Fi, Thriller</td>\n",
       "      <td>TV</td>\n",
       "      <td>24</td>\n",
       "      <td>9.17</td>\n",
       "    </tr>\n",
       "    <tr>\n",
       "      <th>4</th>\n",
       "      <td>9969</td>\n",
       "      <td>Gintama&amp;#039;</td>\n",
       "      <td>Action, Comedy, Historical, Parody, Samurai, S...</td>\n",
       "      <td>TV</td>\n",
       "      <td>51</td>\n",
       "      <td>9.16</td>\n",
       "    </tr>\n",
       "    <tr>\n",
       "      <th>...</th>\n",
       "      <td>...</td>\n",
       "      <td>...</td>\n",
       "      <td>...</td>\n",
       "      <td>...</td>\n",
       "      <td>...</td>\n",
       "      <td>...</td>\n",
       "    </tr>\n",
       "    <tr>\n",
       "      <th>12289</th>\n",
       "      <td>9316</td>\n",
       "      <td>Toushindai My Lover: Minami tai Mecha-Minami</td>\n",
       "      <td>Hentai</td>\n",
       "      <td>OVA</td>\n",
       "      <td>1</td>\n",
       "      <td>4.15</td>\n",
       "    </tr>\n",
       "    <tr>\n",
       "      <th>12290</th>\n",
       "      <td>5543</td>\n",
       "      <td>Under World</td>\n",
       "      <td>Hentai</td>\n",
       "      <td>OVA</td>\n",
       "      <td>1</td>\n",
       "      <td>4.28</td>\n",
       "    </tr>\n",
       "    <tr>\n",
       "      <th>12291</th>\n",
       "      <td>5621</td>\n",
       "      <td>Violence Gekiga David no Hoshi</td>\n",
       "      <td>Hentai</td>\n",
       "      <td>OVA</td>\n",
       "      <td>4</td>\n",
       "      <td>4.88</td>\n",
       "    </tr>\n",
       "    <tr>\n",
       "      <th>12292</th>\n",
       "      <td>6133</td>\n",
       "      <td>Violence Gekiga Shin David no Hoshi: Inma Dens...</td>\n",
       "      <td>Hentai</td>\n",
       "      <td>OVA</td>\n",
       "      <td>1</td>\n",
       "      <td>4.98</td>\n",
       "    </tr>\n",
       "    <tr>\n",
       "      <th>12293</th>\n",
       "      <td>26081</td>\n",
       "      <td>Yasuji no Pornorama: Yacchimae!!</td>\n",
       "      <td>Hentai</td>\n",
       "      <td>Movie</td>\n",
       "      <td>1</td>\n",
       "      <td>5.46</td>\n",
       "    </tr>\n",
       "  </tbody>\n",
       "</table>\n",
       "<p>12294 rows × 6 columns</p>\n",
       "</div>"
      ],
      "text/plain": [
       "       anime_id                                               name  \\\n",
       "0         32281                                     Kimi no Na wa.   \n",
       "1          5114                   Fullmetal Alchemist: Brotherhood   \n",
       "2         28977                                           Gintama°   \n",
       "3          9253                                        Steins;Gate   \n",
       "4          9969                                      Gintama&#039;   \n",
       "...         ...                                                ...   \n",
       "12289      9316       Toushindai My Lover: Minami tai Mecha-Minami   \n",
       "12290      5543                                        Under World   \n",
       "12291      5621                     Violence Gekiga David no Hoshi   \n",
       "12292      6133  Violence Gekiga Shin David no Hoshi: Inma Dens...   \n",
       "12293     26081                   Yasuji no Pornorama: Yacchimae!!   \n",
       "\n",
       "                                                   genre   type episodes  \\\n",
       "0                   Drama, Romance, School, Supernatural  Movie        1   \n",
       "1      Action, Adventure, Drama, Fantasy, Magic, Mili...     TV       64   \n",
       "2      Action, Comedy, Historical, Parody, Samurai, S...     TV       51   \n",
       "3                                       Sci-Fi, Thriller     TV       24   \n",
       "4      Action, Comedy, Historical, Parody, Samurai, S...     TV       51   \n",
       "...                                                  ...    ...      ...   \n",
       "12289                                             Hentai    OVA        1   \n",
       "12290                                             Hentai    OVA        1   \n",
       "12291                                             Hentai    OVA        4   \n",
       "12292                                             Hentai    OVA        1   \n",
       "12293                                             Hentai  Movie        1   \n",
       "\n",
       "       rating  \n",
       "0        9.37  \n",
       "1        9.26  \n",
       "2        9.25  \n",
       "3        9.17  \n",
       "4        9.16  \n",
       "...       ...  \n",
       "12289    4.15  \n",
       "12290    4.28  \n",
       "12291    4.88  \n",
       "12292    4.98  \n",
       "12293    5.46  \n",
       "\n",
       "[12294 rows x 6 columns]"
      ]
     },
     "execution_count": 4,
     "metadata": {},
     "output_type": "execute_result"
    }
   ],
   "source": [
    "anime = anime.drop(columns=['members'])\n",
    "anime"
   ]
  },
  {
   "cell_type": "code",
   "execution_count": 5,
   "id": "8034ae26",
   "metadata": {
    "execution": {
     "iopub.execute_input": "2024-03-30T10:38:08.260835Z",
     "iopub.status.busy": "2024-03-30T10:38:08.259787Z",
     "iopub.status.idle": "2024-03-30T10:38:08.291133Z",
     "shell.execute_reply": "2024-03-30T10:38:08.290000Z"
    },
    "papermill": {
     "duration": 0.044283,
     "end_time": "2024-03-30T10:38:08.294198",
     "exception": false,
     "start_time": "2024-03-30T10:38:08.249915",
     "status": "completed"
    },
    "tags": []
   },
   "outputs": [
    {
     "data": {
      "text/html": [
       "<div>\n",
       "<style scoped>\n",
       "    .dataframe tbody tr th:only-of-type {\n",
       "        vertical-align: middle;\n",
       "    }\n",
       "\n",
       "    .dataframe tbody tr th {\n",
       "        vertical-align: top;\n",
       "    }\n",
       "\n",
       "    .dataframe thead th {\n",
       "        text-align: right;\n",
       "    }\n",
       "</style>\n",
       "<table border=\"1\" class=\"dataframe\">\n",
       "  <thead>\n",
       "    <tr style=\"text-align: right;\">\n",
       "      <th></th>\n",
       "      <th>anime_id</th>\n",
       "      <th>name</th>\n",
       "      <th>episodes</th>\n",
       "      <th>rating</th>\n",
       "      <th>tags</th>\n",
       "    </tr>\n",
       "  </thead>\n",
       "  <tbody>\n",
       "    <tr>\n",
       "      <th>0</th>\n",
       "      <td>32281</td>\n",
       "      <td>Kimi no Na wa.</td>\n",
       "      <td>1</td>\n",
       "      <td>9.37</td>\n",
       "      <td>Drama, Romance, School, Supernatural,Movie</td>\n",
       "    </tr>\n",
       "    <tr>\n",
       "      <th>1</th>\n",
       "      <td>5114</td>\n",
       "      <td>Fullmetal Alchemist: Brotherhood</td>\n",
       "      <td>64</td>\n",
       "      <td>9.26</td>\n",
       "      <td>Action, Adventure, Drama, Fantasy, Magic, Mili...</td>\n",
       "    </tr>\n",
       "    <tr>\n",
       "      <th>2</th>\n",
       "      <td>28977</td>\n",
       "      <td>Gintama°</td>\n",
       "      <td>51</td>\n",
       "      <td>9.25</td>\n",
       "      <td>Action, Comedy, Historical, Parody, Samurai, S...</td>\n",
       "    </tr>\n",
       "    <tr>\n",
       "      <th>3</th>\n",
       "      <td>9253</td>\n",
       "      <td>Steins;Gate</td>\n",
       "      <td>24</td>\n",
       "      <td>9.17</td>\n",
       "      <td>Sci-Fi, Thriller,TV</td>\n",
       "    </tr>\n",
       "    <tr>\n",
       "      <th>4</th>\n",
       "      <td>9969</td>\n",
       "      <td>Gintama&amp;#039;</td>\n",
       "      <td>51</td>\n",
       "      <td>9.16</td>\n",
       "      <td>Action, Comedy, Historical, Parody, Samurai, S...</td>\n",
       "    </tr>\n",
       "    <tr>\n",
       "      <th>...</th>\n",
       "      <td>...</td>\n",
       "      <td>...</td>\n",
       "      <td>...</td>\n",
       "      <td>...</td>\n",
       "      <td>...</td>\n",
       "    </tr>\n",
       "    <tr>\n",
       "      <th>12289</th>\n",
       "      <td>9316</td>\n",
       "      <td>Toushindai My Lover: Minami tai Mecha-Minami</td>\n",
       "      <td>1</td>\n",
       "      <td>4.15</td>\n",
       "      <td>Hentai,OVA</td>\n",
       "    </tr>\n",
       "    <tr>\n",
       "      <th>12290</th>\n",
       "      <td>5543</td>\n",
       "      <td>Under World</td>\n",
       "      <td>1</td>\n",
       "      <td>4.28</td>\n",
       "      <td>Hentai,OVA</td>\n",
       "    </tr>\n",
       "    <tr>\n",
       "      <th>12291</th>\n",
       "      <td>5621</td>\n",
       "      <td>Violence Gekiga David no Hoshi</td>\n",
       "      <td>4</td>\n",
       "      <td>4.88</td>\n",
       "      <td>Hentai,OVA</td>\n",
       "    </tr>\n",
       "    <tr>\n",
       "      <th>12292</th>\n",
       "      <td>6133</td>\n",
       "      <td>Violence Gekiga Shin David no Hoshi: Inma Dens...</td>\n",
       "      <td>1</td>\n",
       "      <td>4.98</td>\n",
       "      <td>Hentai,OVA</td>\n",
       "    </tr>\n",
       "    <tr>\n",
       "      <th>12293</th>\n",
       "      <td>26081</td>\n",
       "      <td>Yasuji no Pornorama: Yacchimae!!</td>\n",
       "      <td>1</td>\n",
       "      <td>5.46</td>\n",
       "      <td>Hentai,Movie</td>\n",
       "    </tr>\n",
       "  </tbody>\n",
       "</table>\n",
       "<p>12294 rows × 5 columns</p>\n",
       "</div>"
      ],
      "text/plain": [
       "       anime_id                                               name episodes  \\\n",
       "0         32281                                     Kimi no Na wa.        1   \n",
       "1          5114                   Fullmetal Alchemist: Brotherhood       64   \n",
       "2         28977                                           Gintama°       51   \n",
       "3          9253                                        Steins;Gate       24   \n",
       "4          9969                                      Gintama&#039;       51   \n",
       "...         ...                                                ...      ...   \n",
       "12289      9316       Toushindai My Lover: Minami tai Mecha-Minami        1   \n",
       "12290      5543                                        Under World        1   \n",
       "12291      5621                     Violence Gekiga David no Hoshi        4   \n",
       "12292      6133  Violence Gekiga Shin David no Hoshi: Inma Dens...        1   \n",
       "12293     26081                   Yasuji no Pornorama: Yacchimae!!        1   \n",
       "\n",
       "       rating                                               tags  \n",
       "0        9.37         Drama, Romance, School, Supernatural,Movie  \n",
       "1        9.26  Action, Adventure, Drama, Fantasy, Magic, Mili...  \n",
       "2        9.25  Action, Comedy, Historical, Parody, Samurai, S...  \n",
       "3        9.17                                Sci-Fi, Thriller,TV  \n",
       "4        9.16  Action, Comedy, Historical, Parody, Samurai, S...  \n",
       "...       ...                                                ...  \n",
       "12289    4.15                                         Hentai,OVA  \n",
       "12290    4.28                                         Hentai,OVA  \n",
       "12291    4.88                                         Hentai,OVA  \n",
       "12292    4.98                                         Hentai,OVA  \n",
       "12293    5.46                                       Hentai,Movie  \n",
       "\n",
       "[12294 rows x 5 columns]"
      ]
     },
     "execution_count": 5,
     "metadata": {},
     "output_type": "execute_result"
    }
   ],
   "source": [
    "anime['tags'] = anime['genre']+','+anime['type']\n",
    "new = anime.drop(columns=['type','genre'])\n",
    "new"
   ]
  },
  {
   "cell_type": "code",
   "execution_count": 6,
   "id": "0d1b9b26",
   "metadata": {
    "execution": {
     "iopub.execute_input": "2024-03-30T10:38:08.312492Z",
     "iopub.status.busy": "2024-03-30T10:38:08.311361Z",
     "iopub.status.idle": "2024-03-30T10:38:09.731557Z",
     "shell.execute_reply": "2024-03-30T10:38:09.730288Z"
    },
    "papermill": {
     "duration": 1.432453,
     "end_time": "2024-03-30T10:38:09.734535",
     "exception": false,
     "start_time": "2024-03-30T10:38:08.302082",
     "status": "completed"
    },
    "tags": []
   },
   "outputs": [],
   "source": [
    "from sklearn.feature_extraction.text import CountVectorizer\n",
    "cv = CountVectorizer(max_features=5000,stop_words='english')\n"
   ]
  },
  {
   "cell_type": "code",
   "execution_count": 7,
   "id": "7313807f",
   "metadata": {
    "execution": {
     "iopub.execute_input": "2024-03-30T10:38:09.753378Z",
     "iopub.status.busy": "2024-03-30T10:38:09.752194Z",
     "iopub.status.idle": "2024-03-30T10:38:09.764650Z",
     "shell.execute_reply": "2024-03-30T10:38:09.763270Z"
    },
    "papermill": {
     "duration": 0.024539,
     "end_time": "2024-03-30T10:38:09.767184",
     "exception": false,
     "start_time": "2024-03-30T10:38:09.742645",
     "status": "completed"
    },
    "tags": []
   },
   "outputs": [
    {
     "name": "stderr",
     "output_type": "stream",
     "text": [
      "/tmp/ipykernel_18/2282698738.py:1: FutureWarning: A value is trying to be set on a copy of a DataFrame or Series through chained assignment using an inplace method.\n",
      "The behavior will change in pandas 3.0. This inplace method will never work because the intermediate object on which we are setting values always behaves as a copy.\n",
      "\n",
      "For example, when doing 'df[col].method(value, inplace=True)', try using 'df.method({col: value}, inplace=True)' or df[col] = df[col].method(value) instead, to perform the operation inplace on the original object.\n",
      "\n",
      "\n",
      "  new['tags'].fillna('', inplace=True)\n"
     ]
    }
   ],
   "source": [
    "new['tags'].fillna('', inplace=True)"
   ]
  },
  {
   "cell_type": "code",
   "execution_count": 8,
   "id": "deeedc38",
   "metadata": {
    "execution": {
     "iopub.execute_input": "2024-03-30T10:38:09.786842Z",
     "iopub.status.busy": "2024-03-30T10:38:09.784651Z",
     "iopub.status.idle": "2024-03-30T10:38:09.944419Z",
     "shell.execute_reply": "2024-03-30T10:38:09.942764Z"
    },
    "papermill": {
     "duration": 0.172575,
     "end_time": "2024-03-30T10:38:09.947901",
     "exception": false,
     "start_time": "2024-03-30T10:38:09.775326",
     "status": "completed"
    },
    "tags": []
   },
   "outputs": [],
   "source": [
    "vector = cv.fit_transform(new['tags']).toarray()"
   ]
  },
  {
   "cell_type": "code",
   "execution_count": 9,
   "id": "801ceb44",
   "metadata": {
    "execution": {
     "iopub.execute_input": "2024-03-30T10:38:09.974638Z",
     "iopub.status.busy": "2024-03-30T10:38:09.974082Z",
     "iopub.status.idle": "2024-03-30T10:38:09.982586Z",
     "shell.execute_reply": "2024-03-30T10:38:09.981306Z"
    },
    "papermill": {
     "duration": 0.025879,
     "end_time": "2024-03-30T10:38:09.985431",
     "exception": false,
     "start_time": "2024-03-30T10:38:09.959552",
     "status": "completed"
    },
    "tags": []
   },
   "outputs": [
    {
     "data": {
      "text/plain": [
       "(12294, 51)"
      ]
     },
     "execution_count": 9,
     "metadata": {},
     "output_type": "execute_result"
    }
   ],
   "source": [
    "vector.shape"
   ]
  },
  {
   "cell_type": "code",
   "execution_count": 10,
   "id": "ca2e5e38",
   "metadata": {
    "execution": {
     "iopub.execute_input": "2024-03-30T10:38:10.005394Z",
     "iopub.status.busy": "2024-03-30T10:38:10.004768Z",
     "iopub.status.idle": "2024-03-30T10:38:10.102385Z",
     "shell.execute_reply": "2024-03-30T10:38:10.101020Z"
    },
    "papermill": {
     "duration": 0.111794,
     "end_time": "2024-03-30T10:38:10.105450",
     "exception": false,
     "start_time": "2024-03-30T10:38:09.993656",
     "status": "completed"
    },
    "tags": []
   },
   "outputs": [],
   "source": [
    "from sklearn.metrics.pairwise import cosine_similarity\n",
    " "
   ]
  },
  {
   "cell_type": "code",
   "execution_count": 11,
   "id": "f6f13ee6",
   "metadata": {
    "execution": {
     "iopub.execute_input": "2024-03-30T10:38:10.124101Z",
     "iopub.status.busy": "2024-03-30T10:38:10.123279Z",
     "iopub.status.idle": "2024-03-30T10:38:11.077835Z",
     "shell.execute_reply": "2024-03-30T10:38:11.076445Z"
    },
    "papermill": {
     "duration": 0.967509,
     "end_time": "2024-03-30T10:38:11.081143",
     "exception": false,
     "start_time": "2024-03-30T10:38:10.113634",
     "status": "completed"
    },
    "tags": []
   },
   "outputs": [],
   "source": [
    "similarity = cosine_similarity(vector)"
   ]
  },
  {
   "cell_type": "code",
   "execution_count": 12,
   "id": "ef681db0",
   "metadata": {
    "execution": {
     "iopub.execute_input": "2024-03-30T10:38:11.100918Z",
     "iopub.status.busy": "2024-03-30T10:38:11.099526Z",
     "iopub.status.idle": "2024-03-30T10:38:11.108151Z",
     "shell.execute_reply": "2024-03-30T10:38:11.107021Z"
    },
    "papermill": {
     "duration": 0.021054,
     "end_time": "2024-03-30T10:38:11.110528",
     "exception": false,
     "start_time": "2024-03-30T10:38:11.089474",
     "status": "completed"
    },
    "tags": []
   },
   "outputs": [
    {
     "data": {
      "text/plain": [
       "array([[1.        , 0.15811388, 0.        , ..., 0.        , 0.        ,\n",
       "        0.31622777],\n",
       "       [0.15811388, 1.        , 0.35355339, ..., 0.        , 0.        ,\n",
       "        0.        ],\n",
       "       [0.        , 0.35355339, 1.        , ..., 0.        , 0.        ,\n",
       "        0.        ],\n",
       "       ...,\n",
       "       [0.        , 0.        , 0.        , ..., 1.        , 1.        ,\n",
       "        0.5       ],\n",
       "       [0.        , 0.        , 0.        , ..., 1.        , 1.        ,\n",
       "        0.5       ],\n",
       "       [0.31622777, 0.        , 0.        , ..., 0.5       , 0.5       ,\n",
       "        1.        ]])"
      ]
     },
     "execution_count": 12,
     "metadata": {},
     "output_type": "execute_result"
    }
   ],
   "source": [
    "similarity"
   ]
  },
  {
   "cell_type": "code",
   "execution_count": 13,
   "id": "12628f9a",
   "metadata": {
    "execution": {
     "iopub.execute_input": "2024-03-30T10:38:11.128939Z",
     "iopub.status.busy": "2024-03-30T10:38:11.128503Z",
     "iopub.status.idle": "2024-03-30T10:38:11.139846Z",
     "shell.execute_reply": "2024-03-30T10:38:11.138545Z"
    },
    "papermill": {
     "duration": 0.023783,
     "end_time": "2024-03-30T10:38:11.142548",
     "exception": false,
     "start_time": "2024-03-30T10:38:11.118765",
     "status": "completed"
    },
    "tags": []
   },
   "outputs": [
    {
     "data": {
      "text/plain": [
       "12290"
      ]
     },
     "execution_count": 13,
     "metadata": {},
     "output_type": "execute_result"
    }
   ],
   "source": [
    "new[new['name'] == 'Under World'].index[0]"
   ]
  },
  {
   "cell_type": "code",
   "execution_count": 14,
   "id": "891c6d28",
   "metadata": {
    "execution": {
     "iopub.execute_input": "2024-03-30T10:38:11.162517Z",
     "iopub.status.busy": "2024-03-30T10:38:11.162085Z",
     "iopub.status.idle": "2024-03-30T10:38:11.169178Z",
     "shell.execute_reply": "2024-03-30T10:38:11.167919Z"
    },
    "papermill": {
     "duration": 0.020345,
     "end_time": "2024-03-30T10:38:11.171511",
     "exception": false,
     "start_time": "2024-03-30T10:38:11.151166",
     "status": "completed"
    },
    "tags": []
   },
   "outputs": [],
   "source": [
    "def recommend(anime):\n",
    "    index = new[new['name'] == anime].index[0]\n",
    "    distances = sorted(list(enumerate(similarity[index])),reverse=True,key = lambda x: x[1])\n",
    "    for i in distances[1:6]:\n",
    "        print(new.iloc[i[0]]['name'])"
   ]
  },
  {
   "cell_type": "code",
   "execution_count": 15,
   "id": "9b969cb7",
   "metadata": {
    "execution": {
     "iopub.execute_input": "2024-03-30T10:38:11.190836Z",
     "iopub.status.busy": "2024-03-30T10:38:11.190422Z",
     "iopub.status.idle": "2024-03-30T10:38:11.297030Z",
     "shell.execute_reply": "2024-03-30T10:38:11.295832Z"
    },
    "papermill": {
     "duration": 0.120391,
     "end_time": "2024-03-30T10:38:11.300422",
     "exception": false,
     "start_time": "2024-03-30T10:38:11.180031",
     "status": "completed"
    },
    "tags": []
   },
   "outputs": [
    {
     "name": "stdout",
     "output_type": "stream",
     "text": [
      "Mankitsu Happening\n",
      "Koiito Kinenbi The Animation\n",
      "Oni Chichi: Rebuild\n",
      "Eroge! H mo Game mo Kaihatsu Zanmai\n",
      "Oni Chichi: Re-birth\n"
     ]
    }
   ],
   "source": [
    "recommend('Under World')"
   ]
  },
  {
   "cell_type": "code",
   "execution_count": 16,
   "id": "a8ffaf3b",
   "metadata": {
    "execution": {
     "iopub.execute_input": "2024-03-30T10:38:11.319330Z",
     "iopub.status.busy": "2024-03-30T10:38:11.318823Z",
     "iopub.status.idle": "2024-03-30T10:38:11.324131Z",
     "shell.execute_reply": "2024-03-30T10:38:11.322931Z"
    },
    "papermill": {
     "duration": 0.017569,
     "end_time": "2024-03-30T10:38:11.326452",
     "exception": false,
     "start_time": "2024-03-30T10:38:11.308883",
     "status": "completed"
    },
    "tags": []
   },
   "outputs": [],
   "source": [
    "import pickle"
   ]
  },
  {
   "cell_type": "code",
   "execution_count": 17,
   "id": "9118e237",
   "metadata": {
    "execution": {
     "iopub.execute_input": "2024-03-30T10:38:11.345763Z",
     "iopub.status.busy": "2024-03-30T10:38:11.345320Z",
     "iopub.status.idle": "2024-03-30T10:38:13.921829Z",
     "shell.execute_reply": "2024-03-30T10:38:13.920551Z"
    },
    "papermill": {
     "duration": 2.589851,
     "end_time": "2024-03-30T10:38:13.924909",
     "exception": false,
     "start_time": "2024-03-30T10:38:11.335058",
     "status": "completed"
    },
    "tags": []
   },
   "outputs": [],
   "source": [
    "pickle.dump(new,open('anime_list.pkl','wb'))\n",
    "pickle.dump(similarity,open('similarity.pkl','wb'))"
   ]
  }
 ],
 "metadata": {
  "kaggle": {
   "accelerator": "none",
   "dataSources": [
    {
     "datasetId": 571,
     "sourceId": 1094,
     "sourceType": "datasetVersion"
    }
   ],
   "dockerImageVersionId": 30673,
   "isGpuEnabled": false,
   "isInternetEnabled": true,
   "language": "python",
   "sourceType": "notebook"
  },
  "kernelspec": {
   "display_name": "Python 3",
   "language": "python",
   "name": "python3"
  },
  "language_info": {
   "codemirror_mode": {
    "name": "ipython",
    "version": 3
   },
   "file_extension": ".py",
   "mimetype": "text/x-python",
   "name": "python",
   "nbconvert_exporter": "python",
   "pygments_lexer": "ipython3",
   "version": "3.10.13"
  },
  "papermill": {
   "default_parameters": {},
   "duration": 14.412985,
   "end_time": "2024-03-30T10:38:14.555600",
   "environment_variables": {},
   "exception": null,
   "input_path": "__notebook__.ipynb",
   "output_path": "__notebook__.ipynb",
   "parameters": {},
   "start_time": "2024-03-30T10:38:00.142615",
   "version": "2.5.0"
  }
 },
 "nbformat": 4,
 "nbformat_minor": 5
}
