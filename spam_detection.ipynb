{
  "nbformat": 4,
  "nbformat_minor": 0,
  "metadata": {
    "colab": {
      "provenance": []
    },
    "kernelspec": {
      "name": "python3",
      "display_name": "Python 3"
    },
    "language_info": {
      "name": "python"
    }
  },
  "cells": [
    {
      "cell_type": "code",
      "execution_count": null,
      "metadata": {
        "id": "XuS8XF5RQO6k"
      },
      "outputs": [],
      "source": [
        "import pandas as pd\n",
        "import numpy as np\n",
        "import matplotlib.pyplot as plt\n",
        "import seaborn as sns\n",
        "#Import KNN and accuracy_score from sklearn\n",
        "from sklearn.neighbors import KNeighborsClassifier\n",
        "from sklearn.metrics import accuracy_score"
      ]
    },
    {
      "cell_type": "code",
      "source": [
        "# Try opening the file with different encodings until successful\n",
        "encodings = ['utf-8', 'latin-1', 'utf-16']\n",
        "\n",
        "for encoding in encodings:\n",
        "    try:\n",
        "        df = pd.read_csv('/content/dataset of spam or ham.csv', encoding=encoding)\n",
        "        break  # Exit the loop if successful\n",
        "    except UnicodeDecodeError:\n",
        "        continue  # Try the next encoding if decoding fails\n",
        "\n",
        "# Once successfully loaded, you can work with the DataFrame\n",
        "\n",
        "\n",
        "df.info()"
      ],
      "metadata": {
        "id": "jqWjaaxCR__U"
      },
      "execution_count": null,
      "outputs": []
    },
    {
      "cell_type": "code",
      "source": [
        "df.drop(df.columns[[2,3,4]], axis=1, inplace=True)\n",
        "df.head()\n",
        "df.shape\n",
        "df['output'] = df.output.map({'ham':0, 'spam':1})"
      ],
      "metadata": {
        "id": "yi3_L5aDWNlI"
      },
      "execution_count": 90,
      "outputs": []
    },
    {
      "cell_type": "code",
      "source": [
        "import re\n",
        "\n",
        "corpus = []\n",
        "for i in range(0,len(df)):\n",
        "  text = re.sub('[^a-zA-Z]',' ',df['emails'][i])\n",
        "  text = text.lower()\n",
        "  corpus.append(text)\n",
        "corpus"
      ],
      "metadata": {
        "id": "t-uXn6loaAsv"
      },
      "execution_count": null,
      "outputs": []
    },
    {
      "cell_type": "code",
      "source": [
        "from sklearn.feature_extraction.text import CountVectorizer\n",
        "\n",
        "cv = CountVectorizer(max_features=500)\n",
        "\n",
        "x = cv.fit_transform(corpus).toarray()\n",
        "\n",
        "y = df['output']\n",
        "\n",
        "# len(x[0])"
      ],
      "metadata": {
        "id": "7wpNZwvGa2ft"
      },
      "execution_count": 92,
      "outputs": []
    },
    {
      "cell_type": "code",
      "source": [
        "from sklearn.model_selection import train_test_split\n",
        "x_train,x_test,y_train,y_test = train_test_split(x,y,test_size=0.2)"
      ],
      "metadata": {
        "id": "gx6UOhxybjYq"
      },
      "execution_count": 93,
      "outputs": []
    },
    {
      "cell_type": "code",
      "source": [
        "model = KNeighborsClassifier(n_neighbors = 5)\n",
        "print('model created')\n",
        "\n",
        "model.fit(x_train ,y_train)\n",
        "print('model predicted')\n",
        "\n",
        "y_pred = model.predict(x_test)\n",
        "print(y_pred)\n",
        "\n",
        "acc = accuracy_score(y_test,y_pred)\n",
        "print(\"Acuracy predicted\",acc*100)"
      ],
      "metadata": {
        "colab": {
          "base_uri": "https://localhost:8080/"
        },
        "id": "vS4ObGSbbqf_",
        "outputId": "2710f05c-7e67-4638-f6c6-f681e0c3b663"
      },
      "execution_count": 94,
      "outputs": [
        {
          "output_type": "stream",
          "name": "stdout",
          "text": [
            "model created\n",
            "model predicted\n",
            "[0 0 0 ... 0 0 0]\n",
            "Acuracy predicted 94.61883408071749\n"
          ]
        }
      ]
    },
    {
      "cell_type": "code",
      "source": [
        "raw_email = df['emails'][7]\n",
        "raw_email\n",
        "\n",
        "email = re.sub('[^a-zA-Z]',' ',raw_email)\n",
        "email\n",
        "\n",
        "email_cv = cv.transform([email])\n",
        "email_cv\n",
        "\n",
        "pred = model.predict(email_cv)[0]"
      ],
      "metadata": {
        "id": "94cVOSh9cpze"
      },
      "execution_count": 95,
      "outputs": []
    },
    {
      "cell_type": "code",
      "source": [
        "if pred==1:\n",
        "  print('spam email')\n",
        "elif pred==0:\n",
        "  print('ham email')\n",
        "else:\n",
        "  print('some issue in prediction')"
      ],
      "metadata": {
        "colab": {
          "base_uri": "https://localhost:8080/"
        },
        "id": "aD54m-1QddKA",
        "outputId": "14e38a42-e8ef-487e-9b06-50c4d7ac3c3b"
      },
      "execution_count": 97,
      "outputs": [
        {
          "output_type": "stream",
          "name": "stdout",
          "text": [
            "ham email\n"
          ]
        }
      ]
    }
  ]
}