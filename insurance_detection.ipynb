{
  "metadata": {
    "kernelspec": {
      "language": "python",
      "display_name": "Python 3",
      "name": "python3"
    },
    "language_info": {
      "name": "python",
      "version": "3.10.13",
      "mimetype": "text/x-python",
      "codemirror_mode": {
        "name": "ipython",
        "version": 3
      },
      "pygments_lexer": "ipython3",
      "nbconvert_exporter": "python",
      "file_extension": ".py"
    },
    "kaggle": {
      "accelerator": "none",
      "dataSources": [
        {
          "sourceId": 18513,
          "sourceType": "datasetVersion",
          "datasetId": 13720
        }
      ],
      "dockerImageVersionId": 30673,
      "isInternetEnabled": true,
      "language": "python",
      "sourceType": "notebook",
      "isGpuEnabled": false
    },
    "colab": {
      "name": "insurance detection",
      "provenance": []
    }
  },
  "nbformat_minor": 0,
  "nbformat": 4,
  "cells": [
    {
      "source": [
        "\n",
        "# IMPORTANT: RUN THIS CELL IN ORDER TO IMPORT YOUR KAGGLE DATA SOURCES\n",
        "# TO THE CORRECT LOCATION (/kaggle/input) IN YOUR NOTEBOOK,\n",
        "# THEN FEEL FREE TO DELETE THIS CELL.\n",
        "# NOTE: THIS NOTEBOOK ENVIRONMENT DIFFERS FROM KAGGLE'S PYTHON\n",
        "# ENVIRONMENT SO THERE MAY BE MISSING LIBRARIES USED BY YOUR\n",
        "# NOTEBOOK.\n",
        "\n",
        "import os\n",
        "import sys\n",
        "from tempfile import NamedTemporaryFile\n",
        "from urllib.request import urlopen\n",
        "from urllib.parse import unquote, urlparse\n",
        "from urllib.error import HTTPError\n",
        "from zipfile import ZipFile\n",
        "import tarfile\n",
        "import shutil\n",
        "\n",
        "CHUNK_SIZE = 40960\n",
        "DATA_SOURCE_MAPPING = 'insurance:https%3A%2F%2Fstorage.googleapis.com%2Fkaggle-data-sets%2F13720%2F18513%2Fbundle%2Farchive.zip%3FX-Goog-Algorithm%3DGOOG4-RSA-SHA256%26X-Goog-Credential%3Dgcp-kaggle-com%2540kaggle-161607.iam.gserviceaccount.com%252F20240405%252Fauto%252Fstorage%252Fgoog4_request%26X-Goog-Date%3D20240405T143503Z%26X-Goog-Expires%3D259200%26X-Goog-SignedHeaders%3Dhost%26X-Goog-Signature%3Dc687aeb56c1d7211238fa0c340af148a7c1cbd2ac8b6512f989e9c9493337a0a7be3ee9e3e9a9b92c094778534c421b5e478adffb473ee91fe22ef47fd56ad06254ae0dd828f774c61520b1d6bd87beb3445dce5e5301f4b29fcaf1b57dbe4330f9d6ee4b7bb2da6b03086182c61762f994ad2c080ca8e9d77ea0133af16ec3dcada710f02b0adab910eab4e4143797d44745d0a8586fea500a7bdaacc6e7f9cda2ce16792bffc6a8bdece052c1138c54aadeec9ed8ffbdf83e7189a523e5697a5e4fa21ee4b98572b4fc6dca90adcbd27d66118f2319d6a2b8ec43435adf8df270e6c233e662c7b96d5b8d65fad434b55e13366037d1657a89a21becf5587fb'\n",
        "\n",
        "KAGGLE_INPUT_PATH='/kaggle/input'\n",
        "KAGGLE_WORKING_PATH='/kaggle/working'\n",
        "KAGGLE_SYMLINK='kaggle'\n",
        "\n",
        "!umount /kaggle/input/ 2> /dev/null\n",
        "shutil.rmtree('/kaggle/input', ignore_errors=True)\n",
        "os.makedirs(KAGGLE_INPUT_PATH, 0o777, exist_ok=True)\n",
        "os.makedirs(KAGGLE_WORKING_PATH, 0o777, exist_ok=True)\n",
        "\n",
        "try:\n",
        "  os.symlink(KAGGLE_INPUT_PATH, os.path.join(\"..\", 'input'), target_is_directory=True)\n",
        "except FileExistsError:\n",
        "  pass\n",
        "try:\n",
        "  os.symlink(KAGGLE_WORKING_PATH, os.path.join(\"..\", 'working'), target_is_directory=True)\n",
        "except FileExistsError:\n",
        "  pass\n",
        "\n",
        "for data_source_mapping in DATA_SOURCE_MAPPING.split(','):\n",
        "    directory, download_url_encoded = data_source_mapping.split(':')\n",
        "    download_url = unquote(download_url_encoded)\n",
        "    filename = urlparse(download_url).path\n",
        "    destination_path = os.path.join(KAGGLE_INPUT_PATH, directory)\n",
        "    try:\n",
        "        with urlopen(download_url) as fileres, NamedTemporaryFile() as tfile:\n",
        "            total_length = fileres.headers['content-length']\n",
        "            print(f'Downloading {directory}, {total_length} bytes compressed')\n",
        "            dl = 0\n",
        "            data = fileres.read(CHUNK_SIZE)\n",
        "            while len(data) > 0:\n",
        "                dl += len(data)\n",
        "                tfile.write(data)\n",
        "                done = int(50 * dl / int(total_length))\n",
        "                sys.stdout.write(f\"\\r[{'=' * done}{' ' * (50-done)}] {dl} bytes downloaded\")\n",
        "                sys.stdout.flush()\n",
        "                data = fileres.read(CHUNK_SIZE)\n",
        "            if filename.endswith('.zip'):\n",
        "              with ZipFile(tfile) as zfile:\n",
        "                zfile.extractall(destination_path)\n",
        "            else:\n",
        "              with tarfile.open(tfile.name) as tarfile:\n",
        "                tarfile.extractall(destination_path)\n",
        "            print(f'\\nDownloaded and uncompressed: {directory}')\n",
        "    except HTTPError as e:\n",
        "        print(f'Failed to load (likely expired) {download_url} to path {destination_path}')\n",
        "        continue\n",
        "    except OSError as e:\n",
        "        print(f'Failed to load {download_url} to path {destination_path}')\n",
        "        continue\n",
        "\n",
        "print('Data source import complete.')\n"
      ],
      "metadata": {
        "id": "dys5KOQJr0KP",
        "outputId": "83584cd6-caf4-419b-a56f-69e82276928e",
        "colab": {
          "base_uri": "https://localhost:8080/"
        }
      },
      "cell_type": "code",
      "outputs": [
        {
          "output_type": "stream",
          "name": "stdout",
          "text": [
            "Downloading insurance, 16425 bytes compressed\n",
            "\r[==================================================] 16425 bytes downloaded\n",
            "Downloaded and uncompressed: insurance\n",
            "Data source import complete.\n"
          ]
        }
      ],
      "execution_count": 32
    },
    {
      "cell_type": "code",
      "source": [
        "# This Python 3 environment comes with many helpful analytics libraries installed\n",
        "# It is defined by the kaggle/python Docker image: https://github.com/kaggle/docker-python\n",
        "# For example, here's several helpful packages to load\n",
        "\n",
        "import numpy as np # linear algebra\n",
        "import pandas as pd # data processing, CSV file I/O (e.g. pd.read_csv)\n",
        "\n",
        "# Input data files are available in the read-only \"../input/\" directory\n",
        "# For example, running this (by clicking run or pressing Shift+Enter) will list all files under the input directory\n",
        "\n",
        "import os\n",
        "for dirname, _, filenames in os.walk('/kaggle/input'):\n",
        "    for filename in filenames:\n",
        "        print(os.path.join(dirname, filename))\n",
        "\n",
        "# You can write up to 20GB to the current directory (/kaggle/working/) that gets preserved as output when you create a version using \"Save & Run All\"\n",
        "# You can also write temporary files to /kaggle/temp/, but they won't be saved outside of the current session"
      ],
      "metadata": {
        "_uuid": "8f2839f25d086af736a60e9eeb907d3b93b6e0e5",
        "_cell_guid": "b1076dfc-b9ad-4769-8c92-a6c4dae69d19",
        "trusted": true,
        "id": "fvAv40rhr0KS",
        "outputId": "aa7beb12-b134-4dde-a3c0-00e1f37b8b6e",
        "colab": {
          "base_uri": "https://localhost:8080/"
        }
      },
      "execution_count": 33,
      "outputs": [
        {
          "output_type": "stream",
          "name": "stdout",
          "text": [
            "/kaggle/input/insurance/insurance.csv\n"
          ]
        }
      ]
    },
    {
      "cell_type": "code",
      "source": [
        "df = pd.read_csv(\"/kaggle/input/insurance/insurance.csv\")\n",
        "df.head(3)"
      ],
      "metadata": {
        "trusted": true,
        "id": "_iPWAli3r0KT",
        "outputId": "89a3c7fd-fff2-44f5-9288-c261f8bb5191",
        "colab": {
          "base_uri": "https://localhost:8080/",
          "height": 143
        }
      },
      "execution_count": 34,
      "outputs": [
        {
          "output_type": "execute_result",
          "data": {
            "text/plain": [
              "   age     sex    bmi  children smoker     region     charges\n",
              "0   19  female  27.90         0    yes  southwest  16884.9240\n",
              "1   18    male  33.77         1     no  southeast   1725.5523\n",
              "2   28    male  33.00         3     no  southeast   4449.4620"
            ],
            "text/html": [
              "\n",
              "  <div id=\"df-33d3dd2b-eddc-4369-8bdf-a0b77d730239\" class=\"colab-df-container\">\n",
              "    <div>\n",
              "<style scoped>\n",
              "    .dataframe tbody tr th:only-of-type {\n",
              "        vertical-align: middle;\n",
              "    }\n",
              "\n",
              "    .dataframe tbody tr th {\n",
              "        vertical-align: top;\n",
              "    }\n",
              "\n",
              "    .dataframe thead th {\n",
              "        text-align: right;\n",
              "    }\n",
              "</style>\n",
              "<table border=\"1\" class=\"dataframe\">\n",
              "  <thead>\n",
              "    <tr style=\"text-align: right;\">\n",
              "      <th></th>\n",
              "      <th>age</th>\n",
              "      <th>sex</th>\n",
              "      <th>bmi</th>\n",
              "      <th>children</th>\n",
              "      <th>smoker</th>\n",
              "      <th>region</th>\n",
              "      <th>charges</th>\n",
              "    </tr>\n",
              "  </thead>\n",
              "  <tbody>\n",
              "    <tr>\n",
              "      <th>0</th>\n",
              "      <td>19</td>\n",
              "      <td>female</td>\n",
              "      <td>27.90</td>\n",
              "      <td>0</td>\n",
              "      <td>yes</td>\n",
              "      <td>southwest</td>\n",
              "      <td>16884.9240</td>\n",
              "    </tr>\n",
              "    <tr>\n",
              "      <th>1</th>\n",
              "      <td>18</td>\n",
              "      <td>male</td>\n",
              "      <td>33.77</td>\n",
              "      <td>1</td>\n",
              "      <td>no</td>\n",
              "      <td>southeast</td>\n",
              "      <td>1725.5523</td>\n",
              "    </tr>\n",
              "    <tr>\n",
              "      <th>2</th>\n",
              "      <td>28</td>\n",
              "      <td>male</td>\n",
              "      <td>33.00</td>\n",
              "      <td>3</td>\n",
              "      <td>no</td>\n",
              "      <td>southeast</td>\n",
              "      <td>4449.4620</td>\n",
              "    </tr>\n",
              "  </tbody>\n",
              "</table>\n",
              "</div>\n",
              "    <div class=\"colab-df-buttons\">\n",
              "\n",
              "  <div class=\"colab-df-container\">\n",
              "    <button class=\"colab-df-convert\" onclick=\"convertToInteractive('df-33d3dd2b-eddc-4369-8bdf-a0b77d730239')\"\n",
              "            title=\"Convert this dataframe to an interactive table.\"\n",
              "            style=\"display:none;\">\n",
              "\n",
              "  <svg xmlns=\"http://www.w3.org/2000/svg\" height=\"24px\" viewBox=\"0 -960 960 960\">\n",
              "    <path d=\"M120-120v-720h720v720H120Zm60-500h600v-160H180v160Zm220 220h160v-160H400v160Zm0 220h160v-160H400v160ZM180-400h160v-160H180v160Zm440 0h160v-160H620v160ZM180-180h160v-160H180v160Zm440 0h160v-160H620v160Z\"/>\n",
              "  </svg>\n",
              "    </button>\n",
              "\n",
              "  <style>\n",
              "    .colab-df-container {\n",
              "      display:flex;\n",
              "      gap: 12px;\n",
              "    }\n",
              "\n",
              "    .colab-df-convert {\n",
              "      background-color: #E8F0FE;\n",
              "      border: none;\n",
              "      border-radius: 50%;\n",
              "      cursor: pointer;\n",
              "      display: none;\n",
              "      fill: #1967D2;\n",
              "      height: 32px;\n",
              "      padding: 0 0 0 0;\n",
              "      width: 32px;\n",
              "    }\n",
              "\n",
              "    .colab-df-convert:hover {\n",
              "      background-color: #E2EBFA;\n",
              "      box-shadow: 0px 1px 2px rgba(60, 64, 67, 0.3), 0px 1px 3px 1px rgba(60, 64, 67, 0.15);\n",
              "      fill: #174EA6;\n",
              "    }\n",
              "\n",
              "    .colab-df-buttons div {\n",
              "      margin-bottom: 4px;\n",
              "    }\n",
              "\n",
              "    [theme=dark] .colab-df-convert {\n",
              "      background-color: #3B4455;\n",
              "      fill: #D2E3FC;\n",
              "    }\n",
              "\n",
              "    [theme=dark] .colab-df-convert:hover {\n",
              "      background-color: #434B5C;\n",
              "      box-shadow: 0px 1px 3px 1px rgba(0, 0, 0, 0.15);\n",
              "      filter: drop-shadow(0px 1px 2px rgba(0, 0, 0, 0.3));\n",
              "      fill: #FFFFFF;\n",
              "    }\n",
              "  </style>\n",
              "\n",
              "    <script>\n",
              "      const buttonEl =\n",
              "        document.querySelector('#df-33d3dd2b-eddc-4369-8bdf-a0b77d730239 button.colab-df-convert');\n",
              "      buttonEl.style.display =\n",
              "        google.colab.kernel.accessAllowed ? 'block' : 'none';\n",
              "\n",
              "      async function convertToInteractive(key) {\n",
              "        const element = document.querySelector('#df-33d3dd2b-eddc-4369-8bdf-a0b77d730239');\n",
              "        const dataTable =\n",
              "          await google.colab.kernel.invokeFunction('convertToInteractive',\n",
              "                                                    [key], {});\n",
              "        if (!dataTable) return;\n",
              "\n",
              "        const docLinkHtml = 'Like what you see? Visit the ' +\n",
              "          '<a target=\"_blank\" href=https://colab.research.google.com/notebooks/data_table.ipynb>data table notebook</a>'\n",
              "          + ' to learn more about interactive tables.';\n",
              "        element.innerHTML = '';\n",
              "        dataTable['output_type'] = 'display_data';\n",
              "        await google.colab.output.renderOutput(dataTable, element);\n",
              "        const docLink = document.createElement('div');\n",
              "        docLink.innerHTML = docLinkHtml;\n",
              "        element.appendChild(docLink);\n",
              "      }\n",
              "    </script>\n",
              "  </div>\n",
              "\n",
              "\n",
              "<div id=\"df-d2335cd0-134b-41b9-a83a-ae0ffebbb930\">\n",
              "  <button class=\"colab-df-quickchart\" onclick=\"quickchart('df-d2335cd0-134b-41b9-a83a-ae0ffebbb930')\"\n",
              "            title=\"Suggest charts\"\n",
              "            style=\"display:none;\">\n",
              "\n",
              "<svg xmlns=\"http://www.w3.org/2000/svg\" height=\"24px\"viewBox=\"0 0 24 24\"\n",
              "     width=\"24px\">\n",
              "    <g>\n",
              "        <path d=\"M19 3H5c-1.1 0-2 .9-2 2v14c0 1.1.9 2 2 2h14c1.1 0 2-.9 2-2V5c0-1.1-.9-2-2-2zM9 17H7v-7h2v7zm4 0h-2V7h2v10zm4 0h-2v-4h2v4z\"/>\n",
              "    </g>\n",
              "</svg>\n",
              "  </button>\n",
              "\n",
              "<style>\n",
              "  .colab-df-quickchart {\n",
              "      --bg-color: #E8F0FE;\n",
              "      --fill-color: #1967D2;\n",
              "      --hover-bg-color: #E2EBFA;\n",
              "      --hover-fill-color: #174EA6;\n",
              "      --disabled-fill-color: #AAA;\n",
              "      --disabled-bg-color: #DDD;\n",
              "  }\n",
              "\n",
              "  [theme=dark] .colab-df-quickchart {\n",
              "      --bg-color: #3B4455;\n",
              "      --fill-color: #D2E3FC;\n",
              "      --hover-bg-color: #434B5C;\n",
              "      --hover-fill-color: #FFFFFF;\n",
              "      --disabled-bg-color: #3B4455;\n",
              "      --disabled-fill-color: #666;\n",
              "  }\n",
              "\n",
              "  .colab-df-quickchart {\n",
              "    background-color: var(--bg-color);\n",
              "    border: none;\n",
              "    border-radius: 50%;\n",
              "    cursor: pointer;\n",
              "    display: none;\n",
              "    fill: var(--fill-color);\n",
              "    height: 32px;\n",
              "    padding: 0;\n",
              "    width: 32px;\n",
              "  }\n",
              "\n",
              "  .colab-df-quickchart:hover {\n",
              "    background-color: var(--hover-bg-color);\n",
              "    box-shadow: 0 1px 2px rgba(60, 64, 67, 0.3), 0 1px 3px 1px rgba(60, 64, 67, 0.15);\n",
              "    fill: var(--button-hover-fill-color);\n",
              "  }\n",
              "\n",
              "  .colab-df-quickchart-complete:disabled,\n",
              "  .colab-df-quickchart-complete:disabled:hover {\n",
              "    background-color: var(--disabled-bg-color);\n",
              "    fill: var(--disabled-fill-color);\n",
              "    box-shadow: none;\n",
              "  }\n",
              "\n",
              "  .colab-df-spinner {\n",
              "    border: 2px solid var(--fill-color);\n",
              "    border-color: transparent;\n",
              "    border-bottom-color: var(--fill-color);\n",
              "    animation:\n",
              "      spin 1s steps(1) infinite;\n",
              "  }\n",
              "\n",
              "  @keyframes spin {\n",
              "    0% {\n",
              "      border-color: transparent;\n",
              "      border-bottom-color: var(--fill-color);\n",
              "      border-left-color: var(--fill-color);\n",
              "    }\n",
              "    20% {\n",
              "      border-color: transparent;\n",
              "      border-left-color: var(--fill-color);\n",
              "      border-top-color: var(--fill-color);\n",
              "    }\n",
              "    30% {\n",
              "      border-color: transparent;\n",
              "      border-left-color: var(--fill-color);\n",
              "      border-top-color: var(--fill-color);\n",
              "      border-right-color: var(--fill-color);\n",
              "    }\n",
              "    40% {\n",
              "      border-color: transparent;\n",
              "      border-right-color: var(--fill-color);\n",
              "      border-top-color: var(--fill-color);\n",
              "    }\n",
              "    60% {\n",
              "      border-color: transparent;\n",
              "      border-right-color: var(--fill-color);\n",
              "    }\n",
              "    80% {\n",
              "      border-color: transparent;\n",
              "      border-right-color: var(--fill-color);\n",
              "      border-bottom-color: var(--fill-color);\n",
              "    }\n",
              "    90% {\n",
              "      border-color: transparent;\n",
              "      border-bottom-color: var(--fill-color);\n",
              "    }\n",
              "  }\n",
              "</style>\n",
              "\n",
              "  <script>\n",
              "    async function quickchart(key) {\n",
              "      const quickchartButtonEl =\n",
              "        document.querySelector('#' + key + ' button');\n",
              "      quickchartButtonEl.disabled = true;  // To prevent multiple clicks.\n",
              "      quickchartButtonEl.classList.add('colab-df-spinner');\n",
              "      try {\n",
              "        const charts = await google.colab.kernel.invokeFunction(\n",
              "            'suggestCharts', [key], {});\n",
              "      } catch (error) {\n",
              "        console.error('Error during call to suggestCharts:', error);\n",
              "      }\n",
              "      quickchartButtonEl.classList.remove('colab-df-spinner');\n",
              "      quickchartButtonEl.classList.add('colab-df-quickchart-complete');\n",
              "    }\n",
              "    (() => {\n",
              "      let quickchartButtonEl =\n",
              "        document.querySelector('#df-d2335cd0-134b-41b9-a83a-ae0ffebbb930 button');\n",
              "      quickchartButtonEl.style.display =\n",
              "        google.colab.kernel.accessAllowed ? 'block' : 'none';\n",
              "    })();\n",
              "  </script>\n",
              "</div>\n",
              "\n",
              "    </div>\n",
              "  </div>\n"
            ],
            "application/vnd.google.colaboratory.intrinsic+json": {
              "type": "dataframe",
              "variable_name": "df",
              "summary": "{\n  \"name\": \"df\",\n  \"rows\": 1338,\n  \"fields\": [\n    {\n      \"column\": \"age\",\n      \"properties\": {\n        \"dtype\": \"number\",\n        \"std\": 14,\n        \"min\": 18,\n        \"max\": 64,\n        \"num_unique_values\": 47,\n        \"samples\": [\n          21,\n          45,\n          36\n        ],\n        \"semantic_type\": \"\",\n        \"description\": \"\"\n      }\n    },\n    {\n      \"column\": \"sex\",\n      \"properties\": {\n        \"dtype\": \"category\",\n        \"num_unique_values\": 2,\n        \"samples\": [\n          \"male\",\n          \"female\"\n        ],\n        \"semantic_type\": \"\",\n        \"description\": \"\"\n      }\n    },\n    {\n      \"column\": \"bmi\",\n      \"properties\": {\n        \"dtype\": \"number\",\n        \"std\": 6.098186911679014,\n        \"min\": 15.96,\n        \"max\": 53.13,\n        \"num_unique_values\": 548,\n        \"samples\": [\n          23.18,\n          26.885\n        ],\n        \"semantic_type\": \"\",\n        \"description\": \"\"\n      }\n    },\n    {\n      \"column\": \"children\",\n      \"properties\": {\n        \"dtype\": \"number\",\n        \"std\": 1,\n        \"min\": 0,\n        \"max\": 5,\n        \"num_unique_values\": 6,\n        \"samples\": [\n          0,\n          1\n        ],\n        \"semantic_type\": \"\",\n        \"description\": \"\"\n      }\n    },\n    {\n      \"column\": \"smoker\",\n      \"properties\": {\n        \"dtype\": \"category\",\n        \"num_unique_values\": 2,\n        \"samples\": [\n          \"no\",\n          \"yes\"\n        ],\n        \"semantic_type\": \"\",\n        \"description\": \"\"\n      }\n    },\n    {\n      \"column\": \"region\",\n      \"properties\": {\n        \"dtype\": \"category\",\n        \"num_unique_values\": 4,\n        \"samples\": [\n          \"southeast\",\n          \"northeast\"\n        ],\n        \"semantic_type\": \"\",\n        \"description\": \"\"\n      }\n    },\n    {\n      \"column\": \"charges\",\n      \"properties\": {\n        \"dtype\": \"number\",\n        \"std\": 12110.011236694001,\n        \"min\": 1121.8739,\n        \"max\": 63770.42801,\n        \"num_unique_values\": 1337,\n        \"samples\": [\n          8688.85885,\n          5708.867\n        ],\n        \"semantic_type\": \"\",\n        \"description\": \"\"\n      }\n    }\n  ]\n}"
            }
          },
          "metadata": {},
          "execution_count": 34
        }
      ]
    },
    {
      "cell_type": "code",
      "source": [
        "df['sex'].value_counts()"
      ],
      "metadata": {
        "trusted": true,
        "id": "G1-0DPjgr0KT",
        "outputId": "058e6c45-4317-4236-cba4-1708439b4604",
        "colab": {
          "base_uri": "https://localhost:8080/"
        }
      },
      "execution_count": 35,
      "outputs": [
        {
          "output_type": "execute_result",
          "data": {
            "text/plain": [
              "sex\n",
              "male      676\n",
              "female    662\n",
              "Name: count, dtype: int64"
            ]
          },
          "metadata": {},
          "execution_count": 35
        }
      ]
    },
    {
      "cell_type": "code",
      "source": [
        "df = pd.get_dummies(df,columns=['sex','region','smoker'] ,dtype='int')\n",
        "df.head()"
      ],
      "metadata": {
        "trusted": true,
        "id": "mgl64uMcr0KU",
        "outputId": "7cc7e402-8dcf-4da9-d485-39010bf5c463",
        "colab": {
          "base_uri": "https://localhost:8080/",
          "height": 206
        }
      },
      "execution_count": 36,
      "outputs": [
        {
          "output_type": "execute_result",
          "data": {
            "text/plain": [
              "   age     bmi  children      charges  sex_female  sex_male  region_northeast  \\\n",
              "0   19  27.900         0  16884.92400           1         0                 0   \n",
              "1   18  33.770         1   1725.55230           0         1                 0   \n",
              "2   28  33.000         3   4449.46200           0         1                 0   \n",
              "3   33  22.705         0  21984.47061           0         1                 0   \n",
              "4   32  28.880         0   3866.85520           0         1                 0   \n",
              "\n",
              "   region_northwest  region_southeast  region_southwest  smoker_no  smoker_yes  \n",
              "0                 0                 0                 1          0           1  \n",
              "1                 0                 1                 0          1           0  \n",
              "2                 0                 1                 0          1           0  \n",
              "3                 1                 0                 0          1           0  \n",
              "4                 1                 0                 0          1           0  "
            ],
            "text/html": [
              "\n",
              "  <div id=\"df-ba97e40b-3be2-4f01-8e72-243103d48c5e\" class=\"colab-df-container\">\n",
              "    <div>\n",
              "<style scoped>\n",
              "    .dataframe tbody tr th:only-of-type {\n",
              "        vertical-align: middle;\n",
              "    }\n",
              "\n",
              "    .dataframe tbody tr th {\n",
              "        vertical-align: top;\n",
              "    }\n",
              "\n",
              "    .dataframe thead th {\n",
              "        text-align: right;\n",
              "    }\n",
              "</style>\n",
              "<table border=\"1\" class=\"dataframe\">\n",
              "  <thead>\n",
              "    <tr style=\"text-align: right;\">\n",
              "      <th></th>\n",
              "      <th>age</th>\n",
              "      <th>bmi</th>\n",
              "      <th>children</th>\n",
              "      <th>charges</th>\n",
              "      <th>sex_female</th>\n",
              "      <th>sex_male</th>\n",
              "      <th>region_northeast</th>\n",
              "      <th>region_northwest</th>\n",
              "      <th>region_southeast</th>\n",
              "      <th>region_southwest</th>\n",
              "      <th>smoker_no</th>\n",
              "      <th>smoker_yes</th>\n",
              "    </tr>\n",
              "  </thead>\n",
              "  <tbody>\n",
              "    <tr>\n",
              "      <th>0</th>\n",
              "      <td>19</td>\n",
              "      <td>27.900</td>\n",
              "      <td>0</td>\n",
              "      <td>16884.92400</td>\n",
              "      <td>1</td>\n",
              "      <td>0</td>\n",
              "      <td>0</td>\n",
              "      <td>0</td>\n",
              "      <td>0</td>\n",
              "      <td>1</td>\n",
              "      <td>0</td>\n",
              "      <td>1</td>\n",
              "    </tr>\n",
              "    <tr>\n",
              "      <th>1</th>\n",
              "      <td>18</td>\n",
              "      <td>33.770</td>\n",
              "      <td>1</td>\n",
              "      <td>1725.55230</td>\n",
              "      <td>0</td>\n",
              "      <td>1</td>\n",
              "      <td>0</td>\n",
              "      <td>0</td>\n",
              "      <td>1</td>\n",
              "      <td>0</td>\n",
              "      <td>1</td>\n",
              "      <td>0</td>\n",
              "    </tr>\n",
              "    <tr>\n",
              "      <th>2</th>\n",
              "      <td>28</td>\n",
              "      <td>33.000</td>\n",
              "      <td>3</td>\n",
              "      <td>4449.46200</td>\n",
              "      <td>0</td>\n",
              "      <td>1</td>\n",
              "      <td>0</td>\n",
              "      <td>0</td>\n",
              "      <td>1</td>\n",
              "      <td>0</td>\n",
              "      <td>1</td>\n",
              "      <td>0</td>\n",
              "    </tr>\n",
              "    <tr>\n",
              "      <th>3</th>\n",
              "      <td>33</td>\n",
              "      <td>22.705</td>\n",
              "      <td>0</td>\n",
              "      <td>21984.47061</td>\n",
              "      <td>0</td>\n",
              "      <td>1</td>\n",
              "      <td>0</td>\n",
              "      <td>1</td>\n",
              "      <td>0</td>\n",
              "      <td>0</td>\n",
              "      <td>1</td>\n",
              "      <td>0</td>\n",
              "    </tr>\n",
              "    <tr>\n",
              "      <th>4</th>\n",
              "      <td>32</td>\n",
              "      <td>28.880</td>\n",
              "      <td>0</td>\n",
              "      <td>3866.85520</td>\n",
              "      <td>0</td>\n",
              "      <td>1</td>\n",
              "      <td>0</td>\n",
              "      <td>1</td>\n",
              "      <td>0</td>\n",
              "      <td>0</td>\n",
              "      <td>1</td>\n",
              "      <td>0</td>\n",
              "    </tr>\n",
              "  </tbody>\n",
              "</table>\n",
              "</div>\n",
              "    <div class=\"colab-df-buttons\">\n",
              "\n",
              "  <div class=\"colab-df-container\">\n",
              "    <button class=\"colab-df-convert\" onclick=\"convertToInteractive('df-ba97e40b-3be2-4f01-8e72-243103d48c5e')\"\n",
              "            title=\"Convert this dataframe to an interactive table.\"\n",
              "            style=\"display:none;\">\n",
              "\n",
              "  <svg xmlns=\"http://www.w3.org/2000/svg\" height=\"24px\" viewBox=\"0 -960 960 960\">\n",
              "    <path d=\"M120-120v-720h720v720H120Zm60-500h600v-160H180v160Zm220 220h160v-160H400v160Zm0 220h160v-160H400v160ZM180-400h160v-160H180v160Zm440 0h160v-160H620v160ZM180-180h160v-160H180v160Zm440 0h160v-160H620v160Z\"/>\n",
              "  </svg>\n",
              "    </button>\n",
              "\n",
              "  <style>\n",
              "    .colab-df-container {\n",
              "      display:flex;\n",
              "      gap: 12px;\n",
              "    }\n",
              "\n",
              "    .colab-df-convert {\n",
              "      background-color: #E8F0FE;\n",
              "      border: none;\n",
              "      border-radius: 50%;\n",
              "      cursor: pointer;\n",
              "      display: none;\n",
              "      fill: #1967D2;\n",
              "      height: 32px;\n",
              "      padding: 0 0 0 0;\n",
              "      width: 32px;\n",
              "    }\n",
              "\n",
              "    .colab-df-convert:hover {\n",
              "      background-color: #E2EBFA;\n",
              "      box-shadow: 0px 1px 2px rgba(60, 64, 67, 0.3), 0px 1px 3px 1px rgba(60, 64, 67, 0.15);\n",
              "      fill: #174EA6;\n",
              "    }\n",
              "\n",
              "    .colab-df-buttons div {\n",
              "      margin-bottom: 4px;\n",
              "    }\n",
              "\n",
              "    [theme=dark] .colab-df-convert {\n",
              "      background-color: #3B4455;\n",
              "      fill: #D2E3FC;\n",
              "    }\n",
              "\n",
              "    [theme=dark] .colab-df-convert:hover {\n",
              "      background-color: #434B5C;\n",
              "      box-shadow: 0px 1px 3px 1px rgba(0, 0, 0, 0.15);\n",
              "      filter: drop-shadow(0px 1px 2px rgba(0, 0, 0, 0.3));\n",
              "      fill: #FFFFFF;\n",
              "    }\n",
              "  </style>\n",
              "\n",
              "    <script>\n",
              "      const buttonEl =\n",
              "        document.querySelector('#df-ba97e40b-3be2-4f01-8e72-243103d48c5e button.colab-df-convert');\n",
              "      buttonEl.style.display =\n",
              "        google.colab.kernel.accessAllowed ? 'block' : 'none';\n",
              "\n",
              "      async function convertToInteractive(key) {\n",
              "        const element = document.querySelector('#df-ba97e40b-3be2-4f01-8e72-243103d48c5e');\n",
              "        const dataTable =\n",
              "          await google.colab.kernel.invokeFunction('convertToInteractive',\n",
              "                                                    [key], {});\n",
              "        if (!dataTable) return;\n",
              "\n",
              "        const docLinkHtml = 'Like what you see? Visit the ' +\n",
              "          '<a target=\"_blank\" href=https://colab.research.google.com/notebooks/data_table.ipynb>data table notebook</a>'\n",
              "          + ' to learn more about interactive tables.';\n",
              "        element.innerHTML = '';\n",
              "        dataTable['output_type'] = 'display_data';\n",
              "        await google.colab.output.renderOutput(dataTable, element);\n",
              "        const docLink = document.createElement('div');\n",
              "        docLink.innerHTML = docLinkHtml;\n",
              "        element.appendChild(docLink);\n",
              "      }\n",
              "    </script>\n",
              "  </div>\n",
              "\n",
              "\n",
              "<div id=\"df-b24e3ee0-1736-479b-a21c-22886c8ef5b4\">\n",
              "  <button class=\"colab-df-quickchart\" onclick=\"quickchart('df-b24e3ee0-1736-479b-a21c-22886c8ef5b4')\"\n",
              "            title=\"Suggest charts\"\n",
              "            style=\"display:none;\">\n",
              "\n",
              "<svg xmlns=\"http://www.w3.org/2000/svg\" height=\"24px\"viewBox=\"0 0 24 24\"\n",
              "     width=\"24px\">\n",
              "    <g>\n",
              "        <path d=\"M19 3H5c-1.1 0-2 .9-2 2v14c0 1.1.9 2 2 2h14c1.1 0 2-.9 2-2V5c0-1.1-.9-2-2-2zM9 17H7v-7h2v7zm4 0h-2V7h2v10zm4 0h-2v-4h2v4z\"/>\n",
              "    </g>\n",
              "</svg>\n",
              "  </button>\n",
              "\n",
              "<style>\n",
              "  .colab-df-quickchart {\n",
              "      --bg-color: #E8F0FE;\n",
              "      --fill-color: #1967D2;\n",
              "      --hover-bg-color: #E2EBFA;\n",
              "      --hover-fill-color: #174EA6;\n",
              "      --disabled-fill-color: #AAA;\n",
              "      --disabled-bg-color: #DDD;\n",
              "  }\n",
              "\n",
              "  [theme=dark] .colab-df-quickchart {\n",
              "      --bg-color: #3B4455;\n",
              "      --fill-color: #D2E3FC;\n",
              "      --hover-bg-color: #434B5C;\n",
              "      --hover-fill-color: #FFFFFF;\n",
              "      --disabled-bg-color: #3B4455;\n",
              "      --disabled-fill-color: #666;\n",
              "  }\n",
              "\n",
              "  .colab-df-quickchart {\n",
              "    background-color: var(--bg-color);\n",
              "    border: none;\n",
              "    border-radius: 50%;\n",
              "    cursor: pointer;\n",
              "    display: none;\n",
              "    fill: var(--fill-color);\n",
              "    height: 32px;\n",
              "    padding: 0;\n",
              "    width: 32px;\n",
              "  }\n",
              "\n",
              "  .colab-df-quickchart:hover {\n",
              "    background-color: var(--hover-bg-color);\n",
              "    box-shadow: 0 1px 2px rgba(60, 64, 67, 0.3), 0 1px 3px 1px rgba(60, 64, 67, 0.15);\n",
              "    fill: var(--button-hover-fill-color);\n",
              "  }\n",
              "\n",
              "  .colab-df-quickchart-complete:disabled,\n",
              "  .colab-df-quickchart-complete:disabled:hover {\n",
              "    background-color: var(--disabled-bg-color);\n",
              "    fill: var(--disabled-fill-color);\n",
              "    box-shadow: none;\n",
              "  }\n",
              "\n",
              "  .colab-df-spinner {\n",
              "    border: 2px solid var(--fill-color);\n",
              "    border-color: transparent;\n",
              "    border-bottom-color: var(--fill-color);\n",
              "    animation:\n",
              "      spin 1s steps(1) infinite;\n",
              "  }\n",
              "\n",
              "  @keyframes spin {\n",
              "    0% {\n",
              "      border-color: transparent;\n",
              "      border-bottom-color: var(--fill-color);\n",
              "      border-left-color: var(--fill-color);\n",
              "    }\n",
              "    20% {\n",
              "      border-color: transparent;\n",
              "      border-left-color: var(--fill-color);\n",
              "      border-top-color: var(--fill-color);\n",
              "    }\n",
              "    30% {\n",
              "      border-color: transparent;\n",
              "      border-left-color: var(--fill-color);\n",
              "      border-top-color: var(--fill-color);\n",
              "      border-right-color: var(--fill-color);\n",
              "    }\n",
              "    40% {\n",
              "      border-color: transparent;\n",
              "      border-right-color: var(--fill-color);\n",
              "      border-top-color: var(--fill-color);\n",
              "    }\n",
              "    60% {\n",
              "      border-color: transparent;\n",
              "      border-right-color: var(--fill-color);\n",
              "    }\n",
              "    80% {\n",
              "      border-color: transparent;\n",
              "      border-right-color: var(--fill-color);\n",
              "      border-bottom-color: var(--fill-color);\n",
              "    }\n",
              "    90% {\n",
              "      border-color: transparent;\n",
              "      border-bottom-color: var(--fill-color);\n",
              "    }\n",
              "  }\n",
              "</style>\n",
              "\n",
              "  <script>\n",
              "    async function quickchart(key) {\n",
              "      const quickchartButtonEl =\n",
              "        document.querySelector('#' + key + ' button');\n",
              "      quickchartButtonEl.disabled = true;  // To prevent multiple clicks.\n",
              "      quickchartButtonEl.classList.add('colab-df-spinner');\n",
              "      try {\n",
              "        const charts = await google.colab.kernel.invokeFunction(\n",
              "            'suggestCharts', [key], {});\n",
              "      } catch (error) {\n",
              "        console.error('Error during call to suggestCharts:', error);\n",
              "      }\n",
              "      quickchartButtonEl.classList.remove('colab-df-spinner');\n",
              "      quickchartButtonEl.classList.add('colab-df-quickchart-complete');\n",
              "    }\n",
              "    (() => {\n",
              "      let quickchartButtonEl =\n",
              "        document.querySelector('#df-b24e3ee0-1736-479b-a21c-22886c8ef5b4 button');\n",
              "      quickchartButtonEl.style.display =\n",
              "        google.colab.kernel.accessAllowed ? 'block' : 'none';\n",
              "    })();\n",
              "  </script>\n",
              "</div>\n",
              "\n",
              "    </div>\n",
              "  </div>\n"
            ],
            "application/vnd.google.colaboratory.intrinsic+json": {
              "type": "dataframe",
              "variable_name": "df",
              "summary": "{\n  \"name\": \"df\",\n  \"rows\": 1338,\n  \"fields\": [\n    {\n      \"column\": \"age\",\n      \"properties\": {\n        \"dtype\": \"number\",\n        \"std\": 14,\n        \"min\": 18,\n        \"max\": 64,\n        \"num_unique_values\": 47,\n        \"samples\": [\n          21,\n          45,\n          36\n        ],\n        \"semantic_type\": \"\",\n        \"description\": \"\"\n      }\n    },\n    {\n      \"column\": \"bmi\",\n      \"properties\": {\n        \"dtype\": \"number\",\n        \"std\": 6.098186911679014,\n        \"min\": 15.96,\n        \"max\": 53.13,\n        \"num_unique_values\": 548,\n        \"samples\": [\n          23.18,\n          26.885,\n          29.26\n        ],\n        \"semantic_type\": \"\",\n        \"description\": \"\"\n      }\n    },\n    {\n      \"column\": \"children\",\n      \"properties\": {\n        \"dtype\": \"number\",\n        \"std\": 1,\n        \"min\": 0,\n        \"max\": 5,\n        \"num_unique_values\": 6,\n        \"samples\": [\n          0,\n          1,\n          4\n        ],\n        \"semantic_type\": \"\",\n        \"description\": \"\"\n      }\n    },\n    {\n      \"column\": \"charges\",\n      \"properties\": {\n        \"dtype\": \"number\",\n        \"std\": 12110.011236694001,\n        \"min\": 1121.8739,\n        \"max\": 63770.42801,\n        \"num_unique_values\": 1337,\n        \"samples\": [\n          8688.85885,\n          5708.867,\n          11436.73815\n        ],\n        \"semantic_type\": \"\",\n        \"description\": \"\"\n      }\n    },\n    {\n      \"column\": \"sex_female\",\n      \"properties\": {\n        \"dtype\": \"number\",\n        \"std\": 0,\n        \"min\": 0,\n        \"max\": 1,\n        \"num_unique_values\": 2,\n        \"samples\": [\n          0,\n          1\n        ],\n        \"semantic_type\": \"\",\n        \"description\": \"\"\n      }\n    },\n    {\n      \"column\": \"sex_male\",\n      \"properties\": {\n        \"dtype\": \"number\",\n        \"std\": 0,\n        \"min\": 0,\n        \"max\": 1,\n        \"num_unique_values\": 2,\n        \"samples\": [\n          1,\n          0\n        ],\n        \"semantic_type\": \"\",\n        \"description\": \"\"\n      }\n    },\n    {\n      \"column\": \"region_northeast\",\n      \"properties\": {\n        \"dtype\": \"number\",\n        \"std\": 0,\n        \"min\": 0,\n        \"max\": 1,\n        \"num_unique_values\": 2,\n        \"samples\": [\n          1,\n          0\n        ],\n        \"semantic_type\": \"\",\n        \"description\": \"\"\n      }\n    },\n    {\n      \"column\": \"region_northwest\",\n      \"properties\": {\n        \"dtype\": \"number\",\n        \"std\": 0,\n        \"min\": 0,\n        \"max\": 1,\n        \"num_unique_values\": 2,\n        \"samples\": [\n          1,\n          0\n        ],\n        \"semantic_type\": \"\",\n        \"description\": \"\"\n      }\n    },\n    {\n      \"column\": \"region_southeast\",\n      \"properties\": {\n        \"dtype\": \"number\",\n        \"std\": 0,\n        \"min\": 0,\n        \"max\": 1,\n        \"num_unique_values\": 2,\n        \"samples\": [\n          1,\n          0\n        ],\n        \"semantic_type\": \"\",\n        \"description\": \"\"\n      }\n    },\n    {\n      \"column\": \"region_southwest\",\n      \"properties\": {\n        \"dtype\": \"number\",\n        \"std\": 0,\n        \"min\": 0,\n        \"max\": 1,\n        \"num_unique_values\": 2,\n        \"samples\": [\n          0,\n          1\n        ],\n        \"semantic_type\": \"\",\n        \"description\": \"\"\n      }\n    },\n    {\n      \"column\": \"smoker_no\",\n      \"properties\": {\n        \"dtype\": \"number\",\n        \"std\": 0,\n        \"min\": 0,\n        \"max\": 1,\n        \"num_unique_values\": 2,\n        \"samples\": [\n          1,\n          0\n        ],\n        \"semantic_type\": \"\",\n        \"description\": \"\"\n      }\n    },\n    {\n      \"column\": \"smoker_yes\",\n      \"properties\": {\n        \"dtype\": \"number\",\n        \"std\": 0,\n        \"min\": 0,\n        \"max\": 1,\n        \"num_unique_values\": 2,\n        \"samples\": [\n          0,\n          1\n        ],\n        \"semantic_type\": \"\",\n        \"description\": \"\"\n      }\n    }\n  ]\n}"
            }
          },
          "metadata": {},
          "execution_count": 36
        }
      ]
    },
    {
      "cell_type": "code",
      "source": [
        "from sklearn.preprocessing import StandardScaler\n",
        "scaler = StandardScaler()\n",
        "\n",
        "df.iloc[:,0:12] = scaler.fit_transform(df.iloc[:,0:12])"
      ],
      "metadata": {
        "trusted": true,
        "id": "aZB5m6B1r0KU"
      },
      "execution_count": 37,
      "outputs": []
    },
    {
      "cell_type": "code",
      "source": [
        "from sklearn.decomposition import PCA\n",
        "pca = PCA(n_components=2)  # Reduce to 3 dimensions for visualization\n",
        "X_pca = pca.fit_transform(df.iloc[:,0:12])"
      ],
      "metadata": {
        "trusted": true,
        "id": "4HeAarper0KU"
      },
      "execution_count": 38,
      "outputs": []
    },
    {
      "cell_type": "code",
      "source": [
        "x1_range = np.linspace(X_pca[:, 0].min(), X_pca[:, 0].max(), 10)\n",
        "x2_range = np.linspace(X_pca[:, 1].min(), X_pca[:, 1].max(), 10)\n",
        "x1_mesh, x2_mesh = np.meshgrid(x1_range, x2_range)\n",
        "X_mesh = np.column_stack((x1_mesh.ravel(), x2_mesh.ravel()))"
      ],
      "metadata": {
        "id": "1x40POeFtj3c"
      },
      "execution_count": 39,
      "outputs": []
    },
    {
      "cell_type": "code",
      "source": [
        "first_column = df.pop('charges')\n",
        "df.insert(0, 'charges', first_column)"
      ],
      "metadata": {
        "trusted": true,
        "id": "s7ZfFibfr0KU"
      },
      "execution_count": 41,
      "outputs": []
    },
    {
      "cell_type": "code",
      "source": [
        "x = df.iloc[:,1:12]\n",
        "y = df.iloc[:,0]"
      ],
      "metadata": {
        "trusted": true,
        "id": "YEpjQLd2r0KV"
      },
      "execution_count": 42,
      "outputs": []
    },
    {
      "cell_type": "code",
      "source": [
        "model = LinearRegression()\n",
        "model.fit(X_pca, y)"
      ],
      "metadata": {
        "id": "TmyU1zPCyMK1",
        "outputId": "7a7f60db-57c2-4471-98c5-f2156ea7ed9b",
        "colab": {
          "base_uri": "https://localhost:8080/",
          "height": 74
        }
      },
      "execution_count": 43,
      "outputs": [
        {
          "output_type": "execute_result",
          "data": {
            "text/plain": [
              "LinearRegression()"
            ],
            "text/html": [
              "<style>#sk-container-id-4 {color: black;background-color: white;}#sk-container-id-4 pre{padding: 0;}#sk-container-id-4 div.sk-toggleable {background-color: white;}#sk-container-id-4 label.sk-toggleable__label {cursor: pointer;display: block;width: 100%;margin-bottom: 0;padding: 0.3em;box-sizing: border-box;text-align: center;}#sk-container-id-4 label.sk-toggleable__label-arrow:before {content: \"▸\";float: left;margin-right: 0.25em;color: #696969;}#sk-container-id-4 label.sk-toggleable__label-arrow:hover:before {color: black;}#sk-container-id-4 div.sk-estimator:hover label.sk-toggleable__label-arrow:before {color: black;}#sk-container-id-4 div.sk-toggleable__content {max-height: 0;max-width: 0;overflow: hidden;text-align: left;background-color: #f0f8ff;}#sk-container-id-4 div.sk-toggleable__content pre {margin: 0.2em;color: black;border-radius: 0.25em;background-color: #f0f8ff;}#sk-container-id-4 input.sk-toggleable__control:checked~div.sk-toggleable__content {max-height: 200px;max-width: 100%;overflow: auto;}#sk-container-id-4 input.sk-toggleable__control:checked~label.sk-toggleable__label-arrow:before {content: \"▾\";}#sk-container-id-4 div.sk-estimator input.sk-toggleable__control:checked~label.sk-toggleable__label {background-color: #d4ebff;}#sk-container-id-4 div.sk-label input.sk-toggleable__control:checked~label.sk-toggleable__label {background-color: #d4ebff;}#sk-container-id-4 input.sk-hidden--visually {border: 0;clip: rect(1px 1px 1px 1px);clip: rect(1px, 1px, 1px, 1px);height: 1px;margin: -1px;overflow: hidden;padding: 0;position: absolute;width: 1px;}#sk-container-id-4 div.sk-estimator {font-family: monospace;background-color: #f0f8ff;border: 1px dotted black;border-radius: 0.25em;box-sizing: border-box;margin-bottom: 0.5em;}#sk-container-id-4 div.sk-estimator:hover {background-color: #d4ebff;}#sk-container-id-4 div.sk-parallel-item::after {content: \"\";width: 100%;border-bottom: 1px solid gray;flex-grow: 1;}#sk-container-id-4 div.sk-label:hover label.sk-toggleable__label {background-color: #d4ebff;}#sk-container-id-4 div.sk-serial::before {content: \"\";position: absolute;border-left: 1px solid gray;box-sizing: border-box;top: 0;bottom: 0;left: 50%;z-index: 0;}#sk-container-id-4 div.sk-serial {display: flex;flex-direction: column;align-items: center;background-color: white;padding-right: 0.2em;padding-left: 0.2em;position: relative;}#sk-container-id-4 div.sk-item {position: relative;z-index: 1;}#sk-container-id-4 div.sk-parallel {display: flex;align-items: stretch;justify-content: center;background-color: white;position: relative;}#sk-container-id-4 div.sk-item::before, #sk-container-id-4 div.sk-parallel-item::before {content: \"\";position: absolute;border-left: 1px solid gray;box-sizing: border-box;top: 0;bottom: 0;left: 50%;z-index: -1;}#sk-container-id-4 div.sk-parallel-item {display: flex;flex-direction: column;z-index: 1;position: relative;background-color: white;}#sk-container-id-4 div.sk-parallel-item:first-child::after {align-self: flex-end;width: 50%;}#sk-container-id-4 div.sk-parallel-item:last-child::after {align-self: flex-start;width: 50%;}#sk-container-id-4 div.sk-parallel-item:only-child::after {width: 0;}#sk-container-id-4 div.sk-dashed-wrapped {border: 1px dashed gray;margin: 0 0.4em 0.5em 0.4em;box-sizing: border-box;padding-bottom: 0.4em;background-color: white;}#sk-container-id-4 div.sk-label label {font-family: monospace;font-weight: bold;display: inline-block;line-height: 1.2em;}#sk-container-id-4 div.sk-label-container {text-align: center;}#sk-container-id-4 div.sk-container {/* jupyter's `normalize.less` sets `[hidden] { display: none; }` but bootstrap.min.css set `[hidden] { display: none !important; }` so we also need the `!important` here to be able to override the default hidden behavior on the sphinx rendered scikit-learn.org. See: https://github.com/scikit-learn/scikit-learn/issues/21755 */display: inline-block !important;position: relative;}#sk-container-id-4 div.sk-text-repr-fallback {display: none;}</style><div id=\"sk-container-id-4\" class=\"sk-top-container\"><div class=\"sk-text-repr-fallback\"><pre>LinearRegression()</pre><b>In a Jupyter environment, please rerun this cell to show the HTML representation or trust the notebook. <br />On GitHub, the HTML representation is unable to render, please try loading this page with nbviewer.org.</b></div><div class=\"sk-container\" hidden><div class=\"sk-item\"><div class=\"sk-estimator sk-toggleable\"><input class=\"sk-toggleable__control sk-hidden--visually\" id=\"sk-estimator-id-4\" type=\"checkbox\" checked><label for=\"sk-estimator-id-4\" class=\"sk-toggleable__label sk-toggleable__label-arrow\">LinearRegression</label><div class=\"sk-toggleable__content\"><pre>LinearRegression()</pre></div></div></div></div></div>"
            ]
          },
          "metadata": {},
          "execution_count": 43
        }
      ]
    },
    {
      "cell_type": "code",
      "source": [
        "y_pred_mesh = model.predict(X_mesh).reshape(x1_mesh.shape)"
      ],
      "metadata": {
        "id": "vF4AQyzLyQdo"
      },
      "execution_count": 44,
      "outputs": []
    },
    {
      "cell_type": "code",
      "source": [
        "from sklearn.model_selection import train_test_split\n",
        "X_train,X_test,y_train,y_test = train_test_split(x , y ,test_size=0.2,random_state=2)"
      ],
      "metadata": {
        "trusted": true,
        "id": "iQKQeJcQr0KV"
      },
      "execution_count": 45,
      "outputs": []
    },
    {
      "cell_type": "code",
      "source": [
        "from sklearn.linear_model import LinearRegression"
      ],
      "metadata": {
        "trusted": true,
        "id": "pIuSBGDpr0KV"
      },
      "execution_count": 46,
      "outputs": []
    },
    {
      "cell_type": "code",
      "source": [
        "lr = LinearRegression()"
      ],
      "metadata": {
        "trusted": true,
        "id": "0ld1XLfZr0KV"
      },
      "execution_count": 47,
      "outputs": []
    },
    {
      "cell_type": "code",
      "source": [
        "lr.fit(X_train,y_train)"
      ],
      "metadata": {
        "trusted": true,
        "id": "jKoDls5cr0KV",
        "outputId": "7b8d71e1-8a3e-4848-c8d8-429b43103137",
        "colab": {
          "base_uri": "https://localhost:8080/",
          "height": 74
        }
      },
      "execution_count": 48,
      "outputs": [
        {
          "output_type": "execute_result",
          "data": {
            "text/plain": [
              "LinearRegression()"
            ],
            "text/html": [
              "<style>#sk-container-id-5 {color: black;background-color: white;}#sk-container-id-5 pre{padding: 0;}#sk-container-id-5 div.sk-toggleable {background-color: white;}#sk-container-id-5 label.sk-toggleable__label {cursor: pointer;display: block;width: 100%;margin-bottom: 0;padding: 0.3em;box-sizing: border-box;text-align: center;}#sk-container-id-5 label.sk-toggleable__label-arrow:before {content: \"▸\";float: left;margin-right: 0.25em;color: #696969;}#sk-container-id-5 label.sk-toggleable__label-arrow:hover:before {color: black;}#sk-container-id-5 div.sk-estimator:hover label.sk-toggleable__label-arrow:before {color: black;}#sk-container-id-5 div.sk-toggleable__content {max-height: 0;max-width: 0;overflow: hidden;text-align: left;background-color: #f0f8ff;}#sk-container-id-5 div.sk-toggleable__content pre {margin: 0.2em;color: black;border-radius: 0.25em;background-color: #f0f8ff;}#sk-container-id-5 input.sk-toggleable__control:checked~div.sk-toggleable__content {max-height: 200px;max-width: 100%;overflow: auto;}#sk-container-id-5 input.sk-toggleable__control:checked~label.sk-toggleable__label-arrow:before {content: \"▾\";}#sk-container-id-5 div.sk-estimator input.sk-toggleable__control:checked~label.sk-toggleable__label {background-color: #d4ebff;}#sk-container-id-5 div.sk-label input.sk-toggleable__control:checked~label.sk-toggleable__label {background-color: #d4ebff;}#sk-container-id-5 input.sk-hidden--visually {border: 0;clip: rect(1px 1px 1px 1px);clip: rect(1px, 1px, 1px, 1px);height: 1px;margin: -1px;overflow: hidden;padding: 0;position: absolute;width: 1px;}#sk-container-id-5 div.sk-estimator {font-family: monospace;background-color: #f0f8ff;border: 1px dotted black;border-radius: 0.25em;box-sizing: border-box;margin-bottom: 0.5em;}#sk-container-id-5 div.sk-estimator:hover {background-color: #d4ebff;}#sk-container-id-5 div.sk-parallel-item::after {content: \"\";width: 100%;border-bottom: 1px solid gray;flex-grow: 1;}#sk-container-id-5 div.sk-label:hover label.sk-toggleable__label {background-color: #d4ebff;}#sk-container-id-5 div.sk-serial::before {content: \"\";position: absolute;border-left: 1px solid gray;box-sizing: border-box;top: 0;bottom: 0;left: 50%;z-index: 0;}#sk-container-id-5 div.sk-serial {display: flex;flex-direction: column;align-items: center;background-color: white;padding-right: 0.2em;padding-left: 0.2em;position: relative;}#sk-container-id-5 div.sk-item {position: relative;z-index: 1;}#sk-container-id-5 div.sk-parallel {display: flex;align-items: stretch;justify-content: center;background-color: white;position: relative;}#sk-container-id-5 div.sk-item::before, #sk-container-id-5 div.sk-parallel-item::before {content: \"\";position: absolute;border-left: 1px solid gray;box-sizing: border-box;top: 0;bottom: 0;left: 50%;z-index: -1;}#sk-container-id-5 div.sk-parallel-item {display: flex;flex-direction: column;z-index: 1;position: relative;background-color: white;}#sk-container-id-5 div.sk-parallel-item:first-child::after {align-self: flex-end;width: 50%;}#sk-container-id-5 div.sk-parallel-item:last-child::after {align-self: flex-start;width: 50%;}#sk-container-id-5 div.sk-parallel-item:only-child::after {width: 0;}#sk-container-id-5 div.sk-dashed-wrapped {border: 1px dashed gray;margin: 0 0.4em 0.5em 0.4em;box-sizing: border-box;padding-bottom: 0.4em;background-color: white;}#sk-container-id-5 div.sk-label label {font-family: monospace;font-weight: bold;display: inline-block;line-height: 1.2em;}#sk-container-id-5 div.sk-label-container {text-align: center;}#sk-container-id-5 div.sk-container {/* jupyter's `normalize.less` sets `[hidden] { display: none; }` but bootstrap.min.css set `[hidden] { display: none !important; }` so we also need the `!important` here to be able to override the default hidden behavior on the sphinx rendered scikit-learn.org. See: https://github.com/scikit-learn/scikit-learn/issues/21755 */display: inline-block !important;position: relative;}#sk-container-id-5 div.sk-text-repr-fallback {display: none;}</style><div id=\"sk-container-id-5\" class=\"sk-top-container\"><div class=\"sk-text-repr-fallback\"><pre>LinearRegression()</pre><b>In a Jupyter environment, please rerun this cell to show the HTML representation or trust the notebook. <br />On GitHub, the HTML representation is unable to render, please try loading this page with nbviewer.org.</b></div><div class=\"sk-container\" hidden><div class=\"sk-item\"><div class=\"sk-estimator sk-toggleable\"><input class=\"sk-toggleable__control sk-hidden--visually\" id=\"sk-estimator-id-5\" type=\"checkbox\" checked><label for=\"sk-estimator-id-5\" class=\"sk-toggleable__label sk-toggleable__label-arrow\">LinearRegression</label><div class=\"sk-toggleable__content\"><pre>LinearRegression()</pre></div></div></div></div></div>"
            ]
          },
          "metadata": {},
          "execution_count": 48
        }
      ]
    },
    {
      "cell_type": "code",
      "source": [
        "y_pred = lr.predict(X_test)"
      ],
      "metadata": {
        "trusted": true,
        "id": "tLFpRv8ir0KW"
      },
      "execution_count": 49,
      "outputs": []
    },
    {
      "cell_type": "code",
      "source": [
        "accuracy_score = lr.score(X_test,y_pred)\n",
        "accuracy_score*100"
      ],
      "metadata": {
        "trusted": true,
        "id": "Qc8R738pr0KW",
        "outputId": "33d2a57a-bf63-4058-ee64-60f6cf2ea0d7",
        "colab": {
          "base_uri": "https://localhost:8080/"
        }
      },
      "execution_count": 50,
      "outputs": [
        {
          "output_type": "execute_result",
          "data": {
            "text/plain": [
              "100.0"
            ]
          },
          "metadata": {},
          "execution_count": 50
        }
      ]
    },
    {
      "cell_type": "code",
      "source": [
        "from sklearn.datasets import make_regression"
      ],
      "metadata": {
        "trusted": true,
        "id": "1y_wLPlhr0KW"
      },
      "execution_count": 51,
      "outputs": []
    },
    {
      "cell_type": "code",
      "source": [
        "from sklearn.metrics import mean_absolute_error,mean_squared_error,r2_score"
      ],
      "metadata": {
        "trusted": true,
        "id": "kg-F_h_ur0KW"
      },
      "execution_count": 52,
      "outputs": []
    },
    {
      "cell_type": "code",
      "source": [
        "print(\"MAE\",mean_absolute_error(y_test,y_pred))\n",
        "print(\"MSE\",mean_squared_error(y_test,y_pred))\n",
        "print(\"R2 score\",r2_score(y_test,y_pred))"
      ],
      "metadata": {
        "trusted": true,
        "id": "0yivBCHRr0KW",
        "outputId": "87008f5b-389f-421a-ca63-7bb43a9895f2",
        "colab": {
          "base_uri": "https://localhost:8080/"
        }
      },
      "execution_count": 53,
      "outputs": [
        {
          "output_type": "stream",
          "name": "stdout",
          "text": [
            "MAE 0.353547242663924\n",
            "MSE 0.2613903931612512\n",
            "R2 score 0.7449415564623687\n"
          ]
        }
      ]
    },
    {
      "cell_type": "code",
      "source": [
        "import plotly.graph_objects as go"
      ],
      "metadata": {
        "trusted": true,
        "id": "p0ngy7Iqr0KW"
      },
      "execution_count": 54,
      "outputs": []
    },
    {
      "cell_type": "code",
      "source": [
        "fig = go.Figure(data=[go.Scatter3d(\n",
        "    x=X_pca[:, 0],\n",
        "    y=X_pca[:, 1],\n",
        "    z=y,\n",
        "    mode='markers',\n",
        "    marker=dict(size=5, color='blue'),\n",
        "    name='Original Data (PCA)'\n",
        ")])\n",
        "\n",
        "# Add the plane of the regression model\n",
        "fig.add_trace(go.Surface(\n",
        "    x=x1_mesh,\n",
        "    y=x2_mesh,\n",
        "    z=y_pred_mesh,\n",
        "    opacity=0.8,\n",
        "    colorscale='Viridis',\n",
        "    name='Regression Plane (PCA)'\n",
        "))\n",
        "\n",
        "# Set the layout\n",
        "fig.update_layout(scene=dict(\n",
        "    xaxis_title='Principal Component 1',\n",
        "    yaxis_title='Principal Component 2',\n",
        "    zaxis_title='Y'\n",
        "))\n",
        "\n",
        "# Show the plot\n",
        "fig.show()"
      ],
      "metadata": {
        "trusted": true,
        "id": "GPdBN2AJr0KW",
        "outputId": "aa10eab1-6409-4c38-fa17-5e9d33414112",
        "colab": {
          "base_uri": "https://localhost:8080/",
          "height": 542
        }
      },
      "execution_count": 55,
      "outputs": [
        {
          "output_type": "display_data",
          "data": {
            "text/html": [
              "<html>\n",
              "<head><meta charset=\"utf-8\" /></head>\n",
              "<body>\n",
              "    <div>            <script src=\"https://cdnjs.cloudflare.com/ajax/libs/mathjax/2.7.5/MathJax.js?config=TeX-AMS-MML_SVG\"></script><script type=\"text/javascript\">if (window.MathJax && window.MathJax.Hub && window.MathJax.Hub.Config) {window.MathJax.Hub.Config({SVG: {font: \"STIX-Web\"}});}</script>                <script type=\"text/javascript\">window.PlotlyConfig = {MathJaxConfig: 'local'};</script>\n",
              "        <script charset=\"utf-8\" src=\"https://cdn.plot.ly/plotly-2.24.1.min.js\"></script>                <div id=\"d4d85a0b-26d6-41e0-8c5d-b5cdce8544b1\" class=\"plotly-graph-div\" style=\"height:525px; width:100%;\"></div>            <script type=\"text/javascript\">                                    window.PLOTLYENV=window.PLOTLYENV || {};                                    if (document.getElementById(\"d4d85a0b-26d6-41e0-8c5d-b5cdce8544b1\")) {                    Plotly.newPlot(                        \"d4d85a0b-26d6-41e0-8c5d-b5cdce8544b1\",                        [{\"marker\":{\"color\":\"blue\",\"size\":5},\"mode\":\"markers\",\"name\":\"Original Data (PCA)\",\"x\":[1.7942470391727936,-0.6223801517653851,-0.4147571079542254,-0.19538305014045187,-0.9046190833901432,-1.221139010358843,-0.8023602898670766,-1.287002406642731,-0.5935808912657469,-0.30883090353207826,-0.9214511109904088,2.8123208625029075,-0.9369436793121021,-0.5486051200512901,4.00060464275703,-1.0851402693006624,-0.9398318090390475,-0.982930537016579,-0.28381765390387964,3.4571851802486266,-0.7329074305742713,-1.4161206531785842,-0.6663176533189303,2.967519265860118,-0.7419783446078709,-0.5208720172379407,-0.8613201408468483,-0.9170869490276756,-1.154037001469708,3.606565030151947,3.3640044976094448,-1.5915390557841336,-1.4170661956215964,-0.31173312260017766,4.119386818844914,-1.2024196872233437,-0.706444703006062,-1.1087470131011465,3.7483188395957647,4.187253512529867,-1.5178395268618483,-0.9552831468412234,-0.48349455981656764,-0.9526858922660727,-0.5149026229100296,0.10687719101146177,-1.3031851787427589,-1.460390934010307,-0.6941298869550737,3.9254315250329124,-1.448075695574433,-1.4680360120931004,2.879092211584685,3.847944718838836,-1.2221428593424721,4.126874084987228,-0.7449112198296106,3.6043864632079976,2.533924360824334,-1.2357218604431348,-0.47951052388098003,-0.3951103394767668,0.38405703156420645,-1.5475120660317894,1.598855966523786,-1.6575566610996397,-0.68056757700013,-0.7671309977899432,-0.917453066484002,2.8289589044345065,2.107221455300054,-0.5594428627155872,-0.9788544286733993,0.014174566531787733,-0.626355591488777,-0.36258846351778495,-1.141229082453971,-0.6109623052307781,-1.3386444005617952,-1.2860016798533447,-0.7804200399518343,-1.0111418198335838,3.819963455289525,-0.8329164473354043,3.0538956294044697,2.6781431136511156,3.202579649143582,-1.0753383871976019,-1.2754034817538316,-1.1044309091867102,-1.1395952914592498,-1.1317501650654958,3.394512495448617,-0.6700383631117732,3.4725647894195872,-1.031265097289786,-0.9160607896511992,-0.004461640279642741,2.8150951031078457,2.327717587041972,-1.3031141055283477,-0.8657694864960735,-0.6891644829668749,3.0700171782521775,-1.4323762527463728,2.444730370000229,-1.6162387912577654,-0.8593716482111174,-0.6260225931372381,4.4123885074232065,-0.38476364493652915,-0.9605497878024202,-0.7933403712922447,-1.5338752896255523,-0.23017279795615767,0.5153653282806555,0.22788554862015414,2.301420651466679,-0.8897750661792301,-1.403365020224803,-0.47688248794053895,-1.0414096799216626,-1.6492160763988832,3.7049873631437023,-1.0140690192717217,-1.4586949137626204,1.8090336039521375,-1.0035043896544273,2.4319124623449655,-0.6187539623240793,-0.9022653703156982,-0.9248392096594407,-0.9076822308964968,-1.1233684479241208,-1.5315607716731234,-1.3041815444677016,-0.9877717544070593,-1.095014956639894,0.10392280965911113,-1.513939374501926,0.20112190910031327,-0.7629246875405878,2.9158300151423564,-0.23135761427574686,2.6947315759591475,-0.9007990561378558,3.688178146333297,-0.6377271295204677,-0.9370498904951879,-1.026583795745683,-0.8830191580595618,-0.28083898368271426,-1.0992626135351007,2.073916944687754,-1.249378071448387,-0.5415582740425668,3.029993924366302,2.389019979056814,3.797951591547312,-0.3137031254778258,2.0727353268774236,3.1078024794812076,-0.2888466670521179,-1.378130234465031,-0.8151371813346946,-0.3426429366947555,-1.2765190290306445,-1.2813300391713376,-1.5673825930766412,-0.861036664046287,0.22724300364014022,-0.5841521645263732,-1.161450450709371,-1.3043320636587052,-1.534484914705268,3.5869517105457605,-0.7284625306905187,-0.449106489413115,-1.1555613337236912,-1.015422720790551,-0.4236576932304604,-1.1915605279205346,-0.9078789723929462,-1.3332331033193294,-0.24339387651824393,4.05536430685789,-1.1275569975430233,-1.3411897126468064,-1.2448456775521377,-1.3895600382946327,0.02727194184614119,-1.4700266512221578,-0.7132450340193686,-1.0394831531959992,-0.6612324858786296,-1.0457811204637726,-1.3189923896308373,-0.8467357572626392,-1.326196505696333,-0.5868384390437184,-1.6120135265538629,-0.7824850264919775,-1.0379434506759657,3.1873028549574154,-0.765655025005317,-1.3815476706231715,-0.09862569846859785,2.8059794976082952,-0.8436869440216245,-0.41671371068313956,-0.9445931027097115,-0.5497952225424318,-0.9214440849880946,-1.111977506889844,-1.1435578177141363,-1.1203159768689757,-1.1529585091207255,-0.7278587219858536,-1.1765796665368686,-0.35715676228004206,-1.336836743261932,-0.9299015519960026,-0.7240429716551622,3.3002222294110375,2.9261219675311763,0.07480413416454809,-0.4838525475178147,0.0732299289752915,-1.1368906482002334,-0.48314171800980615,-1.1695763492410514,-0.5191769614245071,-1.8286032022733965,-0.36491660789098007,-0.7629593020806215,2.310090780273746,-1.3695413883310652,-0.33850725831420386,2.4232310606545733,-0.17884780601203631,3.0406064102274706,-1.4136449113468776,-0.0019083345326756057,-0.5267087430314565,2.6741757476512737,0.13856467304079137,-0.4856380219027381,-0.569888966898331,-1.1421557830252485,-0.7766536740557454,2.1955851588317463,3.4816817828175135,4.273871148589178,-0.8021057437664988,3.789086371793929,-0.8616662750625325,3.861464442440327,-0.890207848516804,-0.44236874100427903,3.189837286989906,-1.0617065989745478,2.1474559888897904,3.0383624251466474,3.3759631711498606,-0.10925714134669977,4.462600772541455,2.7612643898769687,-0.6644348293239439,-0.6137122100086588,-0.4871948515744782,-0.6901823843027306,3.858265485765325,-0.5353531372819689,-0.44230664821366905,-1.0215394736496746,-1.055229771455394,-1.1014465255579036,-1.6942316746580472,0.08247737437734011,-0.8869003340952104,2.2635672576182464,4.342212681357872,-0.7830768452081152,-0.8513821369735105,-1.0990438991388682,-0.3177987547878788,-0.7434978818434913,-0.933594178567498,3.6244261810931957,0.5614423109479572,-1.4775804076768302,-0.05065285487489481,4.1986377939326776,-1.292316153773666,-0.8821069893862181,-1.0531209746326582,2.376508752295208,3.0962046498398794,3.5810601763145624,-1.1702929933706243,-0.595839238624587,2.4063860834290365,-0.48615595414570584,-1.053434772460153,-0.7887921477995704,-0.11932595384074128,-0.7723524023808087,-1.0695255902053546,-0.20645638346123527,-1.186492430026779,-0.6211659761510158,-1.722276973976196,4.171197538642193,-0.16621066140589202,2.6820359104885623,-0.36113777471007386,-0.5387168536672979,-0.32637839207673625,-1.314202249413961,-0.6047251323329601,-0.8810063374619584,-0.41496981203877986,3.3500877586025695,-0.1351397708764385,-0.9696898324327191,-0.5265070985987262,-1.266795992690657,3.8415837722520116,3.515958150296623,-0.4246361129551051,3.6566089616361808,2.883089182084595,-0.9048868015309978,-0.9342527214922229,-0.5209004982328632,-0.18827325573330755,-0.08582927749522198,-0.29827802029751654,3.8556680864632416,-0.8905031921656243,-0.8921212044814661,-0.30923898148062484,-0.8631955842341013,-0.0608618405368393,-0.47332713445747826,-0.9749458851931803,-0.34956288177584716,-0.4297718903508011,-1.0314161399870843,-1.088234563791133,-1.119129408661559,-1.22623056996704,-1.5375684342009572,-0.3134502254583506,-0.6404636046142581,0.08520952528646104,0.046370345908890435,-0.4873622328312428,-0.48895345949893415,-1.4610744022564808,-0.9479863697737889,-0.7809383408535738,1.565055285093012,-1.6245484008145692,-1.3127588836209392,-1.0007264314650868,-0.7330199764723309,-1.2932952772343964,-0.5591619713259616,-0.7918678442189125,-1.060061456451694,-1.0131853986467958,-1.0958383996815266,3.4120037834451993,-0.6562664677126923,1.8516867876655174,2.22517443666685,3.8887544278285127,-0.702353008836517,0.6906800111222828,1.7384773399417572,3.851400753303576,0.3798091998868728,-0.7914472885986311,-0.5908256741654001,-0.9831488749158763,-0.5160195259143875,0.3479785112818347,-1.6744323116929711,-1.4357259984065904,-0.20904912191340913,-1.5300344635768919,-0.42052924980542256,-0.4022879649197576,-0.9865072470966569,-0.8072531688683326,-1.0773433997269413,-0.016549544668755384,-0.2273733426507011,-1.1932555837339685,-1.282980354011404,0.023374035738241903,-0.8055036606518178,-0.4101866369468309,-1.046035406340375,-0.7736961929352428,-1.2135490198727164,-1.267142687754697,-0.44672950174720333,-0.5016895637863242,-1.247800954228453,2.0431987465431547,1.6972007883953462,-0.8287494864799595,-1.5651683477098794,-0.8240166992671799,-0.1324369319947908,1.9255063191323443,0.2648222779074709,2.5254981461670187,4.3918119263212905,4.393436606038465,3.6865528530324365,-0.8541111664021819,-0.5073529830936164,-0.17611993149293284,-1.2553405378261846,-1.3218445627742867,-1.6555879481642222,-0.7914380999846138,-0.04115219061530911,-1.5725490181539439,-0.7682545629480789,-0.9343987216311034,-0.8746527552556023,0.17480746898636645,-0.8734219113540449,-0.7075483601521906,-0.28204716399278007,-0.8587925353784167,-1.4013595416960811,2.8449844592575517,-0.5290181324308069,0.1978882338579225,2.9928730922898206,-1.2077020394331541,-0.24133452826678037,-1.1031449405785898,-1.3512664558575433,-0.6561205945916435,-0.5825574327159886,-0.9578247116499798,-1.0941566983160125,-1.047849786175805,-0.1984085227774357,0.18114368872854625,-0.6215054279981223,-1.006408197068223,-0.29460437271663903,-0.8195416780920414,-0.5969322592424027,2.7919977990237825,-0.5558330042971761,-0.38851508114637556,-1.129224095279619,2.3317574673158274,-0.9131133295843535,-0.8792031844476926,-0.6161017868252995,-1.3612000588596271,-0.5803888662171285,-1.5329825822291538,-1.6436880226260917,-0.5057191465260281,2.992613715900442,3.1659250999792805,3.337330922716285,-0.8971069673453426,-0.5906216354695746,-0.633033203640792,0.03589080630716351,-0.042739486216697244,-1.2983490441668528,-0.9427162770730538,-0.3951509610536087,-1.354685583547284,-1.0637540178368552,-1.070983585248346,3.8262474406612084,-0.4440130763488227,-1.5959182678838717,-0.15651125020139553,-1.610569909689502,-0.12269664676878807,2.5211761914249635,-0.9550809827109114,-1.4883343492921521,-0.5878039384707267,-0.9364472766497766,-0.7535121885526419,3.409843814903237,-0.6470732966067585,3.094292341202469,3.4642891915965977,-1.0140808724931885,-0.6490383204477908,-0.9508380181192063,-1.0306278478239654,-1.5383342926060914,-1.0301467500139212,-0.24433814262568834,-0.565133363896226,-0.5486184371925159,-1.044787268131645,2.726178106541493,-0.31025082127107506,0.5580199855584494,-0.5640653855250279,-1.3628885372136847,-0.7679584117129511,-0.37098322978178405,-0.9217050283593142,-0.9611401002007841,-0.9274990764123439,3.7968131262823355,-0.8248351621529436,-0.6225214985408047,-1.1538277738370595,-0.33608153266283347,-1.0150592668219218,4.5829646652833755,-0.7519604354894577,0.05027131392210123,0.263856761313785,0.23614027867482926,-0.6539742476031063,-1.1739191101872297,-1.1355288559285668,-0.8854180247253236,0.6332233351605928,-1.1725301325672903,-1.1716069066251549,-0.44207961510332205,4.679196358231,-0.4864871401298562,2.864050951484751,-0.7399054272225949,-0.7200708456123662,-1.474508310530629,3.8126409303802187,-0.26944154681348476,-1.1573177864265878,-0.43814804285072795,-0.9967531500599656,-0.6326278927924677,-0.9378122178949011,-0.4283079785119266,-0.4560813850581213,3.04130720702034,-0.9696577048422995,-1.2973989145538496,-0.9174972994276928,-0.9460918310872459,0.0401132305760195,-1.1884383154851264,-1.6369000278147292,-1.170976008787264,-0.6348991423254344,-0.9040384577829218,4.049928122982229,-1.5016268966081618,-1.157793361247592,-0.8696429538159167,0.12466803668366731,-0.7292232571220446,-1.0352713663256599,-0.7331721629033892,3.966307611844586,-0.4757758329368832,-1.5535595498298513,-0.2796907360373906,-1.0457811204637726,-0.10440469300171334,-0.6134140142326074,-1.1942603716798819,-1.1035043415952603,-0.9151867884649679,3.1046761472564053,-0.7111080811837647,-0.9869599794782501,-1.0031501254195685,-0.7435100494173786,-0.5921222459936745,1.7587939553238212,-0.24774785215356462,-1.013571238507385,-0.8878433202977359,-1.227109610105075,-0.5644483501558001,0.07456017258660858,-1.1780000814130653,-0.5272021172251986,-1.1046166239750919,-0.22848243543035401,1.8054815920617435,-0.7426866403576226,-1.5011414851741882,2.3089387707704145,-0.772148242894734,3.6476465481071987,-0.8459651689903874,-1.2068679980057673,-1.4861374033851698,-1.3486510479485578,-1.2510066306650751,3.5825647486708396,-0.9371805451699716,2.8591006886270236,2.9803581342568033,-0.9445640983409396,-0.841875255970444,3.715719474540395,-1.2634708757800885,3.3593111352275686,-0.39805961907413695,-1.5812957339702909,-0.5753444728803442,0.014119558767099857,-0.27480874517200826,3.226671301041745,-0.3639679847174718,-1.0032400683227538,-1.0987187375224001,-0.6531538502698201,-0.34997936190018375,-0.014750385598130342,-1.680103804669977,-0.2726634288571116,2.723950371358893,0.14221742588388991,-0.43228518262366045,3.283625126272908,-0.15219523428804696,-1.3748229688023181,0.31040262931879853,-0.3327312946898533,-0.785631557974726,-1.1835387939159354,-0.9682140879779382,-0.8253896157508069,-0.5527268584973987,-0.567425249615193,-0.8484582536201591,-0.7280818503222856,-0.55267622890599,2.6515145285070383,-1.3165320162542353,-0.811055685612467,-0.19491539308209416,-0.7160848057890746,-0.07161524643913754,-0.2739381122730626,-1.2836787500163858,-0.6730978765726647,2.7383407524091243,4.199434670620401,-0.559784852818835,3.025337398110692,4.059257834544903,-0.9667436346693067,-0.40894614972051985,-1.3816613662675594,-0.4941739250957151,-0.9797875359940709,3.8435165266147364,-0.8026462600446697,-0.40806234510121553,4.014337021343111,-0.20146995979890037,-1.1893998379847093,-1.7632347855500479,-1.2004242110014587,3.695217611456333,-0.5984373977416314,-1.586320253575338,-0.3476028708951935,-0.5654902112523119,-0.24304528030023914,-0.47932748622460297,3.642996780318997,-0.9524614075309166,-0.48332675361294547,-0.9578375856934738,-1.0941489267583842,-1.4204628848985323,-1.4036086215011896,-0.07746291086643617,4.02946376645703,-0.3890574387621757,-1.0212444565457324,-1.210787635623462,-0.8145523580444385,0.00202302573141512,-1.4530943909075467,-1.1794543018476387,-1.3153993690047272,3.6658178464121036,-0.4658152868240614,-1.216401047598995,-1.3296344174404562,-0.6003444261907486,-0.8276648679349062,-1.1875344024298082,-0.7618446199794789,-1.696139372471248,-0.3693990834053288,-1.2472059780118014,-0.39487405065341513,-0.9412244472892419,-0.9386531849599432,-0.8572023596406958,-0.2582178475778103,-0.1915944699876556,-0.9677392766119344,-1.0378172910812489,3.4854863730749654,-0.7175917836133928,1.8571807094091874,-1.3763440154695827,-0.8527922995822789,2.9478763630905425,-0.5904890797854198,-1.433499378210147,-1.0745963662279823,-0.7856421132172382,-1.0598252626358662,3.4208238468619276,-0.9660138400320242,3.496669999708537,3.8426033611275847,-0.5430282621649849,2.859528663384887,3.935153929588422,-1.2075785638513736,-0.628015475838642,-1.1115552406407736,-0.5089232360096827,-1.1819249214791003,-1.0760636687858156,-0.9307563238920789,2.316344615318654,-1.0481580346735588,-0.13972524951826237,-0.7668877863025635,-0.08569959329502337,-0.7196860762469933,-1.2093589132950908,2.5469857022489655,-0.5342485878163521,3.746253138765114,-1.3211142137122014,-0.8755933316751033,2.5858251350114956,-0.8983112831122358,-1.115116315610573,-0.9859134313239801,-0.5434241869983192,-1.2765267330280374,-0.6977983400648909,-1.4469417680235566,0.5118742283335017,-1.0494505352927637,-0.8298400222422253,1.826552446872305,-0.5792704924482037,-0.017829028558040364,-0.6258818829470051,-0.3980642348995098,-0.2917642007942613,-0.5281696294756558,2.5400673447105944,-0.5578340812591783,-0.07519302702332398,2.3143575501177445,-1.117874555335122,-1.3156948736290028,-0.1286133166734445,-0.9266533520469762,-0.7781543411115205,-0.5642491242626604,-0.8480418683447953,-1.087934143382682,-1.5948289723648315,3.0013631916848333,-1.2384291741604931,2.4993146830580164,-0.2630374001694987,-1.4459274326639222,-0.9399707723734061,2.5682563388703286,-0.9877176636945899,-0.4230120051880312,-1.0980727583486496,3.307051439882827,-0.7262612733796411,-1.1697866560478287,-0.17281919678813107,-1.5432096701267617,-0.7273396626025405,-0.8782840893520615,-1.077260427952356,-1.1155860090491814,-0.1940242939779913,-0.8409520993218353,-0.3232411871303788,-1.274737412053146,-1.6750204512372195,-0.7482697569099231,2.3173779547139377,3.651308254146449,-0.5597786159448617,-1.1609007318023625,-1.3017391557937201,-0.8466093185377946,-0.44389671964726063,-0.604442136327113,4.227677395003489,2.7833428828640248,3.7281833529044763,-0.8529715025629523,-0.233999470714418,-1.4794957826214543,-1.530695457493183,-0.33435907105911616,-0.7178495236500693,-0.19818003179307042,-0.7987007846991828,-0.9415722806865954,-1.3133157390464112,-0.9481889949366077,-1.011490962267805,-0.34042469974223183,3.112409751905312,2.827608853291219,-0.38269999981128094,3.6544628845531197,-1.0243871480839468,-0.3094114928706999,-1.6343682557445571,-0.4254772915032845,2.9239067677780324,-0.19961952596473134,3.2581641564031414,-0.9782473978957609,2.3702537615330606,-1.6356634014490414,3.42282900096793,2.311703811287795,-0.4929042445260485,-0.44973751348420526,3.5270657023433802,-1.2626305974787277,-0.9053756543166801,-1.4511391000670388,-0.6193592866404,-0.6589432428665886,-0.6171610347293552,-0.16032511094886429,-0.31029771288649216,-1.5102859806581552,-0.47323383243317263,-1.1833598897906028,-0.4674260069375567,-0.6519950149095003,-0.5461947406881785,-1.6272926281828175,-0.4268748436296026,-0.2380910468764174,-0.7075833162734585,-1.3049825066117609,-0.7957078899730383,-1.0003262583878862,-1.622631554181096,3.5599470931688697,-0.8386240042241636,2.97077669470946,3.1707942106694946,-1.4150836617109768,-0.8703507849260466,-0.3194214418794377,2.546139114387517,-0.8979085795130176,-0.4610582812531896,4.306634824777461,-0.1564497926218776,-0.703105883298505,2.066975127419292,-1.0743457789302757,-1.1610495232787297,-1.759868622280187,-0.5874544349289305,4.5572233892677465,-0.7453945006909944,-0.15095515908498935,-0.8635145694329701,-1.3518661047416827,-0.6502333592483601,-0.8566457038226667,0.01631284490352922,1.839770329916603,-0.9976831969631901,3.2925867616607922,-0.8728526680599221,-1.2634922961643094,-0.8574886674337218,-1.1883599112387848,2.101196918754823,3.359676685407502,-0.9465775365007888,-0.9811595901074672,-0.9723284844686185,-0.8459697783762941,-0.7247921450425098,-0.7675347923407353,-0.8073439122005457,0.3449984828335037,-1.64426411378363,-1.1136466264339784,-0.42186443593423595,-0.29195325289856866,-0.3309712431963095,-1.2745926001281747,-0.4666080859722938,-1.1738009231644813,-0.34248826691929374,-1.0035942723969073,0.5752781130662066,-1.209938026127791,-0.6903163338984607,-0.18273805793284967,-0.8341281788488591,-0.529201095174859,-1.3778079273084576,-1.1687497149292299,0.17965595027188133,-0.8937931727898556,-0.5330638000553043,3.6890095611473264,-0.7050674383442881,2.668596408831531,-0.4835507885285678,4.532435613741901,-1.4816036744127101,3.594837206003311,2.624331387877144,-0.3705793691737129,4.098793014851452,-0.570813932124938,3.8202134404297325,0.40774101416312897,-1.4473418222889332,-1.579377305739926,-0.41000750424381305,-0.4634786178618147,0.36530812667998874,-0.8333309750869767,2.8657209605740115,-0.7106584690410214,-0.8793025708040926,-0.7181923186890554,-0.7074498547768489,-1.4254512866641182,-1.7607933677734495,-1.4788053207739125,-0.5511945493469503,2.439954745548545,-0.11980868140652014,-0.5987900617188219,-0.8377233997523068,-1.0804388089809298,0.2492750684213159,-0.8694662634461494,2.6098850626003998,-0.8114051043797983,-0.6762976654475724,-1.289688613281011,-0.5576402089571281,-0.36363833301813403,-0.6645186060037206,1.6965941293308135,-1.6647889379233258,-1.197534397799092,-1.035727642155697,-0.4345962118617082,1.7441766815041502,-1.202039354100718,-1.1518919048541767,-0.4336043360361538,-1.0974767093668876,-1.4633927523938346,2.435000358859695,3.281090522262725,-1.0571736623865515,-0.022043911173904376,-0.628782568369368,-0.8057606901380485,-0.7370143587617464,2.961754960782258,0.010308176656924253,-0.41761670522169914,-1.3090843440425597,2.875374952103916,0.594306014104875,-0.5279371716590606,-1.4158624437818401,-0.44929653343474435,-1.6786398928311024,-1.3938680533527152,-0.842703330166807,-0.4934227108696149,-0.44060794631467237,3.0843754789060087,4.151888217611328,-0.78341045404158,-0.6001820760425124,-1.5472123637160902,2.359875837325428,-0.3270220769984031,-0.4611461224774993,-1.3764722495092618,2.0863756028242664,3.6442517918952353,-1.417362774197419,2.255571231923262,-0.20397450626445437,-1.0362556564219465,3.8486545977117776,2.9816621322351957,-0.9173392665202794,-0.1313784707310259,2.008231463110294,-1.051657062793784,3.275873437475037,-1.5946933547867894,-0.21780978629519399,2.1184706466353638,-1.251367410507585,4.372980978036879,-1.6397591276282597,3.618229286248129,-1.121716220210415,-0.19627545361856732,-0.4257105543417496,3.024268399730274,-1.678817175293802,-0.5045285308025071,-1.2150857943885134,-0.4289551569621574,-1.1036071205671036,-0.779472998774825,-0.6292159203685077,-0.07091624366842694,4.591411913036253,-0.700319336800476,-1.387909509255727,-1.3335422467526223,-0.06583479456810387,-0.4608143504397755,-0.365184282327547,-0.66489143295399,4.0107058475960295,-0.14284090351381085,-1.0130241505405715,-0.8780084349949817,-1.0051950326049266,-1.0981247825521407,-1.137702062001584,-0.9729561732751598,3.627784221737812,0.25396204786788884,-0.33552732719098405,-0.871699444623918,-0.8989898823109468,-0.8113015908300932,-0.7935290798106439,1.9629496675212679,-0.3634506366547557,-0.4006501713285218,0.12677265786482358,-0.5642723430356243,4.106931853931802,-0.9399304256169673,-0.8160719894472677,2.5782024839560536,-0.9053221477297283,-1.3178610523484042,3.433664623202969,-0.6263836466570709,-0.421486829218721,-1.1267481745300836,1.8659381332403278,-0.38149463400934647,-0.407494342800031,0.027868962634986567,-0.11332294484422457,-0.7240844368284368,-1.1835074354123105,-1.1225529570407824,-0.9179560397110347,-0.3351872787642338,-0.8743302777893455,4.173990486950645,2.6402689049218995,-1.4436110806886011,-0.9726831541444573,-0.04188681777091219,-0.38188712532913505,3.7472779040432957,3.899100687197835,-1.5138464900848492,2.631086628878332,-0.09079522538350307,3.473826277572078,-0.6908140217700997,3.216339525879609,-0.9511611206339922,-0.46585821061724053,-0.9067110839121176,-0.32743907505037806,-1.8162755236302428,-0.8792226209652497,-0.6107386792188486,0.25769634882155285,-1.3012100573289596,-0.1532927080703701,-1.0442520512694475,-1.3020162919241647,-1.6802879590484685,-0.5323610104352187,2.7261682177416673,-0.07854067636433407,-1.1406365002428704,-0.09297693013865037,-0.3061163348003144,-0.43528592783085585,-0.3419724553264193,4.273017730741938,-1.6038348093937735,-0.5462761673765083,-0.6573054551596962,-1.5300547585514046,-0.8918080061159593,3.455487078386227,-1.292612997390081,-1.0378641047778334,-1.268937208952515,4.005107798400994,-1.1396365559606685,-1.5037464467345074,-1.3020471116181769,-1.1765366860297994,-0.2359920285032098,0.2790725663253663,-1.5622608190066434,-1.3087106909643496,-1.3703715455456162,0.07160239425572706,-1.5013644455473596,-0.7052634081116625,-1.2869656514258305,2.51881425815781,2.1963251465419464,-0.5163990595960513,-0.7065038531074012,-0.7999050427825506,-1.6510847994070097,2.2230553449731802,-1.3361449031323704,-1.4027717592192204,2.9396198628874846,-0.9699419815383203,-1.58718574090475,-1.564896397816039,-1.0731324543891079,2.243549223370507,-0.5503478213593573,3.484972391077925,-0.8579044455042212,2.2111019608555873,-1.148248911753866,-1.3508729608633616,-1.0078396033292014,-0.7851504177902087,-1.1007388034156358,-1.618732072160493,-0.8704492550494318,2.529946108775954,-0.35114625677301575,-0.7202858189459596,-1.4544332330234795,-0.7990709063239758,-0.393002873683752,-0.9881493924020559,-0.34734893695572344,2.239849971834482,-0.9796373394252782,0.24240142971191778,3.5756505159691603,2.11852798205921,-0.2169844641731366,-0.7632307906551787,0.48023175152792164,-1.0765435640546503,-0.9686384047128994,-1.4790115868958842,-0.3121504495091614,-0.49899870812871605,-0.3838975110076899,3.156146609891388,-1.2324970612368928,-1.460566551052667,-0.40264842595445915,-0.308934317395577,2.4857879993206025,-0.6658125116369855,-0.92552348118473,-0.7776931755964512,-0.17953441784530058,-0.04200785939745574,-0.2767241517272109,4.632214292894554,1.8506470500919907,-1.0154449271539976,-0.5013298402399561,-0.8586011479566745,-0.9544891625210589,-0.8832788184299655,-1.0191683360980401,-0.6543516101874886,-1.0013140443359956,4.512367273449464,4.603713813109908,-1.5976223305642943,-1.14978505463441,-0.6781830440129657,-0.7830394117613946,-1.1746650599007893,-0.6816326295687521,-1.167829746532464,3.590168098992312,2.6304064200820565,-1.20812901015343,2.3728287283537055,-0.826426515776787,-1.145744673562787,-1.1884039771167987,-0.8965935138120201,-1.0666450862977037,0.5774660348502482,-1.1059674251428522,-1.5025151923196725,-0.7818872294463176,-0.9765313739629333,-1.2447319300823707,-0.9121781428216302,3.356459885121437,-1.046267447146957,3.3373118911208,-1.5786478877244565,-0.5572727874416118,-0.861549138360979,-1.5043289049239184,0.03852999247410144,-0.4932079434014026,2.7690867839471682,-0.51753974602155,-1.4835716726103703,-1.4810988723523557,2.902909978351197,-1.524860425885062,-0.8145571373514865,2.3020064414657697,1.6694280455462738,-0.6800120494221291,4.126460359739021,-1.1884089935760718,-1.609167583959705,-1.4256268617194954,3.579419603198988,-0.23647970366877957,-1.3190390804256749,3.303918870605873,-0.800808556335344,-0.5694226278765784,-0.35577539102643346,-1.1140986840530738,-1.0048118839498004,-1.1534430654527368,-0.813571312267487,-1.6610729507646087,4.92888639887293,4.0436010035018075,-1.6622649127096427,3.45503581534744,2.8072707969437416,-1.2849780926045011,1.8116698495504355,2.7517160954523896,2.6116085645946168,-0.6061680130462103,-0.7321681849719168,-1.5129829404782558,-0.6054134433535834,2.8049159306918114,1.9189506962871115,-0.5266302474179447,-1.7854563270223587,-0.3730729975949138,0.1705923143744904,-1.3247999726540882,-0.738545709457175,3.20134457069714,0.16270539213754512,3.6772459222368967,-0.9156422867440883,-0.158050881643545,-1.1492528041919952,-0.16672604094873955,-0.6605004498324766,-0.2973125381899247,-0.6454496864553361,-1.1681150683637154,-0.743946315054115,-0.41067970059113074,-1.5051682572905387,-1.2135962534951719,-1.6828168287907794,2.5553419085541016],\"y\":[1.8346679968825212,-1.7483942044626557,-1.690923463275245,-1.3367149976614432,-1.5760047144928384,1.1394830068679376,1.192398024428299,1.2119037731107118,-1.5352344954064394,1.5824094387393812,-1.5835935260817586,2.145124028380767,-1.7229438674710957,1.2338775820000665,-0.7257650691848966,-1.6865990524642303,1.329366191904299,-1.5803814341458764,-1.5273814366719916,-0.7016721224647907,1.365292968582204,1.085791783239034,-1.7474695956892037,2.1567504866001483,-1.5431254341991174,1.326764117134611,1.4733194541863157,1.3185615398405015,-1.5617323165370638,-0.7023708553882104,-0.7506334541291723,1.1317709856079985,1.0321589623292349,-1.3354530477677162,-0.5712852731454098,-1.6008838612852097,1.373432486360441,-1.6186674686264284,-0.5978529801185569,-0.4827366347077937,1.1642617954254217,1.0642888453278547,-1.5265591948029567,1.1412807665687945,-1.5711467429613901,-1.4041062551171295,1.0473055151302497,1.1173483112457863,1.3645970383283184,-0.6630803255392228,1.0726505156013688,1.0767489794394498,-0.7325630422837534,-0.659239581048899,1.2268374371878228,-0.4464134486615889,1.368838761872737,-0.7731013765252984,2.070409252729408,1.1336814871647543,-1.4799827402936827,-1.7164844231785354,-1.1404751461496299,1.1704322521400496,1.9022984874198312,1.0453547918580124,1.2726506537410438,-1.508280028661145,1.134059848340484,-0.8713969643445995,1.8868933472001979,-1.5758194373886758,1.2728148549589609,-1.4591200326539635,-1.5454002978520238,-1.4229585764655766,1.0992726118337282,-1.7397271786486463,1.0686829641407092,1.215884980289672,-1.5534831312455364,1.2307184404953362,-0.7538349446026448,1.2032941295904536,2.095437412800997,-0.6966709438699081,2.313672204855435,1.3120459109082927,1.2858259468008788,1.3614013732727657,0.9913655590161593,1.3560255406468118,-0.5761476378297455,-1.599571754367966,2.311415054713781,1.0420184919364612,1.2637483734408927,-1.5208071310697102,-0.5816677931380385,-0.7934303227893679,1.168370139982801,-1.5478211953773777,1.3144978338421869,2.1235345266237236,1.1429731177213778,-0.862934347053606,1.0455097190567595,-1.6325033285691513,-1.643468936027891,-0.4496576688640913,-1.4482390646495884,1.281905561371583,-1.6108897933310675,1.069517394396711,-1.4419627924363028,-1.1544428995911897,-1.5643709618516064,1.8929248360636202,1.2581629374575856,1.242674376409525,-1.606997350383099,-1.6081802972404002,1.1066691450070858,-0.5286303396400575,1.245123136825195,1.1624016172189495,1.8342417288884934,1.2148120198313974,2.158207553057829,-1.6347798741756991,1.417104768412456,1.4625615707353385,1.2263033830718795,-1.6334604467990668,1.1272287559440415,1.0697650931351441,-1.743905884073252,-1.6140060864726533,1.4231700174909272,1.0173095694078855,-1.2740253295706205,-1.620385670970432,-0.8311216442435159,-1.458348156620249,-0.8096082040872101,1.0345562994355306,-0.5381901150933278,1.2037338966195574,1.2757906170663862,-1.710729856548569,-1.5289853243299938,-1.5218583294906614,1.1380428971563181,2.062399199891756,1.2727420485958973,-1.560141626111785,-0.7237564236372169,-0.848666731252473,-0.6999458850631737,1.3504711859727307,2.0396040151072587,1.9836690424608934,-1.5423327070508346,1.1121694300933598,-1.5473406687313134,-1.4585873405227106,0.9844249247563742,1.144027170712135,1.0799431234652777,-1.5340418563576637,-1.4732333700829892,-1.5199241419574967,-1.5587121488675064,1.103314614348722,1.102076547442982,2.301829166582036,-1.5350027923914313,-1.4762905063989598,1.2162364649974768,1.224970975012722,-1.3802023437899933,0.9822260954233517,-1.5705336959294207,1.279349223584511,-1.5643211525215985,-0.6026907349158912,1.0755891614710194,1.0892767434370985,1.1615398344202923,1.1344614376412747,-1.4277601298058564,1.1677173407986403,-1.6541100328901972,1.369018738409583,-1.7495651655175803,-1.665433762210815,1.1465542490415106,1.2126152742717597,1.3859377771760983,1.3789662241567486,1.0811534917607768,1.2152950321619533,1.4219519307151312,2.0369218098300705,-1.492051356836667,1.1710839497074257,-1.4120326433517376,-0.7534592293144081,1.342441410207197,-1.5836403639594359,-1.7343330900370904,-1.546297529367824,-1.629436610158461,1.1498341221524382,1.1960384460909523,1.1274036189728738,1.347583587308575,-1.6251850665959675,1.0786093400728434,1.3567119168545054,1.1036018057942993,1.3247077508937208,-1.6534405357149335,-0.7668221980591003,-0.7687583849715899,-1.5019267358301582,-1.7139949981715457,1.370920200803502,1.2406636538501048,-1.435052150357917,1.1995604668700155,1.3260655938584849,1.1158421406306855,-1.424009396212999,-1.50689955045157,1.9696787442488317,1.0555710394165387,-1.703127102695482,-0.8666355334629045,-1.6081020334201894,2.0797872474281753,1.245952598283589,1.5613200050577278,-1.6275599162434806,2.225876685947793,-1.2683486550263003,1.278678675364871,-1.7243453479834638,-1.6631032695400054,-1.5794969752599106,-0.8463042806238879,2.3016499942962425,-0.5307429490428568,-1.6819384674278417,-0.4804765991923213,1.3819494999358763,-0.4534967257058061,1.0948627469052357,-1.4228016096777925,-0.7075701893596856,1.3414133210587806,1.8403565098397745,-0.6278470395234921,-0.7129358377344847,1.3056378061376557,-0.6050351704105142,-0.7809617313908153,1.3706414862762588,-1.552735802791752,-1.419086426943061,-1.720453273417627,-0.5645838724856651,-1.5723355669099672,-1.4215536759242766,-1.6113923782440158,1.313948184022109,-1.6081307586930744,1.091607045141244,-1.45230064108554,1.306416818210019,2.039976078315762,-0.4669708520227794,-1.5647165863276964,1.3433478695834982,1.2541833317584759,-1.5205331080572417,1.170038858478758,1.4340584700839976,2.34084437719346,-1.3155290769708816,1.0698652219969216,-1.408256604872324,-0.7475997687048302,1.0648754302022645,-1.6718731344910613,-1.6033541364235322,-0.9213584447257954,-0.7354745847536891,-0.647172725176132,1.290779778670026,-1.5306196063985325,2.138221234798714,1.2425062135950553,1.0683362909319114,1.2457204185051178,-1.4674455135427231,1.2724265532729628,1.0818574279481536,-1.4006650997964134,1.2092413529839154,-1.488640016278645,1.0720256805828081,-0.6205109227307373,-1.553259976961663,2.0399378038619904,-1.4395382277540243,-1.4680500731606152,-1.4204363843960501,1.2715067122571009,-1.6133628614495783,-1.5429226068709743,1.3494548430622253,-0.6708113098952513,-1.4476442231867555,-1.6407411209412281,-1.5383951063013008,1.1273358071314104,-0.5490455670563558,2.311771058352944,-1.536982407653131,2.3583524393115693,-0.6413792112053548,1.3852945702001869,1.3775167753956514,1.3410306416743858,-1.4221377792902326,-1.3993262933143904,-1.3423803362210556,-0.48400297103705076,1.22872123478683,1.2605886210154675,-1.355045180274052,1.4189840076698568,-1.369791016122631,1.1552741971539628,1.1277277295979022,-1.6733298952500926,-1.4896736726979334,1.1430457165387509,-1.6479389292496702,1.4020537907801158,1.2739497709278245,1.118657956366224,-1.50286836783836,1.117324662110609,-1.3371436174463016,-1.6362416196126073,-1.4851758243894686,-1.768662615097488,1.0932912963273203,1.2853949471250359,-1.6256190513716955,1.8412751507899183,1.0694983087750993,1.0970889259926058,1.3057831033526262,1.3461352458121665,1.2677261603169903,-1.518523645248864,-1.6594697401934653,1.4492412010236835,1.4274395625339396,1.238218180870225,-0.730057181139488,-1.731437139765461,1.9132810314135715,2.03031636003521,-0.7417866239713983,1.4090698175230585,-1.2761678120351252,1.961658825922049,-0.43922972019725964,-1.3731303595889253,1.0480349701713294,-1.436430483896845,-1.7458109475535943,1.2554342318811498,-1.2114828277747087,1.1822611031232608,1.1129239250070897,-1.4979994392577358,1.0473703660427027,-1.4623950189594914,-1.4540760928653522,1.2701816954287628,-1.4203422103294459,1.156015395764439,-1.5483336020956464,-1.3716612532437193,0.9829246186994769,1.3135618584507571,-1.6456822480542652,1.4000322502652762,-1.485502221822823,-1.5848177802854757,1.278084405133798,1.1615964582759437,1.26048304755219,-1.5495928377358366,-1.640539174080224,-1.5821824881198472,2.077351654288608,1.9563521878957926,-1.659497878051398,1.0618488484933057,1.156152832080853,-1.518500515991981,1.9394926682172577,-1.4527786024551956,2.2073335244037033,-0.43956225075118305,-0.4678720893267614,-0.5591216875093875,-1.6113439507787486,-1.533045133993062,-1.5254424293701416,1.2472296531611091,1.169020982712728,1.2059010368472105,1.2775985833660863,-1.5017191881551029,1.2098702004048323,-1.5508165924433048,1.32471493357132,-1.5836950638162273,-1.4551878886202765,-1.6362786527853983,-1.6214990700135172,1.1423079898497839,-1.5980608491011372,1.146603897398436,2.07592560219732,-1.804049981055377,1.4439155523053282,-0.6112289865218606,1.188108337772088,-1.350527510181857,1.3780716180324915,1.173936401293826,-1.6770557653409441,-1.6014453638474588,-1.5617486632824218,-1.6471930529314203,-1.654396591415109,-1.7483378441008868,-1.3753728711483586,1.2810828097652622,1.3556019929177643,-1.5229362885511921,1.145256487542654,1.1890293999053132,-0.7764417175897171,1.3632291501811464,-1.3606246971464222,-1.631047366390633,1.8987905487728873,1.3331251358515517,1.320150032047516,1.404911803521311,1.0693154194417287,-1.6859565916188934,1.1076401815236598,1.039639601416985,1.410421565721132,-0.6881287191395783,-0.5707374254577542,-0.6325579438496225,-1.6626703369232354,-1.7481094579621534,-1.7092881366268127,-1.4271615875620478,-1.569778183307195,1.0262330618192637,1.1905226805873546,-1.5621011801595666,1.1792327384688426,1.3791787268219742,-1.7096147414270866,2.2225482313358658,-1.440633131799783,1.0199539454534456,1.4937062140278108,1.1396134969354086,-1.5048544745455446,-0.9200196526469058,-1.6235813887423096,1.1450607609925494,-1.5462306639918637,1.2345283429273899,1.286716573690365,-0.7070476269809286,-1.4624764230586922,-0.7021221132932296,-0.7600020581288757,1.163091942468222,-1.5642437158641953,-1.6562388217115276,-1.6167505055465976,1.1727075768549402,1.3108177435993844,-1.4028574323852967,-1.692243301104024,-1.3786991523934802,-1.7204101011490278,-0.7990527428907068,-1.4815034763585344,-1.4688519495602512,-1.5014464146734836,1.1274454184330607,-1.5758002969322678,1.5127213201772287,1.0286110775067263,1.304544740856723,1.1102302589799986,-0.5848335207107908,1.1166892247141238,1.3090409386559558,1.277520579522996,-1.528282959232875,-1.6190391590783526,-0.5114894867321212,1.409688604226062,-1.4390286988391534,-1.4857936846241189,-1.458140703166878,-1.5138360832610858,1.0579149937116321,1.2079811899159927,1.2266256649584533,-1.3000663876283083,1.0702555387057417,1.0285414045019763,1.3158367995002413,2.365799659531809,-1.4235011623718596,-0.6693828385833779,-1.6237610843415615,1.1658001875845627,1.1575642969708568,2.133887384732852,-1.4074479537969884,1.1257058128881827,-1.3564892354146396,1.3009602415486525,1.2350201050328418,-1.6314526794410933,-1.490276942800042,-1.6508848576276047,2.1357266110620743,-1.6968038075204561,1.3292537379701248,1.3364064613113862,-1.6741479739425982,-1.6050721981750327,1.0153030416827364,1.0914090834966206,1.1434187681331855,-1.5313131999665917,1.211054202076883,-0.5306879815448302,1.116174954389918,0.9854926263066579,1.0166686777711522,1.5575961283591429,1.3447839023625165,1.3850862833469606,-1.6787907264328017,2.3304040742725753,-1.4987262108475332,1.1901408824847137,-1.3355190146715021,-1.665433762210815,-1.6939575147917032,1.2974779409203638,-1.6588130486179524,1.1334294417335982,-1.5780966196376696,2.2178995787658073,1.3744841358275024,1.1519155700502124,1.3172825169744424,-1.4139822961581068,-1.7235070314465974,1.9249192380815596,-1.640890926590232,1.26415282249896,1.1849704215256105,1.1819953508899814,-1.5857736203570088,1.5048966012308613,0.9766379092143466,-1.4565694230307396,1.324111312950462,1.29811913922261,1.8904139513310718,1.2298053433335259,1.191442428313977,2.176379915006089,-1.5761104024575563,-0.7103766546310999,1.225813668111784,1.120824680269514,1.0883355382561892,1.2664455090026032,1.0268980056682429,2.170910677179868,1.3787233155998684,-0.7253099569293915,1.9931897013191675,1.2409543527267823,-1.6640975807651515,-0.6660965510184335,1.2904471594562816,-0.6954732287669592,-1.3729663603762132,1.1791110813798638,-1.5390653878280505,-1.6370946940291897,-1.4961089630411606,2.203177251947866,-1.5281860562518523,-1.6846593013781566,1.0645725335247704,-1.469022872650109,-1.5669869373382013,-1.370034110223278,1.1263949213276299,1.354750935118578,-0.7184824981419431,-1.4953254045495243,-1.7265906797013402,-0.6267750827109148,-1.3690867676335476,1.0768619329745501,-1.4782362391817174,-1.4642124854483802,-1.5147382336876987,1.2799736336386356,-1.6383438023458237,1.3676398778510837,1.1536307983202296,1.2077991202476608,1.2253004435250334,1.1637186449429684,1.2883250701635427,2.0568037497213103,0.9973873577924128,-1.6408652638048475,1.448482903266404,1.3737332110811593,-1.7178678161243164,1.449482251664011,1.179676190384366,-1.7446755025847014,2.166179967430843,-0.6197179943976983,-1.5127839819974938,2.174744638761377,-0.3815493959514154,1.1715540197539445,-1.6692461324428114,1.1658875665987456,-1.6087766339125011,1.1740246042096456,2.1376609473737505,-1.4374921276674228,1.2103058733792564,-0.42650281299853515,-1.5097710837526677,1.331671462186741,1.1266502131853746,-1.6562729639774965,-0.6474301078273289,-1.3941775058461494,1.1934996675785712,-1.3941367345634452,-1.4763995857809005,-1.6571058910711227,1.4485479809570856,-0.7170628779510121,-1.6142813414903325,-1.5757691942275234,-1.6743083328759707,-1.5926294777472818,1.051765513175996,1.070656134233195,1.513224424082305,-0.628722502200682,-1.4294459162520552,0.9983011619312054,1.0207035366134347,1.2279109196991338,-1.5572951724499775,1.2060777275090517,1.278913918725832,1.0990364419203063,2.2034149451963674,-1.4625779579427014,1.1737918232760216,1.2334739648080502,-1.7574750070522829,1.28296219112071,1.2388094896069337,-1.7032130422206266,1.114126691954821,-1.42136430347218,1.3383112614012156,-1.3391176337983453,1.2616564799591912,1.3452704566078029,1.2617125636070226,-1.537401519256071,-1.458092621032907,-1.7521611591547364,1.3370989800894844,2.0434819963892545,-1.514417809016273,1.9730806132982301,1.0430902805980542,1.138872354906044,-0.8265059919428043,-1.4348379457150686,1.0574395691407856,1.3203884411386082,1.296978848823428,1.2610926883313325,2.0996233562564446,-1.6431234394733878,-0.674208097052757,-0.6421750980149877,-1.4410709769973693,-0.8740351763394131,-0.4591051779188053,1.1338948206589312,-1.4312505969319982,1.2984412660892748,-1.5414115309842067,-1.6093296427147272,1.181740423698033,-1.6141571901730938,1.950298235816715,-1.6438900039589146,-1.3875773706496914,1.3588156767477368,-1.5167966766606393,-1.5613294706642276,1.2765317791226238,2.021206248089606,-1.6328937640485162,-0.7739772175247186,1.095822462553027,-1.7310442153538323,-0.8386163676660722,-1.5702265782103264,1.3079293573826574,1.347156211488245,-1.5510033689830702,1.1890673601978006,1.3010806959891574,1.2743245521994409,-1.3204732938664279,1.2847253298023835,1.2905592819740404,1.8898065194395854,-1.5542374638467131,-1.5306051051443945,-1.5493062236958022,-1.5351734567437265,-1.653945875393523,-1.4231344707473557,-0.8612193589937132,-1.792175085361241,-1.5413293065677605,2.039606800062259,1.1141100834300932,1.1423607595131806,-1.3969793080442086,-1.6939614224339177,-1.544514965520183,1.347617878847142,1.0913736861294172,-1.7026295086658307,1.1742552320096906,-0.6807001177036679,1.202284957189297,-0.8191309532048738,-1.7465561305954311,1.2216864943830543,1.2912466494097607,-0.7576038698735065,1.2089462984112025,1.326738326759598,-1.6607053992655465,1.9779250812413962,-1.670869356439906,1.2270503924174179,1.3852225519843675,1.052799796961679,-1.7223227577486826,-1.5842006242751487,1.201150884353484,1.0884430179854485,-1.4253311104892514,-1.5477567076584589,-1.6448534919895499,1.0366773315340012,1.1599904772453948,-1.7491499745996502,2.093567645189303,2.3101765530199283,-1.5749615433957482,-1.5426084271724263,1.027630108371515,1.1975066092927336,-1.336097455196522,1.4205842050196689,-0.511787787781183,-0.7439720385800521,-0.5559018712015734,-1.4869878089907091,-1.4220534404796144,1.226186296117481,1.180684015784612,-1.4170018200186096,-1.5837481466667818,-1.6124820273711264,-1.6221783562927385,1.3805331259061941,1.2478100341210077,1.3669849224721853,-1.7135670827537708,-1.3276726752528107,2.0103680952930905,2.098796818130371,-1.4140369917504607,2.2834135237844455,1.2241788020734057,-1.8254690859609826,1.1227329559100367,-1.431637678561178,2.181297713219771,-1.3842246038340902,2.2410974186754107,1.3789944039009197,2.105315640773068,1.046517383613943,2.1853249833585533,-0.826634383037358,1.219928606125385,-1.4416117050452582,2.0817968369921713,1.1609859405554535,1.3137353790236344,1.2835453832830532,-1.4731587328400502,-1.590248594995491,-1.767726770696846,-1.5436951846248925,-1.3039335966058332,1.1002419701171204,-1.5496020476496055,1.081403433177346,-1.5358908192787937,-1.566877912752331,-1.4376408521923434,1.1293579161318315,1.4367931477099445,-1.667721442256928,-1.5731090217411534,1.1475647001520963,-1.7403702880815441,-1.6250756772584523,1.1751380897309607,2.2689953444527973,-1.618043661732336,-0.8451478700310433,-0.5829883146604412,1.1996424116247082,-1.7611557468014376,-1.4235656746589667,2.2162407204832646,1.1395733669422838,-1.3649355350020713,-0.5908107746927826,-1.3489640517876997,1.2475749740990971,2.067181730804899,-1.636480625400891,0.9696526764530906,1.1420837720737316,-1.3949517947674406,-0.48185227659437774,-1.5932461725581146,-1.5595466864467937,1.2955039602060687,1.1527416394026502,-1.6209127510612826,1.1844607525436692,-1.4736603940127357,1.9167548937132557,-1.6369341784440572,-0.6935496944439176,1.3874846216700287,1.2132244351950132,-1.5483452493111212,1.0437691233159982,2.046579834577966,-0.5097281010358059,1.3479083173971371,1.1090325806915775,1.3768895784265776,1.3248178432972149,-1.6082639126496507,-1.6068654096031898,-1.5200412741026288,-1.2907326052219736,1.0742405984606438,1.3624093847673793,1.288941923652592,-1.6054923250051478,-1.7831072502274483,1.1454391339200296,-1.5293779904497828,1.1741378722495763,-1.6889633656302117,1.3352503579941517,-1.2275374011660107,1.2420892996546107,-1.7032162770118089,-1.4811561353522884,-1.67831579135277,1.1427850981167882,1.0436935507001628,-1.6147590736337039,-1.4721873148856142,1.2544139125366498,-1.6133738328971146,-0.5816066323363001,-1.5222888848238478,-0.8978135798020682,-1.3040659388849414,-0.5640228303403196,1.1673437577280246,-0.6059609476342253,-0.7765914014095828,-1.7070921568549142,-0.5240888357919633,-1.5111250751558258,-0.5398296304651883,-1.3020593067270907,1.030474975092384,1.1237537297455833,1.3198018536596732,-1.4414197207118193,-1.3169213687238859,-1.604028331927814,-0.6526198411771333,-1.4732745594994474,-1.6100661069581366,1.1237723758968372,1.2506040349216112,1.2465490799068688,1.1736035344423144,0.9716923372847681,-1.7095362207369396,-0.7813536474882471,-1.5882180407225928,-1.6727405725996045,1.2107990428519122,1.1460658951405749,-1.2202709210978893,-1.4958152833499645,-0.8564105697060167,1.2906478991411212,-1.6525574940999241,1.2240197949169536,-1.5168306439875665,1.49237974655496,-1.5802730976451493,1.946834158257078,1.1409021399782155,1.2405898539466347,1.2298081441173263,-1.5889564934803515,1.937058326318702,1.273515428612082,1.1292384381545548,1.3123441831196134,1.15002499586578,1.2195503249942876,-0.8005137065705189,-0.7358187240808496,-1.6624335607741607,-1.3779217766736358,-1.3922161450169346,-1.6193650575556189,-1.5905888849081598,-0.6902926086211957,-1.3727453841479464,-1.4155024567133783,1.2762263646643621,-0.7627130351261455,1.534059550376819,-1.4871775206112061,1.1725865610013828,-1.351851906802417,1.1257916512255215,1.046438914319951,1.2880849414035962,1.325291805865896,-1.5468211874132944,2.0033976957004596,-0.5847427799336742,-1.6820344932307203,1.1245277930735735,1.0204467522475609,-0.8664160753101323,-1.3574260103727314,-1.488510835639876,1.3006367336772056,2.069276496852835,2.238633747048515,1.1927333575731294,-0.8448196626063901,-1.416793533165384,1.313280023929797,-0.7562690047126833,2.216592222011406,-1.6181805497221449,-1.437673418728605,1.9891639168160862,-1.6039574065256414,-0.6812932763186622,1.118126830165598,-1.4309898090850834,2.0428679662916847,1.2997958535677199,-0.7697773675792089,1.1738003341712362,-0.5628151470859323,1.2093660636486472,-1.295228617561828,-1.4444237712316166,-0.7481645746899521,1.195616891563469,-1.3990610930473204,1.2374900738973977,1.3128000318384918,1.0088429595097186,-1.6103949384043037,-1.6998970333190688,-1.441644508292718,-0.49362211297350966,-1.556608648254464,1.11357807881863,1.2125631431220252,-1.5760967927469745,-1.5967307120179002,-1.2962443192219473,1.2647748393814664,-0.658229713570421,-1.3360078904045571,-1.6583684864095183,1.3544969081920766,1.4775012075743774,1.1184944946296054,1.2071412701025999,-1.6058355600608136,-0.7084395838634708,-1.432698753283544,-1.5716792845443224,-1.5723889219714706,-1.481911195314605,-1.651845326632084,1.3921376876170855,1.955762818157969,-1.3881538037441004,-1.4072735538107564,-1.6081375808333778,-1.411807585531211,-0.5818398250302074,1.362656340942251,-1.7212090435546257,2.0673304845409195,1.2104323425512802,1.087716955788954,2.274242773323405,-1.7227976928287136,1.4705114810482967,1.0467201184038872,1.9986696674430406,-1.486599826446937,-1.7163414422422745,-1.481945215268787,-1.4340592355216408,1.271986157640044,1.2948796421406876,1.320155161673898,-1.680109593958757,-1.494255234225972,1.3357993631179956,-0.6587606535508855,2.021898708083996,1.1619788145279675,-1.5846043248606358,-1.4882026225891294,-1.5149879640182402,-0.7345879381871936,-0.6837605679780446,1.2149944396120296,2.015907735577946,-1.5968982306522526,2.2657848703394587,1.301929510548523,2.076328152520808,1.4412977113092988,-1.4695636993503247,1.0955345529478697,-1.540625004185933,1.1107619713497723,1.1901320871287684,-1.7779815898038296,-1.3446074920212168,1.3920616831495936,-1.4533923536038804,1.3050695810299044,1.2290999641978675,1.1846741835316947,-1.632363374240166,2.07378134268279,-1.5561755688462415,1.1529593925761876,1.485544181256465,-1.6108332449327576,-1.5308765796088009,-1.4649354837816928,-0.38980463400457477,1.0879677718417236,-1.4192421005025577,-1.5965381159715253,1.1064336413194424,1.3259658133403314,2.1393625875236597,1.1530520287159929,1.287751943885638,1.2600063650269775,-0.7755928100103676,1.2688599275477774,1.1157666240039812,1.0464523962041063,1.2170955940223107,-1.7072188907122954,-1.5440340214859603,1.1197055835658292,1.2424250366911633,1.2369588284656186,-1.5175574598930854,1.125968647623419,-1.6783612881581327,1.177525033473092,-0.8540153987716625,1.9845537471791261,1.2206056397536795,-1.5440518439230588,-1.6217781379640528,1.0738264526580465,2.1152822998499072,1.1848866882145141,1.105878809614869,-0.8495454620439655,1.1863369520888971,1.1237942711188866,1.0712012363157422,1.3197851710364998,1.855857494570188,-1.438054626486827,-0.7149712925830911,1.3843028324722382,2.064633783734761,1.1908640886346347,1.1429804486945032,1.372362467096926,1.36823931986191,1.2449350790010638,1.2190001377427335,1.2601648306901707,2.0506941592172647,-1.5982810067465705,-1.527584671928616,1.1310902954700377,-1.519597900216887,-1.5566889095885226,-1.6580448039265714,-1.444459421614584,1.8227044648518351,-1.4891694975908345,1.5366912040608656,-0.6661536396661124,2.0217431567292565,-1.4849714275839598,-1.5650467735014193,-1.4358889890749824,-1.5937018147897968,1.2348075301924306,1.1304598924444729,-1.585272927011616,-1.551628876376158,-1.7088837717022143,2.1635323632845287,1.20313485205936,1.2277191954041398,-1.5569707103036807,-1.478413399698979,1.9628439532139201,-1.4667110434844366,1.0600844977404114,-1.445670389814111,-1.6201657834085081,-1.4881343530751077,-1.3717081348952072,-0.32986425587994433,1.9131587473161324,1.3592708134523943,-1.4027608525043773,1.217504937204639,-1.6276695115697202,1.4823685057179419,1.3784503122237675,-1.4930094163501286,0.9950293959705931,-0.5549168770769278,-0.4488848715088296,1.1579070275136494,1.073678124859434,-1.7425799327563243,-1.643688321047136,1.226039367815065,-1.641017750284673,0.972446769557593,-0.6144894070232075,-0.8193268049091995,-1.653097858176925,-0.9153244368550396,1.2454852109266417,1.1465675912691324,1.1355706555494633,1.2604461116636925,1.3460065273885717,-1.2809161045592659,1.380647978674801,1.2526757008307718,-1.7128903151344548,1.189864554063212,1.1906317051732251,1.286474631993874,-0.590880174062984,1.2828657492943178,-0.6585404037801009,1.0230216006897186,-1.5416305886723172,-1.6487877932347983,1.1008084799073932,-1.4908467977475526,-1.6052955983462147,-0.8779244732855342,-1.4136707740002343,1.1284067042494474,1.1748054301935116,-0.7252485067412687,1.143633000974531,1.2113299780025217,2.069574577477442,1.9113186743503563,-1.7246444130743808,-0.47333250422019546,1.33446702367636,1.2477030807664817,1.1666022256771587,-0.7721568973173148,-1.5843522420319192,1.290661272421637,-0.7669287650576067,-1.6614925717225804,-1.4668054924656428,-1.3391315493813503,-1.664480762424532,-1.623262049793112,1.1095491642233217,-1.5664433523743753,1.11855241000022,-0.32706692220144223,-0.4087481387066524,1.1285080679247645,-0.5887351917172626,-0.7011968353487743,1.0835849500551566,1.975999553251473,-0.7991336755043656,2.029056200176852,-1.5977199197868595,-1.4939390181160317,1.2006627412514677,-1.7110597165415322,1.9834835873410857,1.9519970198929169,-1.5432053545704874,1.098061548147489,-1.8683141224589301,-1.4838097165701023,1.2378778932136967,-1.6054204436746955,-0.5379825351915253,-1.465202082124358,2.126780348125678,-1.5668035009571906,-1.3666736872251135,1.2430481697783742,-1.5036090496569792,1.3655268644952252,-1.5550881668989482,1.3255453542332976,1.1313039093222699,1.1593949393375909,-1.469268097638677,1.096178049583599,0.9913068980129839,1.0763286143376083,2.187712419560749],\"z\":[0.29858380247926036,-0.9536891738288786,-0.7286746696186803,0.719842977167007,-0.7768021755530695,-0.7859082626055534,-0.41550030216017075,-0.49472752865594394,-0.5670166522859867,1.2930266475451608,-0.8714315441667673,1.2009682275603555,-0.945321834543878,-0.1800592433546953,2.1759834891403584,-0.9444632154946633,-0.2042946705674237,-0.8983738146052029,-0.22039903981769038,1.9468071524962087,-0.00343441962260818,-0.7534341898365884,-1.0023069120845651,2.0182136101263706,-0.5837453459656554,0.06036202071489854,0.09759318914060564,-0.08275505005901505,-0.8669813837552882,2.1015744339213036,1.8433919648744574,-0.9146459177384242,-0.708986486908021,0.04127679608602898,3.132806075214621,-0.9619596851055534,0.19344711009813143,-0.9060456716342676,2.189408692701231,2.8832334107489554,-0.8446055887708799,-0.6873465690915233,-0.5780805212900277,-0.5746703481260993,-0.5940076568314153,0.6079773969995198,-0.8159165812093396,-0.802404859016449,-0.052912011904879604,2.101423758421422,-0.9135769064574945,-0.8005126258637713,0.8506763467674284,2.0215756315639393,-0.43044480875079627,2.827319372495515,0.027834199582996145,1.7374557877953147,0.823954426856492,-0.601454516678996,-0.38529681995866255,-0.724114720132027,1.395747129418487,-0.7547636987354464,0.11906351028219554,-0.9522301905633873,0.0796869961679491,-0.5684236880251072,-0.6071890700769097,0.36287038013980516,0.2732114608820375,-0.5345481224589309,-0.12628129052469744,-0.1093550872033396,-0.4579385523448698,-0.1580904333039718,-0.7701475144500547,-0.9696391832989488,-0.8686476697438892,-0.5534183825485646,-0.7293560838715296,-0.4407201467691502,1.9738772616790754,-0.1847724869888978,2.1945503867453486,0.6466599067003154,2.5037011896710597,-0.1815083220190705,-0.4331718783450047,-0.18073171538009825,-0.9287895683518155,-0.19233349344050046,1.3972603715593,-0.6229752034194224,2.8103485984691345,-0.78506053118292,-0.09624581480984441,-0.25146766703578755,0.755213546034293,0.21067117426581486,-0.5852136679730663,-0.7951216233445207,0.6670054484524395,1.4598150813894917,-0.6828779914088279,0.35438129852040223,-0.9036319723847962,-0.7759390089784881,-0.8593875161667047,2.7908927154148437,-0.2019884845652636,-0.11474668449429992,-0.7123765204409893,-0.8975839040795771,-0.14721469802646867,1.4034607724644705,-0.15605296846470337,0.4822076394826909,-0.38570061212476475,-0.5438849396313264,-0.45682475971060366,-0.9553353532293924,-0.9097485179134949,2.1714183519226786,-0.2606598101200705,-0.8165739030775723,0.3147876968623437,-0.3003501530489137,1.607846697108949,-0.5937818500995481,-0.03758439385615358,0.028576825757672213,-0.1740412936280162,-0.9613706380732044,-0.89324889807974,-0.9181574127413765,-0.9920280178270282,-0.927243892979224,1.1608218607703333,-0.9172445620772101,1.1652141606333575,-0.8078877620256215,0.4710321599151136,0.40373877996011465,0.617535509725576,-0.6717752805078328,2.267577783151579,-0.28027085011386355,-0.19088269241638164,-0.94402688435959,-0.6728525607676759,-0.45275239085470714,-0.5729699164588381,0.5529992435968615,-0.5116055141651962,-0.5222195953242238,0.6569958618687862,0.18568095284050876,1.9561243917664817,0.5352087196785904,0.667324254349749,1.8899747743313615,-0.23294153607509094,-0.6706289158617227,-0.6808711655733455,-0.2365321522369175,-0.6971874552881931,-0.5899495005411738,-0.8716001495554915,-0.697412563989373,0.011149329013353387,-0.42573612503303754,-0.9562298320562929,-0.6628710275830135,-0.8603525373966334,2.937018038239255,-0.5629315660544287,-0.23413570549739693,-0.36736597287255224,-0.39090823909115774,-0.12676429058721495,-0.9614320358611906,-0.7653555213892967,-0.48333002576543305,-0.45756078144108264,2.5181076880767055,-0.7672923045952015,-0.6562951654708632,-0.5364891434132698,-0.689563977155239,-0.05888380073828371,-0.6927897793497676,-0.9196466467568989,-0.10128303555094653,-1.0022690201702036,-0.9607924993192323,-0.6295251516585941,-0.39268094378190926,-0.29954766557983575,0.1347401147621574,-0.9202230548904091,-0.3634113440330927,-0.021330299088597782,1.9712944985710201,-0.505829983474675,-0.7379041057152559,-0.12615134942748607,0.6372046514807955,0.05043389307336856,-0.5501896519294357,-0.9326641838748357,-0.4219332001528748,-0.8039925112285495,-0.6829664058756716,-0.39241684862120696,-0.4872708757269429,-0.24078186632138882,-0.8910577549695259,-0.8159479347652496,0.975701973006726,-0.6821660827147608,-0.22349685044450174,-0.6622533736835543,1.7768137979008034,0.5158917092100238,-0.10600600205046491,-0.8740605507752798,0.9051198689667052,-0.48839403188528335,-0.3341597526499419,-0.48133381082247256,0.060374651353019164,-0.9535047367737332,-0.07736941287623261,-0.5419221434238248,0.5100038162306108,-0.9627582528638478,-0.7275393908563884,0.337223832262809,-0.5053701588570543,2.0851048996232158,-0.6539471678435578,1.8082474472562973,-0.5017192848863525,1.3425933258906653,0.9257007271894829,-0.05135844341605262,-0.9320972177422227,-0.9448880642314452,-0.7624530560960077,-0.036427054845921146,2.8115257508119584,2.5600236337017144,-0.7442641317824006,2.2986885317717536,-0.01842882921185122,2.53197302683338,-0.650072407757969,-0.14458920222318916,1.691784309030429,-0.11839775672223847,0.31513362269748796,0.9581949470240543,1.8957508295774879,0.5941583843504838,2.7161821522423804,0.32291971306811595,0.10905880991335458,-0.48154776755408873,-0.3294326227484531,-0.9541943993537004,2.4440504279330733,-0.49603297821305814,-0.30174419467831304,-0.8878002646600003,-0.2936339413346261,-0.8646266082087034,-0.9185880026773041,-0.02822118781948319,-0.28212755391758354,0.7485156152893716,2.9142786229613282,-0.7462151027718055,-0.11493287695206188,-0.3010620617429808,-0.4566783136984382,-0.3170048100417573,0.08143172593653243,2.860386771348854,1.050961510467573,-0.8342007185608653,0.5788603479336148,2.3825409219939724,-0.9180689982745328,-0.7735580428248655,-0.9554226194564072,0.2500869433129251,0.7193643751108566,2.104495019099954,-0.3321574536880306,-0.5389028013591501,0.9584880455663402,-0.08301322641513047,-0.7369353878139348,-0.051564663985078946,0.509845846516563,0.5705883637708858,-0.7533274035324784,-0.10952290782383527,-0.4560962139300914,-0.3986579864320855,-0.9527124512916263,2.383555313406195,-0.4250977036880355,1.7817089342889472,-0.2930615974744679,-0.36637584732002815,-0.2342208528501945,-0.4831882181465342,-0.7106542722169744,-0.6918904101776957,0.941824395955669,1.8356321766305632,-0.14077269259195432,-0.8594724859140611,-0.5510077728076982,-0.8019945821865635,2.4360923989739294,2.862967308193356,-0.34082544181174734,2.911666980382462,0.9188562174348329,0.013102584091339603,-0.1331663389278188,0.48524732934842385,0.04563061587155592,-0.09316798686034729,0.05511916591576185,2.366586286521713,-0.41615709534243894,0.46960513489010447,0.006747150983511437,-0.004405256398146346,0.058769069252075846,-0.1894361084889015,-0.5853646408588028,-0.6922831081992618,-0.40774613533500853,-0.6437070039632793,-0.9611088393921604,-0.11893906506413705,-0.35837789844020573,-0.8026294927263325,-0.0715000817306042,0.07125823431280774,0.9361563066442108,-0.3573840431734165,-0.30152377806506814,-0.9444595064321937,-0.9634403073223572,-0.2665876891059078,-0.7037596826843376,0.04742343954147193,-0.881636984118112,-0.8334992101110061,-0.28847048029806405,0.013204157882268348,-0.43396535750089066,-0.42577008897589735,-0.8086048832328697,0.01194630658339519,-0.10252671145739667,-0.46516143934002246,1.884666065086772,-0.9812819221305221,0.39350308099802067,0.6930336002064658,2.053269595149417,0.26312746587924013,1.1342430718453507,0.1434190524678419,2.398356608055829,0.6204680498155987,-0.6132348005988795,-0.41038311353657936,-0.9919935706321539,-0.11680744455887905,1.4054968230687843,-0.8338043775625753,-0.7147456200729245,-0.2092895509974161,-0.9196121913013064,-0.3557364057561412,-0.3287999426025969,-0.31881558425231177,-0.47447217742507564,-0.3922535342224867,0.2739316476418079,0.14191994276371733,-0.9614446664993113,-0.3308934151112291,-0.42844235283523935,0.11748782372040084,-0.247901035869241,-0.8269163346491081,-0.15476637812722888,-0.7505130429291007,-0.3907940305317492,-0.5466855296174725,-0.7596530484904943,-0.9622978417352352,0.5224398194393971,0.09790783163594469,-0.67657977203522,-0.9198739899823505,-0.48942241282376964,-0.3411239841673239,0.4409438982109928,0.09482132580198344,1.2952844901722986,2.7771575449251307,2.7531888397814903,2.1358012534858606,-0.8709297633614329,-0.35538371852315387,-0.28760156013325977,-0.5547362975294354,-0.4912390918782971,-0.8345775849160101,0.45717541643572107,0.8105857043041358,-0.6909275119523431,-0.6030901925763246,-0.05222651272688278,-0.7456811712512553,0.053645156403873434,-0.9099697853807139,-0.6066321407169039,-0.055998397958426885,-0.8568924571037283,-0.7048172033062576,1.9667902428464394,-1.001283830396801,1.2405513224109415,1.0605859088485718,-0.48947549619889236,-0.0445601862486498,-0.150047748504763,-0.6079457601243131,-0.7028296084227339,-0.4756649796985203,-0.7631401454622571,-0.9335279245693315,-0.9500561636612739,-0.7091028226023647,0.7043565914188554,-0.11469616194181773,-0.11809912762912089,-0.2204794166057302,-0.461588468072261,-0.23864748673625358,0.7330238939433377,0.16190196335094098,-0.17388849925391767,-0.9614142711867116,0.51642259252556,-0.0037775657260799393,-0.05179837622425909,0.8276005591749498,-0.9144057580086927,-0.8899588894530386,-0.9142095866033508,-0.9521268489787647,0.6285053577133342,1.000527840008891,1.2885267848705162,1.807206093685957,-0.8868730609979695,-0.9694876156415022,-0.9455331106724398,0.18873812073379945,-0.3275969837761311,-0.9622277660627849,-0.2800676116641058,-0.30625731002315815,-0.7371368378182033,-0.06567857188260814,-0.992648067334764,2.942031105466426,-0.2319975507640464,-0.9517708946317313,0.9287252032905159,-0.914787725357323,-0.057525433020410535,0.3859146283102143,-0.9337419845599252,-0.688842725588893,-0.43306437335841164,-0.41793633839164196,0.016557596433631947,1.8939577209127942,-0.5314164263660826,0.7391436735432099,1.5924944992932328,-0.6027051026762165,-0.5347624674443022,-0.8778792247146817,-0.8420419987897557,-0.8447583046681556,-0.14994378736627573,-0.1245238309893754,-0.8898452137099537,-0.3229193603587865,-0.9924528665638102,0.6453056404290264,-0.15758701687643492,1.1939931786324969,-0.40121971362125675,-0.6633073587180868,-0.7775535663497508,1.0231851941383383,-0.7662844143681986,-0.28120454670039585,-0.650350281796621,2.0631284954942553,-0.1476840802950412,0.8912701925317283,-0.2816407002300281,-0.40704800551889103,-0.9551390042186094,2.924715160634544,0.06385984835959686,-0.02846116994377352,0.49104048923764565,0.04631726328938187,-0.5950439432772144,-0.6028708705082406,-0.3672167016947641,-0.41611920342807734,1.1627472863147914,-0.5843610792481341,-0.8437525787493197,0.05095060099648166,4.17166316317004,-0.2510368127568776,0.870416869388573,-0.8262019766520963,-0.14307574365155934,-0.8307639252325526,2.6923979337181954,0.009924157115660644,-0.7680400730669542,-0.025881182437031684,-0.17205139400411595,0.3806934149406055,-0.7783866804315377,-0.4077352270566317,-0.7711580646283166,2.2066859558940917,-0.9602252688436369,-0.33675509683180876,-0.19383684915377758,-0.890208057495962,-0.34791600449248944,-0.8648280912558448,-0.9204084956228153,-0.5697305749471874,-0.49677474114268283,-0.14187934383534062,2.6790830892220523,-0.7855224540229623,-0.9128900814342273,-0.7035476465697018,1.5158069942594303,-0.0038300997634426485,-0.08653300278807358,-0.9586912617354965,3.74215922008173,-0.2929161675306404,-0.8313529722649016,-0.029443666723044395,-0.9607924993192323,-0.5711585763890874,0.359821787698073,-0.9935666591980762,-0.7014027097867132,-0.7772685385291416,2.53384758204912,0.030169434400689896,-0.6025030124662877,-0.1179614255871652,-0.4000131324698625,-0.8842232745528368,0.1725401534160214,-0.6246142042558246,-0.36730759024670734,-0.46508777438551635,-0.6340577664287391,-0.48151075953657396,1.6687930855840436,-0.9613309907562262,-0.3383826937467424,-0.18172648758660714,0.23251486747875302,0.34683134490974477,-0.3293432913418897,-0.8022645961518526,1.025019337094595,-0.7298615530875381,2.145392752730575,-0.3901314961503352,-0.5533754557264629,-0.9138605216952922,-0.5383827478451679,-0.94092490207009,2.453386253819285,-0.1331881554845725,0.8290559820708987,1.7487472561070712,-0.21120824736083232,-0.7939439257942963,2.2231099199402555,-0.33771899873442196,1.763450074735099,-0.09423894354041204,-0.7875733673114526,-0.5387500854618745,-0.1605641904529382,-0.15732292171573264,2.454510190615495,-0.2630688709762753,-0.9328504630701386,-0.8181210901615934,-0.50366113604287,-0.3204395588423168,0.09421430344684159,-0.8724400869905077,0.9619295731122504,0.5682465963772433,-0.026538950384047067,-0.5455526382027389,1.6122473708620078,-0.010454551420017368,-0.7272571799406838,0.45729049402268357,-0.2585015033646827,-0.59038142458309,-0.4145342359493903,-0.9547899393105508,-0.06934616141657811,-0.2866084318096718,-0.2222720750612824,-0.41219328058434634,-0.3917967991134712,-0.08474598640304877,0.9414737829890208,-0.8145149314584824,-0.7609533887934049,1.0839580612713104,0.09284848043079741,-0.5646034486796072,0.7370225036725405,-0.6709247652231675,-1.0023574346370472,1.1372937030323336,2.419565031387756,-0.3772642132356519,2.2083303592401937,2.6797592703099244,-0.559266016917853,-0.6966131453771045,-0.7704628838885949,-0.7327828073843623,-0.5852802658831564,2.7203009958988433,-0.499578168685529,-0.06481535987407686,2.7144806095085223,-0.07491441003578489,-0.2572089487886713,-0.8826703999643383,-0.9936125887912418,2.2166371515911822,-0.28143857697722663,-0.702524540099783,-0.16736589812233132,-0.45770793374465385,-0.6469524501456763,1.0710977487506403,1.7790320237756205,-0.9224173081610235,-0.42974216032182616,-0.9010951016966745,-0.9018600937658642,-0.8006637722245898,-0.8317863460628611,1.3147808722236134,2.230660175067127,-0.189515456817526,-0.8070564694321967,-0.9293200551528783,-0.30801960620898367,-0.3111078963580751,-0.6513645988623799,-0.35847285126550116,-0.652215444575773,2.5715602636080694,-0.2483155504475606,-0.5912353969783198,-0.6444529633377472,-0.9535249755333114,-0.2613031755049124,-0.4096971848012364,-0.9323020918141832,-0.8932248717808688,-0.09280514307433903,-0.3059300286289804,-0.01303685605821304,-0.20009838267788022,-0.08581305641520258,-0.2804300589356408,-0.16570019864472205,-0.024043998710407133,-0.9918787466492399,-0.2613929158170266,2.2850804648225513,-0.5456812617153981,0.2798149096626008,-0.9130424008170296,-0.5360436263595634,0.5032079711929209,-0.26475678352511156,-0.7463968013988693,-0.31582145802992806,0.06086494976006203,-0.3045337689967458,2.242669078493423,-0.8084014217437206,1.8932475221873935,2.586846678846581,-0.3854400401603727,0.41105938712115814,2.4768933872034062,-0.7858072175005891,-0.36704125230101503,-0.27756528729947655,-0.12660157178627657,-0.9618069692082777,-0.38937021314361525,-0.843247010404693,0.5178496150723537,-0.9387533038191261,0.07766014222120235,-0.1186767790007195,0.31869882310764336,-0.6806131874744668,-0.43654651389925725,0.8091372179332551,-0.6477802897588955,1.903052713820742,-0.7719363647145188,-0.8965743451874987,0.4766809216242106,-0.842561333621255,-0.3449142288450569,-0.1179464117318452,-0.4301899738551909,-0.5137985200673632,0.08662261255750277,-0.5234965825767963,1.211918840465796,-0.17509767427082523,-0.039090763079428215,0.3699218944056383,-0.4963602265643632,-0.22385972727338282,-0.5190808363173186,-0.4809405262899147,-0.6060097947295098,-0.28091497961513856,0.4121101917791854,-1.0014985512448502,-0.3208678522985861,0.929317723128794,-0.7368484520156479,-0.5663750175216068,-0.0437202488136335,-0.9378479167138489,-0.6658835586855361,0.015492029872189712,-0.6284917358123677,-0.9927743737159694,-0.870556618459835,0.6546946075153885,-0.500676385735638,0.416366609436472,-0.7438162521632903,-0.7063656047158534,-0.11749064725721761,0.3828103371499788,-0.5141223236991808,0.08619431910123328,-0.9225026744228533,2.1083222511434063,-0.9462277957690699,-0.45752519839745653,1.2561506420896842,-0.9197103658066978,-1.0027616150569045,-0.8228195471102264,-0.31849217713496747,-0.5707684309294437,-0.18642048374741468,-0.7303742421712494,-0.6349284296050827,-0.9411017310037776,-0.8613997321208094,-0.7990449192798658,0.8368837353737444,3.4583480058316702,-0.4811458836138896,-0.8747665200129643,-0.962253027339026,-0.41726691457125314,-0.06169248622826118,0.2311896211104838,2.5231078223234698,0.6198186607150488,2.1747980347757485,-0.5908832053884243,0.010188252276362934,-0.6611925652957925,-0.7063480506896885,-0.12609888560622806,-0.6520155517168842,-0.504737478711198,-0.732576124215117,-0.13322088031970303,-0.567356940180963,-0.0535495080494437,-0.9701478535432579,-0.07818656312010715,1.8793620396693997,1.1782667661521766,-0.2642081024922236,2.6218307898388256,-0.2806761787735502,-0.8948313171268637,-0.8505480190118181,-0.2204612223739051,1.9825499749335997,0.07014983179716411,2.3824937615537958,-0.1272764179420888,0.8951719246882965,-0.9413153036119977,2.288528108604214,0.2104470361990229,0.4087187861409248,-0.19040759373081798,2.7130750070040084,-0.5055006286402302,-0.08266778383200044,-0.6453583504430244,-0.37073717196803563,-0.5509949645641364,-1.0019406235790693,-0.13996070942731095,-0.011632645484715324,-0.7334501908073568,-0.3975556761961109,-0.8159984573177318,-0.6033244335014692,-0.5304534496639072,-0.36176020820166177,-0.8740094664939604,1.0631493129635368,-0.5465814610896487,-0.5772744569299713,-0.5748196193038876,-0.8118103723213562,-0.8658360145257206,-0.8826223514969556,2.724772307879262,-0.6932759184851992,0.5327562214878996,1.1522062117310297,-0.6607126010472119,-0.9572375901118046,-0.10947843624743105,1.3267176752754297,-0.4978411585580992,-0.2352244144608632,2.5552244620768443,0.023508569498310473,-0.017061626655868422,0.5392293078746238,-0.9127150079031563,-0.9612046843750209,-0.9213247910064692,-0.37847004266169043,2.9245533414258174,-0.7111764569962511,-0.42498402794495066,-0.0516983224054782,-0.7191971930672151,-0.695841771903109,-0.46563204006452885,0.1569244634720314,0.3490883465957705,-0.8782282896227404,1.6903300013314362,0.09188287682023581,-0.4661877881418327,-0.6619242708010145,-0.8919170266154781,0.7024832050947402,1.800750015291925,-0.018875845585910146,-0.6629387737329328,0.014927095876252546,0.015868652536147724,-0.6428623290063782,-0.7393352214479153,-0.5799013653160622,0.9964830487346176,-0.8555504621293183,-0.10227564344928843,0.016553003474315413,-0.5766532591824064,-0.8544356203838414,-0.5809039686834202,-0.26214994868423525,-0.4892228834364815,-0.7101764268426108,-0.08563013107148695,1.5561739651810007,-0.35559306577401717,-0.9059050576891481,-0.31248463591321424,-1.003557345258499,-0.3073695248602491,-0.9130533090954065,-0.9617087947028862,-0.023753494033634612,-0.13186520559596168,-0.5047569987882934,2.129353990104215,-0.5709515834429097,0.5504146053057757,-0.1433688628456407,2.8245437340086776,-0.7222543609605058,2.12532779866303,0.556707261085679,-0.7760687146452311,2.373229803915882,-0.054564955181451706,2.293489206827147,1.2555049860076868,-0.8707056707285912,-0.8192268451170556,0.09947992478532432,-0.3114166200488271,1.0901401415556675,-0.7041500842262453,0.8836457858940491,-0.47518929863232384,-0.8252914885533336,-0.3860724683543242,-0.2121170585338014,-0.6838260409932243,-0.8874162114800255,-0.9508982323615845,-0.9043669450040643,0.2369454665095457,-0.4515524802332555,-0.8564312612068872,-0.29455690724822275,-0.6923626341333274,1.0116646618935299,-0.7244718433706853,0.4898210808430377,0.29127207063384614,-0.6902129433070173,-0.4663829889127866,-0.401501916276243,1.2448709502577866,-0.7229446843979286,0.10751064806458639,-0.8171099534723397,-0.5060152176891263,-0.26037769420262524,-0.6431757984797334,0.2602185943989907,-0.436491972507373,-0.48340898997066145,0.05101375418708447,-0.5550105740253133,-0.6610725742336473,0.33797438459659346,1.751472062264494,-0.9332523470103378,0.6576985565577783,-0.38353532919286104,-0.7300025222435401,-0.729599754406494,0.9619439955001476,0.8236805287015074,-0.27365286659963567,-0.4131497643620203,0.45411773637790226,1.9255618376228936,-0.3721596676412584,-0.6515134487435402,-0.09462073328360124,-0.8724291787121308,-0.7668008579483295,-0.06403142184770637,1.0531199931762583,-0.3694052137662327,1.844219176673094,2.390710987067752,-0.9548890844503303,-0.38830005362285636,-0.9293510576282651,0.26272986512142543,0.6877014875211576,-0.2825157581084513,-0.5280616330569351,0.6944671115474018,2.5734929908013404,-0.7544430961319293,0.03944080603318354,-0.026463298726814872,-0.09714144187657393,2.000252537072384,2.1853809110717934,-0.9102970337320189,0.7619056480164562,0.575312141472931,-0.9554117111780303,1.6691107316765186,-0.835073380831012,-0.1550005405755507,0.7112806923672448,-0.49113059717505714,2.5799029116063847,-0.7993278612691305,2.185554051594807,-0.4334635766955564,0.09286167692811423,-0.32897447505662614,0.9945133763052904,-0.8192114553990577,-0.22105026940625408,-0.4124493380662447,0.38485703912433333,-0.8912854947094508,-0.727579314907426,-0.9325392900764417,-0.14177033539803616,2.9490619671106995,-0.5553042466875137,-0.6246387716317372,-0.5142233688041451,-0.3545696164842933,-0.6206284862034372,0.08916884676969873,-0.1934307687687352,2.1974569452245034,0.05815820566297318,-0.9384915051380821,-0.09696191994875457,-0.005463359400699137,-0.7193086590681828,-0.38982950907527136,-0.9225700240582992,1.7679361857921638,0.15621944421693928,-0.11452442326268202,-0.7282665364451665,-0.612492583329754,-0.7594842572356107,0.14450786469028573,0.47522571350693443,-0.20437611711846984,-0.1583740485417695,-0.29090215487032833,-0.22248883630672586,2.346511427853052,-0.16388303063828458,-0.7995501448046876,1.704774800556995,-0.16282530349840948,-0.7194452583042594,2.591451329557604,-0.9578955315339022,0.807497090334891,-0.8296488067530161,0.2896110145059342,-0.16661879050803424,-0.8094688221846023,-0.15754338376292754,0.5906564172598979,-0.24216218276750662,-0.35374572136401233,-0.2293568965428787,-0.8563336608214104,-0.38536752344569564,-0.14522485209723668,2.3690766534967547,0.9012865867732465,-0.6574088052818426,-0.898297456656565,-0.20345619940988713,-0.3343954970257981,1.88791704595036,2.0661978669465357,-0.6259139373959477,1.7261473437076666,-0.40669646652573294,2.7583380758613205,0.4653319678006049,2.2827484640760316,0.08130082659601041,-0.2524298920126071,-0.6140936839910764,0.08987183140989935,-0.9534128775874018,-0.3872723789757758,-0.7911285078189897,0.6144816246416961,-0.2709007215953457,0.528926637617977,-0.18048310080529392,-0.4664748480991178,-0.8338480106760825,-0.7902259004453852,1.951868170714288,-0.34880014916092744,-0.4391319534800079,1.143908859728795,-0.572661622325432,-0.3006922293893792,-0.16367068474671645,3.248148025811295,-0.9094103612838129,-0.20473878329903702,-0.6022634598993435,-0.9141877700465971,-0.08546399150714394,2.285812025765205,-0.6311159305525316,-0.18629964596165458,-0.4991296612518359,2.1851519363544982,0.09546512074417157,-0.8930416407905799,-0.7666426651948903,-0.45790557555783434,-0.6729373983435412,0.47026200654919564,-0.9144277521708875,-0.5052972580189812,-0.6643627687265079,-0.18899870346046277,-0.7220648559547477,-0.7104037783287808,-0.5913079343447923,0.32285035607814866,0.7606616135948362,-0.17981926123040498,-0.5627679418787762,-0.7299588891300328,-0.9182664955251448,0.8770603124362786,-0.5595427427166758,-0.8567135423386965,0.502247257927531,-0.4642233273996148,-0.8607452354181995,-0.8787281374200171,-0.3158105497515512,0.4178119129526319,-0.38549458155225697,1.9986742814272307,0.04744749475285663,0.7022370480835989,-0.011874354099108574,-0.6561506648578327,0.03759036302778381,-0.020755980916790907,-0.37992951330955527,-0.7547272854896416,0.459980034348059,1.655210722685578,-0.6253846731811777,-0.5680746231170486,-0.6885901128264823,-0.5841707688223519,-0.3748047289555833,-0.9264475886577153,-0.27312926923754777,0.40915576243808904,-0.6735725071405468,1.9528491268696158,2.0771618638675964,0.5804345054364718,-0.07626710264025778,-0.652353708346566,0.8502421782883783,-0.9555971519104365,-0.20350967103876505,-0.769432272556196,-0.031420848971282916,-0.6488596765018784,-0.7610026515863623,2.3453153502048427,-0.47360831695016603,-0.7064746874996217,-0.5515610467999026,-0.39880725760987384,1.0619361827147573,-0.5296725144086006,-0.7000764927840558,-0.5476754899556326,-0.504598541691872,-0.2210730565973957,-0.11004650518592315,3.8619664391173902,0.5697346102846881,-0.06531859869617265,-0.15901083426456888,-0.39276935824875303,-0.8732284527618309,0.09742956496495309,-0.08641301172592841,-0.5191791429942012,-0.8287141395320959,2.8085972436045585,2.999238792014967,-0.7413293299077361,-0.8342340175159104,-1.002395326551409,-0.6323623779299362,-0.34435830316231175,-0.5957009801506695,-0.961255206927503,2.010419696855612,0.44426137785605235,-0.9936700007826988,0.2447175590931917,0.21134217010087616,-0.7315083603026348,-0.5614322167894764,-0.1514754773429626,-0.16228079412821028,1.3872354819951898,-0.25382296300761853,-0.7208457556849283,-0.825515151628829,-0.536965662942363,-0.49008150248569626,-0.2395203266118415,1.1280912877449747,-0.21196608564806504,1.7333986310519747,-0.9408904548752157,-0.38454653196786037,-0.8242455742404778,-0.8466090483636975,0.0997818664264382,-0.7040915239949592,0.31167021746550944,-0.19091281925563974,-0.8697275893031957,-0.7363090890728842,0.7592939484386345,-0.750181358572125,-0.4119406678219354,0.9305927278089998,0.08368414292395958,-0.9541186155249771,2.81966875377293,-0.3912070003557664,-0.7878905458472775,-0.6441685963745937,2.0713043538097056,-0.5057996005531529,-0.5069206047944034,1.7808647714965744,-0.9710538147684497,-0.32782897365556746,-0.11063555221827229,-0.9339272476868901,-0.9550626462699716,-0.7376805954630468,-0.6615970224497095,-0.8722982793716088,4.074388669634486,2.763023625437773,-0.8311633350876523,2.02877472356033,0.659945115869933,-0.8926369729883491,0.23500770440853488,0.6775487765601249,1.7042052240374317,-0.5282284252180154,-0.522863183748457,-0.7186006370420267,-0.7215046140467454,1.9104689966199229,0.453963901153311,-0.16505665648051074,-0.9531832296215739,-1.000121811689711,0.5143368413102248,-0.5013199741598712,-0.6480862956733613,1.2251397457267663,-0.02387980041484009,2.529923757427811,-0.7459866030458067,-0.010498184533524756,-0.5138497943452011,-0.32154990675709555,0.7538171327527,-0.24329601590411443,-0.05297240601560503,-0.20441022727604158,-0.15354504746349695,-0.22055076442878258,-0.9140023293141911,-0.9615962341567577,-0.9303615086779086,1.31105346600312],\"type\":\"scatter3d\"},{\"colorscale\":[[0.0,\"#440154\"],[0.1111111111111111,\"#482878\"],[0.2222222222222222,\"#3e4989\"],[0.3333333333333333,\"#31688e\"],[0.4444444444444444,\"#26828e\"],[0.5555555555555556,\"#1f9e89\"],[0.6666666666666666,\"#35b779\"],[0.7777777777777778,\"#6ece58\"],[0.8888888888888888,\"#b5de2b\"],[1.0,\"#fde725\"]],\"name\":\"Regression Plane (PCA)\",\"opacity\":0.8,\"x\":[[-1.8286032022733965,-1.077771024368249,-0.3269388464631018,0.42389333144204544,1.1747255093471929,1.9255576872523403,2.6763898651574873,3.427222043062635,4.178054220967782,4.92888639887293],[-1.8286032022733965,-1.077771024368249,-0.3269388464631018,0.42389333144204544,1.1747255093471929,1.9255576872523403,2.6763898651574873,3.427222043062635,4.178054220967782,4.92888639887293],[-1.8286032022733965,-1.077771024368249,-0.3269388464631018,0.42389333144204544,1.1747255093471929,1.9255576872523403,2.6763898651574873,3.427222043062635,4.178054220967782,4.92888639887293],[-1.8286032022733965,-1.077771024368249,-0.3269388464631018,0.42389333144204544,1.1747255093471929,1.9255576872523403,2.6763898651574873,3.427222043062635,4.178054220967782,4.92888639887293],[-1.8286032022733965,-1.077771024368249,-0.3269388464631018,0.42389333144204544,1.1747255093471929,1.9255576872523403,2.6763898651574873,3.427222043062635,4.178054220967782,4.92888639887293],[-1.8286032022733965,-1.077771024368249,-0.3269388464631018,0.42389333144204544,1.1747255093471929,1.9255576872523403,2.6763898651574873,3.427222043062635,4.178054220967782,4.92888639887293],[-1.8286032022733965,-1.077771024368249,-0.3269388464631018,0.42389333144204544,1.1747255093471929,1.9255576872523403,2.6763898651574873,3.427222043062635,4.178054220967782,4.92888639887293],[-1.8286032022733965,-1.077771024368249,-0.3269388464631018,0.42389333144204544,1.1747255093471929,1.9255576872523403,2.6763898651574873,3.427222043062635,4.178054220967782,4.92888639887293],[-1.8286032022733965,-1.077771024368249,-0.3269388464631018,0.42389333144204544,1.1747255093471929,1.9255576872523403,2.6763898651574873,3.427222043062635,4.178054220967782,4.92888639887293],[-1.8286032022733965,-1.077771024368249,-0.3269388464631018,0.42389333144204544,1.1747255093471929,1.9255576872523403,2.6763898651574873,3.427222043062635,4.178054220967782,4.92888639887293]],\"y\":[[-1.8683141224589301,-1.8683141224589301,-1.8683141224589301,-1.8683141224589301,-1.8683141224589301,-1.8683141224589301,-1.8683141224589301,-1.8683141224589301,-1.8683141224589301,-1.8683141224589301],[-1.3978570355710702,-1.3978570355710702,-1.3978570355710702,-1.3978570355710702,-1.3978570355710702,-1.3978570355710702,-1.3978570355710702,-1.3978570355710702,-1.3978570355710702,-1.3978570355710702],[-0.9273999486832103,-0.9273999486832103,-0.9273999486832103,-0.9273999486832103,-0.9273999486832103,-0.9273999486832103,-0.9273999486832103,-0.9273999486832103,-0.9273999486832103,-0.9273999486832103],[-0.4569428617953504,-0.4569428617953504,-0.4569428617953504,-0.4569428617953504,-0.4569428617953504,-0.4569428617953504,-0.4569428617953504,-0.4569428617953504,-0.4569428617953504,-0.4569428617953504],[0.013514225092509546,0.013514225092509546,0.013514225092509546,0.013514225092509546,0.013514225092509546,0.013514225092509546,0.013514225092509546,0.013514225092509546,0.013514225092509546,0.013514225092509546],[0.4839713119803697,0.4839713119803697,0.4839713119803697,0.4839713119803697,0.4839713119803697,0.4839713119803697,0.4839713119803697,0.4839713119803697,0.4839713119803697,0.4839713119803697],[0.9544283988682294,0.9544283988682294,0.9544283988682294,0.9544283988682294,0.9544283988682294,0.9544283988682294,0.9544283988682294,0.9544283988682294,0.9544283988682294,0.9544283988682294],[1.424885485756089,1.424885485756089,1.424885485756089,1.424885485756089,1.424885485756089,1.424885485756089,1.424885485756089,1.424885485756089,1.424885485756089,1.424885485756089],[1.8953425726439492,1.8953425726439492,1.8953425726439492,1.8953425726439492,1.8953425726439492,1.8953425726439492,1.8953425726439492,1.8953425726439492,1.8953425726439492,1.8953425726439492],[2.365799659531809,2.365799659531809,2.365799659531809,2.365799659531809,2.365799659531809,2.365799659531809,2.365799659531809,2.365799659531809,2.365799659531809,2.365799659531809]],\"z\":[[-1.220253734524216,-0.819570862695511,-0.41888799086680606,-0.01820511903810116,0.38247775279060386,0.7831606246193088,1.1838434964480138,1.5845263682767188,1.9852092401054238,2.3858921119341288],[-1.1587076156518996,-0.7580247438231947,-0.3573418719944898,0.04334099983421509,0.4440238716629201,0.8447067434916251,1.24538961532033,1.646072487149035,2.04675535897774,2.447438230806445],[-1.0971614967795835,-0.6964786249508785,-0.29579575312217354,0.10488711870653135,0.5055699905352363,0.9062528623639413,1.3069357341926462,1.7076186060213512,2.1083014778500564,2.5089843496787614],[-1.0356153779072672,-0.6349325060785622,-0.23424963424985729,0.16643323757884762,0.5671161094075526,0.9677989812362576,1.3684818530649625,1.7691647248936675,2.1698475967223727,2.5705304685510777],[-0.974069259034951,-0.573386387206246,-0.17270351537754103,0.22797935645116388,0.6286622282798688,1.029345100108574,1.4300279719372788,1.8307108437659838,2.231393715594689,2.632076587423394],[-0.9125231401626347,-0.5118402683339297,-0.11115739650522476,0.28952547532348016,0.6902083471521852,1.0908912189808904,1.4915740908095951,1.8922569626383001,2.2929398344670053,2.6936227062957103],[-0.8509770212903185,-0.45029414946161345,-0.049611277632908526,0.3510715941957964,0.7517544660245014,1.1524373378532065,1.5531202096819112,1.9538030815106162,2.354485953339321,2.755168825168026],[-0.7894309024180023,-0.3887480305892972,0.011934841239407705,0.4126177130681126,0.8133005848968176,1.2139834567255228,1.6146663285542275,2.0153492003829325,2.4160320722116375,2.8167149440403425],[-0.727884783545686,-0.32720191171698093,0.07348096011172399,0.47416383194042894,0.8748467037691339,1.275529575597839,1.6762124474265439,2.076895319255249,2.477578191083954,2.878261062912659],[-0.6663386646733698,-0.2656557928446647,0.13502707898404023,0.5357099508127451,0.9363928226414501,1.3370756944701552,1.73775856629886,2.138441438127565,2.53912430995627,2.939807181784975]],\"type\":\"surface\"}],                        {\"template\":{\"data\":{\"histogram2dcontour\":[{\"type\":\"histogram2dcontour\",\"colorbar\":{\"outlinewidth\":0,\"ticks\":\"\"},\"colorscale\":[[0.0,\"#0d0887\"],[0.1111111111111111,\"#46039f\"],[0.2222222222222222,\"#7201a8\"],[0.3333333333333333,\"#9c179e\"],[0.4444444444444444,\"#bd3786\"],[0.5555555555555556,\"#d8576b\"],[0.6666666666666666,\"#ed7953\"],[0.7777777777777778,\"#fb9f3a\"],[0.8888888888888888,\"#fdca26\"],[1.0,\"#f0f921\"]]}],\"choropleth\":[{\"type\":\"choropleth\",\"colorbar\":{\"outlinewidth\":0,\"ticks\":\"\"}}],\"histogram2d\":[{\"type\":\"histogram2d\",\"colorbar\":{\"outlinewidth\":0,\"ticks\":\"\"},\"colorscale\":[[0.0,\"#0d0887\"],[0.1111111111111111,\"#46039f\"],[0.2222222222222222,\"#7201a8\"],[0.3333333333333333,\"#9c179e\"],[0.4444444444444444,\"#bd3786\"],[0.5555555555555556,\"#d8576b\"],[0.6666666666666666,\"#ed7953\"],[0.7777777777777778,\"#fb9f3a\"],[0.8888888888888888,\"#fdca26\"],[1.0,\"#f0f921\"]]}],\"heatmap\":[{\"type\":\"heatmap\",\"colorbar\":{\"outlinewidth\":0,\"ticks\":\"\"},\"colorscale\":[[0.0,\"#0d0887\"],[0.1111111111111111,\"#46039f\"],[0.2222222222222222,\"#7201a8\"],[0.3333333333333333,\"#9c179e\"],[0.4444444444444444,\"#bd3786\"],[0.5555555555555556,\"#d8576b\"],[0.6666666666666666,\"#ed7953\"],[0.7777777777777778,\"#fb9f3a\"],[0.8888888888888888,\"#fdca26\"],[1.0,\"#f0f921\"]]}],\"heatmapgl\":[{\"type\":\"heatmapgl\",\"colorbar\":{\"outlinewidth\":0,\"ticks\":\"\"},\"colorscale\":[[0.0,\"#0d0887\"],[0.1111111111111111,\"#46039f\"],[0.2222222222222222,\"#7201a8\"],[0.3333333333333333,\"#9c179e\"],[0.4444444444444444,\"#bd3786\"],[0.5555555555555556,\"#d8576b\"],[0.6666666666666666,\"#ed7953\"],[0.7777777777777778,\"#fb9f3a\"],[0.8888888888888888,\"#fdca26\"],[1.0,\"#f0f921\"]]}],\"contourcarpet\":[{\"type\":\"contourcarpet\",\"colorbar\":{\"outlinewidth\":0,\"ticks\":\"\"}}],\"contour\":[{\"type\":\"contour\",\"colorbar\":{\"outlinewidth\":0,\"ticks\":\"\"},\"colorscale\":[[0.0,\"#0d0887\"],[0.1111111111111111,\"#46039f\"],[0.2222222222222222,\"#7201a8\"],[0.3333333333333333,\"#9c179e\"],[0.4444444444444444,\"#bd3786\"],[0.5555555555555556,\"#d8576b\"],[0.6666666666666666,\"#ed7953\"],[0.7777777777777778,\"#fb9f3a\"],[0.8888888888888888,\"#fdca26\"],[1.0,\"#f0f921\"]]}],\"surface\":[{\"type\":\"surface\",\"colorbar\":{\"outlinewidth\":0,\"ticks\":\"\"},\"colorscale\":[[0.0,\"#0d0887\"],[0.1111111111111111,\"#46039f\"],[0.2222222222222222,\"#7201a8\"],[0.3333333333333333,\"#9c179e\"],[0.4444444444444444,\"#bd3786\"],[0.5555555555555556,\"#d8576b\"],[0.6666666666666666,\"#ed7953\"],[0.7777777777777778,\"#fb9f3a\"],[0.8888888888888888,\"#fdca26\"],[1.0,\"#f0f921\"]]}],\"mesh3d\":[{\"type\":\"mesh3d\",\"colorbar\":{\"outlinewidth\":0,\"ticks\":\"\"}}],\"scatter\":[{\"fillpattern\":{\"fillmode\":\"overlay\",\"size\":10,\"solidity\":0.2},\"type\":\"scatter\"}],\"parcoords\":[{\"type\":\"parcoords\",\"line\":{\"colorbar\":{\"outlinewidth\":0,\"ticks\":\"\"}}}],\"scatterpolargl\":[{\"type\":\"scatterpolargl\",\"marker\":{\"colorbar\":{\"outlinewidth\":0,\"ticks\":\"\"}}}],\"bar\":[{\"error_x\":{\"color\":\"#2a3f5f\"},\"error_y\":{\"color\":\"#2a3f5f\"},\"marker\":{\"line\":{\"color\":\"#E5ECF6\",\"width\":0.5},\"pattern\":{\"fillmode\":\"overlay\",\"size\":10,\"solidity\":0.2}},\"type\":\"bar\"}],\"scattergeo\":[{\"type\":\"scattergeo\",\"marker\":{\"colorbar\":{\"outlinewidth\":0,\"ticks\":\"\"}}}],\"scatterpolar\":[{\"type\":\"scatterpolar\",\"marker\":{\"colorbar\":{\"outlinewidth\":0,\"ticks\":\"\"}}}],\"histogram\":[{\"marker\":{\"pattern\":{\"fillmode\":\"overlay\",\"size\":10,\"solidity\":0.2}},\"type\":\"histogram\"}],\"scattergl\":[{\"type\":\"scattergl\",\"marker\":{\"colorbar\":{\"outlinewidth\":0,\"ticks\":\"\"}}}],\"scatter3d\":[{\"type\":\"scatter3d\",\"line\":{\"colorbar\":{\"outlinewidth\":0,\"ticks\":\"\"}},\"marker\":{\"colorbar\":{\"outlinewidth\":0,\"ticks\":\"\"}}}],\"scattermapbox\":[{\"type\":\"scattermapbox\",\"marker\":{\"colorbar\":{\"outlinewidth\":0,\"ticks\":\"\"}}}],\"scatterternary\":[{\"type\":\"scatterternary\",\"marker\":{\"colorbar\":{\"outlinewidth\":0,\"ticks\":\"\"}}}],\"scattercarpet\":[{\"type\":\"scattercarpet\",\"marker\":{\"colorbar\":{\"outlinewidth\":0,\"ticks\":\"\"}}}],\"carpet\":[{\"aaxis\":{\"endlinecolor\":\"#2a3f5f\",\"gridcolor\":\"white\",\"linecolor\":\"white\",\"minorgridcolor\":\"white\",\"startlinecolor\":\"#2a3f5f\"},\"baxis\":{\"endlinecolor\":\"#2a3f5f\",\"gridcolor\":\"white\",\"linecolor\":\"white\",\"minorgridcolor\":\"white\",\"startlinecolor\":\"#2a3f5f\"},\"type\":\"carpet\"}],\"table\":[{\"cells\":{\"fill\":{\"color\":\"#EBF0F8\"},\"line\":{\"color\":\"white\"}},\"header\":{\"fill\":{\"color\":\"#C8D4E3\"},\"line\":{\"color\":\"white\"}},\"type\":\"table\"}],\"barpolar\":[{\"marker\":{\"line\":{\"color\":\"#E5ECF6\",\"width\":0.5},\"pattern\":{\"fillmode\":\"overlay\",\"size\":10,\"solidity\":0.2}},\"type\":\"barpolar\"}],\"pie\":[{\"automargin\":true,\"type\":\"pie\"}]},\"layout\":{\"autotypenumbers\":\"strict\",\"colorway\":[\"#636efa\",\"#EF553B\",\"#00cc96\",\"#ab63fa\",\"#FFA15A\",\"#19d3f3\",\"#FF6692\",\"#B6E880\",\"#FF97FF\",\"#FECB52\"],\"font\":{\"color\":\"#2a3f5f\"},\"hovermode\":\"closest\",\"hoverlabel\":{\"align\":\"left\"},\"paper_bgcolor\":\"white\",\"plot_bgcolor\":\"#E5ECF6\",\"polar\":{\"bgcolor\":\"#E5ECF6\",\"angularaxis\":{\"gridcolor\":\"white\",\"linecolor\":\"white\",\"ticks\":\"\"},\"radialaxis\":{\"gridcolor\":\"white\",\"linecolor\":\"white\",\"ticks\":\"\"}},\"ternary\":{\"bgcolor\":\"#E5ECF6\",\"aaxis\":{\"gridcolor\":\"white\",\"linecolor\":\"white\",\"ticks\":\"\"},\"baxis\":{\"gridcolor\":\"white\",\"linecolor\":\"white\",\"ticks\":\"\"},\"caxis\":{\"gridcolor\":\"white\",\"linecolor\":\"white\",\"ticks\":\"\"}},\"coloraxis\":{\"colorbar\":{\"outlinewidth\":0,\"ticks\":\"\"}},\"colorscale\":{\"sequential\":[[0.0,\"#0d0887\"],[0.1111111111111111,\"#46039f\"],[0.2222222222222222,\"#7201a8\"],[0.3333333333333333,\"#9c179e\"],[0.4444444444444444,\"#bd3786\"],[0.5555555555555556,\"#d8576b\"],[0.6666666666666666,\"#ed7953\"],[0.7777777777777778,\"#fb9f3a\"],[0.8888888888888888,\"#fdca26\"],[1.0,\"#f0f921\"]],\"sequentialminus\":[[0.0,\"#0d0887\"],[0.1111111111111111,\"#46039f\"],[0.2222222222222222,\"#7201a8\"],[0.3333333333333333,\"#9c179e\"],[0.4444444444444444,\"#bd3786\"],[0.5555555555555556,\"#d8576b\"],[0.6666666666666666,\"#ed7953\"],[0.7777777777777778,\"#fb9f3a\"],[0.8888888888888888,\"#fdca26\"],[1.0,\"#f0f921\"]],\"diverging\":[[0,\"#8e0152\"],[0.1,\"#c51b7d\"],[0.2,\"#de77ae\"],[0.3,\"#f1b6da\"],[0.4,\"#fde0ef\"],[0.5,\"#f7f7f7\"],[0.6,\"#e6f5d0\"],[0.7,\"#b8e186\"],[0.8,\"#7fbc41\"],[0.9,\"#4d9221\"],[1,\"#276419\"]]},\"xaxis\":{\"gridcolor\":\"white\",\"linecolor\":\"white\",\"ticks\":\"\",\"title\":{\"standoff\":15},\"zerolinecolor\":\"white\",\"automargin\":true,\"zerolinewidth\":2},\"yaxis\":{\"gridcolor\":\"white\",\"linecolor\":\"white\",\"ticks\":\"\",\"title\":{\"standoff\":15},\"zerolinecolor\":\"white\",\"automargin\":true,\"zerolinewidth\":2},\"scene\":{\"xaxis\":{\"backgroundcolor\":\"#E5ECF6\",\"gridcolor\":\"white\",\"linecolor\":\"white\",\"showbackground\":true,\"ticks\":\"\",\"zerolinecolor\":\"white\",\"gridwidth\":2},\"yaxis\":{\"backgroundcolor\":\"#E5ECF6\",\"gridcolor\":\"white\",\"linecolor\":\"white\",\"showbackground\":true,\"ticks\":\"\",\"zerolinecolor\":\"white\",\"gridwidth\":2},\"zaxis\":{\"backgroundcolor\":\"#E5ECF6\",\"gridcolor\":\"white\",\"linecolor\":\"white\",\"showbackground\":true,\"ticks\":\"\",\"zerolinecolor\":\"white\",\"gridwidth\":2}},\"shapedefaults\":{\"line\":{\"color\":\"#2a3f5f\"}},\"annotationdefaults\":{\"arrowcolor\":\"#2a3f5f\",\"arrowhead\":0,\"arrowwidth\":1},\"geo\":{\"bgcolor\":\"white\",\"landcolor\":\"#E5ECF6\",\"subunitcolor\":\"white\",\"showland\":true,\"showlakes\":true,\"lakecolor\":\"white\"},\"title\":{\"x\":0.05},\"mapbox\":{\"style\":\"light\"}}},\"scene\":{\"xaxis\":{\"title\":{\"text\":\"Principal Component 1\"}},\"yaxis\":{\"title\":{\"text\":\"Principal Component 2\"}},\"zaxis\":{\"title\":{\"text\":\"Y\"}}}},                        {\"responsive\": true}                    ).then(function(){\n",
              "                            \n",
              "var gd = document.getElementById('d4d85a0b-26d6-41e0-8c5d-b5cdce8544b1');\n",
              "var x = new MutationObserver(function (mutations, observer) {{\n",
              "        var display = window.getComputedStyle(gd).display;\n",
              "        if (!display || display === 'none') {{\n",
              "            console.log([gd, 'removed!']);\n",
              "            Plotly.purge(gd);\n",
              "            observer.disconnect();\n",
              "        }}\n",
              "}});\n",
              "\n",
              "// Listen for the removal of the full notebook cells\n",
              "var notebookContainer = gd.closest('#notebook-container');\n",
              "if (notebookContainer) {{\n",
              "    x.observe(notebookContainer, {childList: true});\n",
              "}}\n",
              "\n",
              "// Listen for the clearing of the current output cell\n",
              "var outputEl = gd.closest('.output');\n",
              "if (outputEl) {{\n",
              "    x.observe(outputEl, {childList: true});\n",
              "}}\n",
              "\n",
              "                        })                };                            </script>        </div>\n",
              "</body>\n",
              "</html>"
            ]
          },
          "metadata": {}
        }
      ]
    }
  ]
}